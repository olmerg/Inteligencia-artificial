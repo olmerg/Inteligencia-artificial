{
  "nbformat": 4,
  "nbformat_minor": 0,
  "metadata": {
    "colab": {
      "name": "Iris_clasiffication_2021_blank.ipynb",
      "provenance": [],
      "collapsed_sections": []
    },
    "kernelspec": {
      "display_name": "Python 3",
      "language": "python",
      "name": "python3"
    }
  },
  "cells": [
    {
      "cell_type": "code",
      "metadata": {
        "id": "M6npwLt4pbGw"
      },
      "source": [
        "import pandas as pd\n",
        "import numpy as np\n",
        "from matplotlib import pyplot as plt\n",
        "from IPython.display import display, HTML\n",
        "import matplotlib\n",
        "matplotlib.rcParams.update({'font.size': 12})\n",
        "from sklearn import svm, datasets\n",
        "from sklearn.model_selection import train_test_split\n",
        "from sklearn.metrics import classification_report\n"
      ],
      "execution_count": null,
      "outputs": []
    },
    {
      "cell_type": "markdown",
      "metadata": {
        "collapsed": true,
        "id": "JWK6I16_4wp7"
      },
      "source": [
        "#  Linear Regression\n",
        "\n",
        "\n",
        "## Exercise \n",
        "\n",
        "This is perhaps the best known database to be found in the pattern recognition literature. Fisher's paper is a classic in the field and is referenced frequently to this day. (See Duda & Hart, for example.) The data set contains 3 classes of 50 instances each, where each class refers to a type of iris plant. One class is linearly separable from the other 2; the latter are NOT linearly separable from each other.\n",
        "\n",
        "Predicted attribute: class of iris plant.\n",
        "[UCI Machine Learning Repository](https://archive.ics.uci.edu/ml/datasets/Iris)\n",
        "\n",
        "\n",
        "\n",
        "\n",
        "\n",
        "\n",
        "\n",
        "\n"
      ]
    },
    {
      "cell_type": "markdown",
      "metadata": {
        "id": "bxrdul7J15v8"
      },
      "source": [
        "### Understanding Data\n",
        "\n",
        "Attribute Information:\n",
        "\n",
        "1. sepal length in cm\n",
        "2. sepal width in cm\n",
        "3. petal length in cm\n",
        "4. petal width in cm\n",
        "5. class:\n",
        "    - Iris Setosa\n",
        "    - Iris Versicolour\n",
        "    - Iris Virginica\n",
        "\n",
        "Descriptive analytics\n",
        "\n",
        "- What questions would you ask to understand the data?\n",
        "- What visualization tools to use?"
      ]
    },
    {
      "cell_type": "code",
      "metadata": {
        "id": "b_97qoUWkLte",
        "colab": {
          "base_uri": "https://localhost:8080/"
        },
        "outputId": "bc384c91-7d18-4602-9a37-2f39076d74b1"
      },
      "source": [
        "# import some data to play with\n",
        "iris = datasets.load_iris()\n",
        "print(iris.data.shape) #get (numer of rows, number of columns or 'features')\n",
        "print(iris.DESCR) #get a description of the dataset"
      ],
      "execution_count": null,
      "outputs": [
        {
          "output_type": "stream",
          "text": [
            "(150, 4)\n",
            ".. _iris_dataset:\n",
            "\n",
            "Iris plants dataset\n",
            "--------------------\n",
            "\n",
            "**Data Set Characteristics:**\n",
            "\n",
            "    :Number of Instances: 150 (50 in each of three classes)\n",
            "    :Number of Attributes: 4 numeric, predictive attributes and the class\n",
            "    :Attribute Information:\n",
            "        - sepal length in cm\n",
            "        - sepal width in cm\n",
            "        - petal length in cm\n",
            "        - petal width in cm\n",
            "        - class:\n",
            "                - Iris-Setosa\n",
            "                - Iris-Versicolour\n",
            "                - Iris-Virginica\n",
            "                \n",
            "    :Summary Statistics:\n",
            "\n",
            "    ============== ==== ==== ======= ===== ====================\n",
            "                    Min  Max   Mean    SD   Class Correlation\n",
            "    ============== ==== ==== ======= ===== ====================\n",
            "    sepal length:   4.3  7.9   5.84   0.83    0.7826\n",
            "    sepal width:    2.0  4.4   3.05   0.43   -0.4194\n",
            "    petal length:   1.0  6.9   3.76   1.76    0.9490  (high!)\n",
            "    petal width:    0.1  2.5   1.20   0.76    0.9565  (high!)\n",
            "    ============== ==== ==== ======= ===== ====================\n",
            "\n",
            "    :Missing Attribute Values: None\n",
            "    :Class Distribution: 33.3% for each of 3 classes.\n",
            "    :Creator: R.A. Fisher\n",
            "    :Donor: Michael Marshall (MARSHALL%PLU@io.arc.nasa.gov)\n",
            "    :Date: July, 1988\n",
            "\n",
            "The famous Iris database, first used by Sir R.A. Fisher. The dataset is taken\n",
            "from Fisher's paper. Note that it's the same as in R, but not as in the UCI\n",
            "Machine Learning Repository, which has two wrong data points.\n",
            "\n",
            "This is perhaps the best known database to be found in the\n",
            "pattern recognition literature.  Fisher's paper is a classic in the field and\n",
            "is referenced frequently to this day.  (See Duda & Hart, for example.)  The\n",
            "data set contains 3 classes of 50 instances each, where each class refers to a\n",
            "type of iris plant.  One class is linearly separable from the other 2; the\n",
            "latter are NOT linearly separable from each other.\n",
            "\n",
            ".. topic:: References\n",
            "\n",
            "   - Fisher, R.A. \"The use of multiple measurements in taxonomic problems\"\n",
            "     Annual Eugenics, 7, Part II, 179-188 (1936); also in \"Contributions to\n",
            "     Mathematical Statistics\" (John Wiley, NY, 1950).\n",
            "   - Duda, R.O., & Hart, P.E. (1973) Pattern Classification and Scene Analysis.\n",
            "     (Q327.D83) John Wiley & Sons.  ISBN 0-471-22361-1.  See page 218.\n",
            "   - Dasarathy, B.V. (1980) \"Nosing Around the Neighborhood: A New System\n",
            "     Structure and Classification Rule for Recognition in Partially Exposed\n",
            "     Environments\".  IEEE Transactions on Pattern Analysis and Machine\n",
            "     Intelligence, Vol. PAMI-2, No. 1, 67-71.\n",
            "   - Gates, G.W. (1972) \"The Reduced Nearest Neighbor Rule\".  IEEE Transactions\n",
            "     on Information Theory, May 1972, 431-433.\n",
            "   - See also: 1988 MLC Proceedings, 54-64.  Cheeseman et al\"s AUTOCLASS II\n",
            "     conceptual clustering system finds 3 classes in the data.\n",
            "   - Many, many more ...\n"
          ],
          "name": "stdout"
        }
      ]
    },
    {
      "cell_type": "code",
      "metadata": {
        "id": "OcAjwW9vzCvp",
        "colab": {
          "base_uri": "https://localhost:8080/",
          "height": 872
        },
        "outputId": "c094ec96-fba4-4bd8-894a-9c1c5515dd08"
      },
      "source": [
        "#Using pandas\n",
        "iris_df=pd.DataFrame(iris.data,columns=iris.feature_names)\n",
        "iris_df['class']=iris.target\n",
        "iris_df.plot.box(figsize=(20,10))\n",
        "iris_df.describe(include='all')"
      ],
      "execution_count": null,
      "outputs": [
        {
          "output_type": "execute_result",
          "data": {
            "text/html": [
              "<div>\n",
              "<style scoped>\n",
              "    .dataframe tbody tr th:only-of-type {\n",
              "        vertical-align: middle;\n",
              "    }\n",
              "\n",
              "    .dataframe tbody tr th {\n",
              "        vertical-align: top;\n",
              "    }\n",
              "\n",
              "    .dataframe thead th {\n",
              "        text-align: right;\n",
              "    }\n",
              "</style>\n",
              "<table border=\"1\" class=\"dataframe\">\n",
              "  <thead>\n",
              "    <tr style=\"text-align: right;\">\n",
              "      <th></th>\n",
              "      <th>sepal length (cm)</th>\n",
              "      <th>sepal width (cm)</th>\n",
              "      <th>petal length (cm)</th>\n",
              "      <th>petal width (cm)</th>\n",
              "      <th>class</th>\n",
              "    </tr>\n",
              "  </thead>\n",
              "  <tbody>\n",
              "    <tr>\n",
              "      <th>count</th>\n",
              "      <td>150.000000</td>\n",
              "      <td>150.000000</td>\n",
              "      <td>150.000000</td>\n",
              "      <td>150.000000</td>\n",
              "      <td>150.000000</td>\n",
              "    </tr>\n",
              "    <tr>\n",
              "      <th>mean</th>\n",
              "      <td>5.843333</td>\n",
              "      <td>3.057333</td>\n",
              "      <td>3.758000</td>\n",
              "      <td>1.199333</td>\n",
              "      <td>1.000000</td>\n",
              "    </tr>\n",
              "    <tr>\n",
              "      <th>std</th>\n",
              "      <td>0.828066</td>\n",
              "      <td>0.435866</td>\n",
              "      <td>1.765298</td>\n",
              "      <td>0.762238</td>\n",
              "      <td>0.819232</td>\n",
              "    </tr>\n",
              "    <tr>\n",
              "      <th>min</th>\n",
              "      <td>4.300000</td>\n",
              "      <td>2.000000</td>\n",
              "      <td>1.000000</td>\n",
              "      <td>0.100000</td>\n",
              "      <td>0.000000</td>\n",
              "    </tr>\n",
              "    <tr>\n",
              "      <th>25%</th>\n",
              "      <td>5.100000</td>\n",
              "      <td>2.800000</td>\n",
              "      <td>1.600000</td>\n",
              "      <td>0.300000</td>\n",
              "      <td>0.000000</td>\n",
              "    </tr>\n",
              "    <tr>\n",
              "      <th>50%</th>\n",
              "      <td>5.800000</td>\n",
              "      <td>3.000000</td>\n",
              "      <td>4.350000</td>\n",
              "      <td>1.300000</td>\n",
              "      <td>1.000000</td>\n",
              "    </tr>\n",
              "    <tr>\n",
              "      <th>75%</th>\n",
              "      <td>6.400000</td>\n",
              "      <td>3.300000</td>\n",
              "      <td>5.100000</td>\n",
              "      <td>1.800000</td>\n",
              "      <td>2.000000</td>\n",
              "    </tr>\n",
              "    <tr>\n",
              "      <th>max</th>\n",
              "      <td>7.900000</td>\n",
              "      <td>4.400000</td>\n",
              "      <td>6.900000</td>\n",
              "      <td>2.500000</td>\n",
              "      <td>2.000000</td>\n",
              "    </tr>\n",
              "  </tbody>\n",
              "</table>\n",
              "</div>"
            ],
            "text/plain": [
              "       sepal length (cm)  sepal width (cm)  ...  petal width (cm)       class\n",
              "count         150.000000        150.000000  ...        150.000000  150.000000\n",
              "mean            5.843333          3.057333  ...          1.199333    1.000000\n",
              "std             0.828066          0.435866  ...          0.762238    0.819232\n",
              "min             4.300000          2.000000  ...          0.100000    0.000000\n",
              "25%             5.100000          2.800000  ...          0.300000    0.000000\n",
              "50%             5.800000          3.000000  ...          1.300000    1.000000\n",
              "75%             6.400000          3.300000  ...          1.800000    2.000000\n",
              "max             7.900000          4.400000  ...          2.500000    2.000000\n",
              "\n",
              "[8 rows x 5 columns]"
            ]
          },
          "metadata": {
            "tags": []
          },
          "execution_count": 3
        },
        {
          "output_type": "display_data",
          "data": {
            "image/png": "[encoded data removed]",
            "text/plain": [
              "<Figure size 1440x720 with 1 Axes>"
            ]
          },
          "metadata": {
            "tags": [],
            "needs_background": "light"
          }
        }
      ]
    },
    {
      "cell_type": "markdown",
      "metadata": {
        "id": "d8SVLsT_g4vY"
      },
      "source": [
        "### Preparing the data\n",
        "\n"
      ]
    },
    {
      "cell_type": "code",
      "metadata": {
        "id": "v2bUqh9Vg4Dh"
      },
      "source": [
        "# Normalize the data???\n",
        "X = iris.data[:, :4] # solo tomemos las dos primeras entradas para este ejemplo visual \n",
        "y = iris.target"
      ],
      "execution_count": null,
      "outputs": []
    },
    {
      "cell_type": "markdown",
      "metadata": {
        "id": "8fYJ96VUyKpj"
      },
      "source": [
        "#### Split training and text data\n",
        "\n",
        "Learning the parameters of a prediction function and testing it on the same data is a methodological mistake: a model that would just repeat the labels of the samples that it has just seen would have a perfect score but would fail to predict anything useful on yet-unseen data. This situation is called overfitting. To avoid it, it is common practice when performing a (supervised) machine learning experiment to hold out part of the available data as a test set X_test, y_test. Note that the word “experiment” is not intended to denote academic use only, because even in commercial settings machine learning usually starts out experimentally."
      ]
    },
    {
      "cell_type": "code",
      "metadata": {
        "id": "W2gK7DuPwJ58"
      },
      "source": [
        "X_train, X_test, y_train, y_test = train_test_split(\n",
        "    X, y, test_size=0.3, random_state=0)"
      ],
      "execution_count": null,
      "outputs": []
    },
    {
      "cell_type": "markdown",
      "metadata": {
        "id": "gfB6jO5ByV80"
      },
      "source": [
        "### Modeling\n",
        "\n",
        "#### Train the model\n",
        "\n",
        "Train the models consist in  make  the optimization to obtain the long memory parameters of the model."
      ]
    },
    {
      "cell_type": "code",
      "metadata": {
        "id": "JXRybOtixmsV",
        "colab": {
          "base_uri": "https://localhost:8080/"
        },
        "outputId": "e953c98d-25bf-4a78-bc1d-e26dbb5e7439"
      },
      "source": [
        "# Create linear regressor object (in an array to train all)\n",
        "models = [svm.SVC(kernel='linear', C=1,gamma=0.1)]\n",
        "\n",
        "for model in models:\n",
        "  model.fit(X_train, y_train)\n",
        "  # The coefficients\n",
        "  print( model.get_params())\n",
        "  print('pesos',model.class_weight_)\n",
        "  print('vectores de soporte',model.support_vectors_)\n",
        "  print('cantidad de vectores para cada clasificacion',model.n_support_)"
      ],
      "execution_count": null,
      "outputs": [
        {
          "output_type": "stream",
          "text": [
            "{'C': 1, 'break_ties': False, 'cache_size': 200, 'class_weight': None, 'coef0': 0.0, 'decision_function_shape': 'ovr', 'degree': 3, 'gamma': 0.1, 'kernel': 'linear', 'max_iter': -1, 'probability': False, 'random_state': None, 'shrinking': True, 'tol': 0.001, 'verbose': False}\n",
            "Intercept [1. 1. 1.]\n",
            "Coeff [[5.4 3.4]\n",
            " [4.5 2.3]\n",
            " [4.9 3. ]\n",
            " [5.4 3.4]\n",
            " [5.8 4. ]\n",
            " [5.  3. ]\n",
            " [5.5 3.5]\n",
            " [5.6 2.5]\n",
            " [6.3 3.3]\n",
            " [7.  3.2]\n",
            " [6.  3.4]\n",
            " [5.6 2.7]\n",
            " [5.6 2.9]\n",
            " [6.1 3. ]\n",
            " [5.7 3. ]\n",
            " [6.9 3.1]\n",
            " [5.1 2.5]\n",
            " [6.2 2.2]\n",
            " [5.7 2.9]\n",
            " [5.7 2.8]\n",
            " [6.6 3. ]\n",
            " [6.4 2.9]\n",
            " [4.9 2.4]\n",
            " [6.7 3.1]\n",
            " [5.7 2.8]\n",
            " [5.8 2.7]\n",
            " [5.7 2.6]\n",
            " [6.3 2.5]\n",
            " [6.7 3. ]\n",
            " [6.6 2.9]\n",
            " [5.6 3. ]\n",
            " [5.9 3.2]\n",
            " [6.3 2.3]\n",
            " [5.8 2.7]\n",
            " [6.5 3. ]\n",
            " [6.  2.2]\n",
            " [6.7 2.5]\n",
            " [6.3 2.7]\n",
            " [6.3 2.8]\n",
            " [4.9 2.5]\n",
            " [6.3 2.5]\n",
            " [6.5 3. ]\n",
            " [5.8 2.7]\n",
            " [6.4 2.7]\n",
            " [5.9 3. ]\n",
            " [6.5 3. ]\n",
            " [6.4 2.8]\n",
            " [6.5 3.2]\n",
            " [6.7 3.3]\n",
            " [6.2 3.4]\n",
            " [5.7 2.5]\n",
            " [6.  3. ]\n",
            " [6.3 3.4]\n",
            " [6.4 3.2]\n",
            " [6.7 3. ]\n",
            " [6.7 3.1]\n",
            " [5.8 2.7]\n",
            " [6.3 2.9]]\n",
            "Coeff [ 7 27 24]\n"
          ],
          "name": "stdout"
        }
      ]
    },
    {
      "cell_type": "markdown",
      "metadata": {
        "id": "o-zXy7ydFvSI"
      },
      "source": [
        "Understanding Classification\n",
        "\n",
        "**Not is a result only a way to understand classification**\n",
        "\n",
        "Never conclude over the train data"
      ]
    },
    {
      "cell_type": "code",
      "metadata": {
        "id": "3Rfy_9bO1hN1"
      },
      "source": [
        "'''\n",
        "@param X  es usado para obtener el max y minimo valor para hacer la grilla\n",
        "@param y solo es usado para comparar \n",
        "'''\n",
        "def visual(svc,X,y,title):\n",
        "  # create a mesh to plot in\n",
        "  x_min, x_max = X[:, 0].min() - 1, X[:, 0].max() + 1\n",
        "  y_min, y_max = X[:, 1].min() - 1, X[:, 1].max() + 1\n",
        "  h = (x_max / x_min)/100\n",
        "  xx, yy = np.meshgrid(np.arange(x_min, x_max, h),\n",
        "  np.arange(y_min, y_max, h))\n",
        "  plt.subplot(1, 1, 1)\n",
        "  Z = svc.predict(np.c_[xx.ravel(), yy.ravel()])\n",
        "  Z = Z.reshape(xx.shape)\n",
        "  plt.contourf(xx, yy, Z, cmap=plt.cm.Paired, alpha=0.8)\n",
        "  ##plot the data\n",
        "  plt.scatter(X[:, 0], X[:, 1], c=y, cmap=plt.cm.Paired)\n",
        "  plt.xlabel('Sepal length')\n",
        "  plt.ylabel('Sepal width')\n",
        "  plt.xlim(xx.min(), xx.max())\n",
        "  plt.title(title)\n",
        "  plt.show()"
      ],
      "execution_count": null,
      "outputs": []
    },
    {
      "cell_type": "code",
      "metadata": {
        "id": "XkZ7AwcH1kDb",
        "colab": {
          "base_uri": "https://localhost:8080/",
          "height": 465
        },
        "outputId": "cd30ff95-2fec-4627-e27e-e5b37a5697b9"
      },
      "source": [
        "for model in models:\n",
        "    visual(model,X_train,y_train,'SVC with linear kernel')\n",
        "    print(classification_report(y_test, model.predict(X_test), target_names=iris.target_names))"
      ],
      "execution_count": null,
      "outputs": [
        {
          "output_type": "display_data",
          "data": {
            "image/png": "[encoded data removed]",
            "text/plain": [
              "<Figure size 432x288 with 1 Axes>"
            ]
          },
          "metadata": {
            "tags": [],
            "needs_background": "light"
          }
        },
        {
          "output_type": "stream",
          "text": [
            "              precision    recall  f1-score   support\n",
            "\n",
            "      setosa       1.00      1.00      1.00        16\n",
            "  versicolor       0.76      0.72      0.74        18\n",
            "   virginica       0.58      0.64      0.61        11\n",
            "\n",
            "    accuracy                           0.80        45\n",
            "   macro avg       0.78      0.79      0.78        45\n",
            "weighted avg       0.80      0.80      0.80        45\n",
            "\n"
          ],
          "name": "stdout"
        }
      ]
    },
    {
      "cell_type": "markdown",
      "metadata": {
        "id": "AdUFbMvdsHBL"
      },
      "source": [
        "## Hyperparameters\n",
        "\n",
        "Los hiperparámetros son parámetros que no se aprenden directamente dentro de los estimadores. \n",
        "En scikit-learn se pasan como argumentos al constructor de las clases de estimador.\n",
        "\n",
        "Para esto existen dos enfoques genéricos en scikit ([Tuning the hyper-parameters of an estimator](https://scikit-learn.org/stable/modules/grid_search.html))   para muestrear candidatos de búsqueda: para valores dados, [GridSearchCV](https://scikit-learn.org/stable/modules/generated/sklearn.model_selection.GridSearchCV.html#sklearn.model_selection.GridSearchCV) considera exhaustivamente todas las combinaciones de parámetros, mientras que [RandomizedSearchCV](https://scikit-learn.org/stable/modules/generated/sklearn.model_selection.GridSearchCV.html#sklearn.model_selection.GridSearchCV) puede muestrear un número dado de candidatos de un espacio de parámetros con una distribución específica.\n",
        "\n",
        "Para probar cual hyperparametro es mejor debemos hacer cross_validation con algun metodo de dividir los datos de *train* , por ejemplo *k-folds* , y decidrile sobre que [score](https://scikit-learn.org/stable/modules/model_evaluation.html#scoring-parameter) que queremos trabajar (recall, precision,f1,....).  "
      ]
    },
    {
      "cell_type": "markdown",
      "metadata": {
        "id": "0dKX5-VwCo9k"
      },
      "source": [
        "Hyper-parameters are parameters that are not directly learnt within estimators. In scikit-learn they are passed as arguments to the constructor of the estimator classes. Typical examples include gamma for Ridge, alpha for Lasso, etc.  It is possible and recommended to search the hyper-parameter space for the best cross validation score.\n",
        "\n",
        "Any parameter provided when constructing an estimator may be optimized in this manner. Specifically, to find the names and current values for all parameters for a given estimator, use:\n",
        "\n",
        "estimator.get_params()\n",
        "\n",
        "Two generic approaches to sampling search candidates are provided in scikit-learn: for given values, [GridSearchCV](https://scikit-learn.org/stable/modules/generated/sklearn.model_selection.GridSearchCV.html#sklearn.model_selection.GridSearchCV) exhaustively considers all parameter combinations, while [RandomizedSearchCV](https://scikit-learn.org/stable/modules/generated/sklearn.model_selection.RandomizedSearchCV.html#sklearn.model_selection.RandomizedSearchCV) can sample a given number of candidates from a parameter space with a specified distribution.\n",
        "\n",
        "[More information](https://scikit-learn.org/stable/modules/grid_search.html)"
      ]
    },
    {
      "cell_type": "code",
      "metadata": {
        "id": "eMi2iioer25q",
        "colab": {
          "base_uri": "https://localhost:8080/"
        },
        "outputId": "386c6b1e-9acc-45a6-b351-77fd4ef369d5"
      },
      "source": [
        "\n",
        "import warnings\n",
        "warnings.filterwarnings('ignore') \n",
        "from sklearn.model_selection import GridSearchCV\n",
        "\n",
        "\n",
        "# Set the parameters by cross-validation\n",
        "tuned_parameters = [{'kernel': ['rbf'], 'gamma': [0.1,],#write the parameters that you want to test\n",
        "                     'C': [1, ]},#write the parameters that you want to test\n",
        "                    {'kernel': ['linear'], 'C': [1,]}, #write the parameters that you want to test\n",
        "                    {'kernel': ['poly'],'degree':[3,], 'C': [1,],'gamma': [1e-3]}\n",
        "                    #which other test??\n",
        "                   ]\n",
        "\n",
        "scores = ['precision' ] #, 'recall','f1' \n",
        "\n",
        "for score in scores:\n",
        "    print(\"# Tuning hyper-parameters for %s\" % score)\n",
        "    clf = GridSearchCV(svm.SVC(), tuned_parameters, cv=5,\n",
        "                       scoring='%s_macro' % score)\n",
        "    clf.fit(X_train, y_train)\n",
        "    print(\"Best parameters set found on development set:\")\n",
        "    print(clf.best_params_)\n",
        "    print(\"Grid scores on development set:\")\n",
        "    means = clf.cv_results_['mean_test_score']\n",
        "    stds = clf.cv_results_['std_test_score']\n",
        "    for mean, std, params in zip(means, stds, clf.cv_results_['params']):\n",
        "        print(\"%0.3f (+/-%0.03f) for %r\"\n",
        "              % (mean, std * 2, params))\n",
        "\n",
        "\n",
        "    "
      ],
      "execution_count": null,
      "outputs": [
        {
          "output_type": "stream",
          "text": [
            "# Tuning hyper-parameters for precision\n",
            "Best parameters set found on development set:\n",
            "{'C': 1, 'gamma': 0.1, 'kernel': 'rbf'}\n",
            "Grid scores on development set:\n",
            "0.843 (+/-0.108) for {'C': 1, 'gamma': 0.1, 'kernel': 'rbf'}\n",
            "0.796 (+/-0.113) for {'C': 1, 'kernel': 'linear'}\n",
            "0.124 (+/-0.013) for {'C': 1, 'degree': 3, 'gamma': 0.001, 'kernel': 'poly'}\n"
          ],
          "name": "stdout"
        }
      ]
    },
    {
      "cell_type": "markdown",
      "metadata": {
        "id": "y8qPwbu5HJhL"
      },
      "source": [
        "## Exercise \n",
        "\n",
        "- Try to compare with different classificators\n",
        "\n",
        "- Use the four input variables to classification\n"
      ]
    },
    {
      "cell_type": "markdown",
      "metadata": {
        "id": "eYWTnue2yaU-"
      },
      "source": [
        "### Test the Model\n",
        "\n",
        "Can we generalize our model to work good with other data?"
      ]
    },
    {
      "cell_type": "code",
      "metadata": {
        "id": "kYMgc9rEx7_R"
      },
      "source": [
        "from sklearn.metrics import accuracy_score,median_absolute_error\n",
        "from sklearn.metrics import mean_squared_error, mean_absolute_error\n",
        "from sklearn.metrics import r2_score,mean_squared_log_error,explained_variance_score\n",
        "\n",
        "\n",
        "y_true, y_pred = y_test, clf.predict(X_test)\n",
        "print(classification_report(y_true, y_pred))\n",
        "visual(clf,X,y,'Best model')"
      ],
      "execution_count": null,
      "outputs": []
    },
    {
      "cell_type": "markdown",
      "metadata": {
        "id": "qjrdArTyy7Wj"
      },
      "source": [
        "### Implementation\n",
        "\n",
        "\n",
        "How it is going to work inside the process and organization?"
      ]
    },
    {
      "cell_type": "code",
      "metadata": {
        "id": "hPxNDlH3y-Z1"
      },
      "source": [
        "\n"
      ],
      "execution_count": null,
      "outputs": []
    },
    {
      "cell_type": "markdown",
      "metadata": {
        "id": "EQsLLexCHb_d"
      },
      "source": [
        "## Ejercicio (Alguien tien un ejemplo)\n",
        "\n",
        "\n",
        "\n",
        "\n",
        "\n",
        "\n",
        "\n",
        "\n",
        "\n"
      ]
    },
    {
      "cell_type": "code",
      "metadata": {
        "id": "b53rncTcHfLt"
      },
      "source": [
        "# Load CSV using Pandas from URL\n",
        "import pandas as pd\n",
        "from IPython.display import display, HTML\n",
        "from sklearn import preprocessing\n",
        "from sklearn.naive_bayes import GaussianNB\n",
        "\n",
        "data = "
      ],
      "execution_count": null,
      "outputs": []
    },
    {
      "cell_type": "markdown",
      "metadata": {
        "id": "Au2IvAlaL8_k"
      },
      "source": [
        "## Presente sus conclusiones sobre clasificadores\n",
        "\n",
        "\n",
        "Se recomienda subir el notebook a github\n"
      ]
    }
  ]
}
