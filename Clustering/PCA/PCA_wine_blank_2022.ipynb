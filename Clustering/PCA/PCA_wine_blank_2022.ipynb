{
  "nbformat": 4,
  "nbformat_minor": 0,
  "metadata": {
    "colab": {
      "name": "PCA_wine_blank_2022.ipynb",
      "provenance": [],
      "collapsed_sections": []
    },
    "language_info": {
      "codemirror_mode": {
        "name": "ipython",
        "version": 3
      },
      "file_extension": ".py",
      "mimetype": "text/x-python",
      "name": "python",
      "nbconvert_exporter": "python",
      "pygments_lexer": "ipython3",
      "version": "3.6.4"
    },
    "kernelspec": {
      "display_name": "Python 3",
      "language": "python",
      "name": "python3"
    }
  },
  "cells": [
    {
      "cell_type": "markdown",
      "metadata": {
        "id": "xXvL65_WHvTN"
      },
      "source": [
        "## Unsupervised dimensionality reduction via principal component analysis (PCA)\n",
        "\n",
        "\n",
        "\n",
        "Defining imaginary variables with a linear combination of variables to reduce the dimensions is called PCA.\n",
        "\n",
        "Based in the book [Python Machine Learning](https://www.amazon.com/Python-Machine-Learning-Sebastian-Raschka/dp/1783555130/ref=sr_1_1?ie=UTF8&qid=1470882464&sr=8-1&keywords=python+machine+learning), del nottebook del [chapter 5](https://github.com/rasbt/python-machine-learning-book/blob/master/code/ch05/ch05.ipynb)\n",
        "\n"
      ]
    },
    {
      "cell_type": "code",
      "metadata": {
        "id": "IRNqIri1HvTS"
      },
      "source": [
        "%matplotlib inline\n",
        "import pandas as pd\n",
        "import numpy as np\n",
        "import matplotlib.pyplot as plt\n",
        "import sklearn\n",
        "from matplotlib.colors import ListedColormap\n",
        "\n",
        "if sklearn.__version__ < '0.18':\n",
        "    from sklearn.cross_validation import train_test_split\n",
        "else:\n",
        "    from sklearn.model_selection import train_test_split\n",
        "    \n",
        "\n",
        "from sklearn.preprocessing import StandardScaler\n",
        "from sklearn.preprocessing import MinMaxScaler\n",
        "from sklearn.decomposition import PCA\n",
        "from sklearn.linear_model import LogisticRegression\n",
        "from sklearn.decomposition import LatentDirichletAllocation"
      ],
      "execution_count": null,
      "outputs": []
    },
    {
      "cell_type": "markdown",
      "metadata": {
        "id": "hEY44ImnHvTc"
      },
      "source": [
        "\n",
        "## [Wine recognition data](https://archive.ics.uci.edu/ml/machine-learning-databases/wine/)\n",
        "\n",
        "Sources:\n",
        "        Forina, M. et al, PARVUS - An Extendible Package for Data\n",
        "       Exploration, Classification and Correlation. Institute of Pharmaceutical\n",
        "       and Food Analysis and Technologies, Via Brigata Salerno, \n",
        "       16147 Genoa, Italy.\n",
        "\n",
        "       Stefan Aeberhard, email: stefan@coral.cs.jcu.edu.au\n",
        "       July 1991\n",
        "\n",
        "\n",
        "- These data are the results of a chemical analysis of  wines grown in the same region in Italy but derived from three different cultivars. The analysis determined the quantities of 13 constituents  found in each of the three types of wines. \n",
        "- The attributes are (dontated by Riccardo Leardi, riclea@anchem.unige.it )\n",
        "    1. Alcohol.\n",
        "    2. Malic acid\n",
        "    3. Ash\n",
        "    4. Alcalinity of ash  \n",
        "    5. Magnesium\n",
        "    6. Total phenols\n",
        "    7. Flavanoids\n",
        "    8. Nonflavanoid phenols\n",
        "    9. Proanthocyanins\n",
        "    10. Color intensity\n",
        "    11. Hue\n",
        "    12. OD280/OD315 of diluted wines\n",
        "    13. Proline            \n",
        "\n",
        "Number of Instances\n",
        "\n",
        "    - class 1 59\n",
        "\t- class 2 71\n",
        "\t- class 3 48\n",
        "\n",
        "\n",
        "For Each Attribute:\n",
        "\n",
        "\tAll attributes are continuous\n",
        "\t\n",
        "\tNo statistics available, but suggest to standardise\n",
        "\tvariables for certain uses (e.g. for us with classifiers\n",
        "\twhich are NOT scale invariant)\n",
        "\n",
        "\tNOTE: 1st attribute is class identifier (1-3)\n",
        "\n",
        "\n",
        "Class Distribution: number of instances per class\n",
        "- class 1 59\n",
        "- class 2 71\n",
        "- class 3 48"
      ]
    },
    {
      "cell_type": "code",
      "metadata": {
        "id": "DZTiyguUHvTe",
        "colab": {
          "base_uri": "https://localhost:8080/",
          "height": 204
        },
        "outputId": "65201340-7954-4fec-eca5-c0b1ee589204"
      },
      "source": [
        "df_wine = pd.read_csv('https://archive.ics.uci.edu/ml/'\n",
        "                      'machine-learning-databases/wine/wine.data',\n",
        "                      header=None)\n",
        "\n",
        "df_wine.columns = ['Class label', 'Alcohol', 'Malic acid', 'Ash',\n",
        "                   'Alcalinity of ash', 'Magnesium', 'Total phenols',\n",
        "                   'Flavanoids', 'Nonflavanoid phenols', 'Proanthocyanins',\n",
        "                   'Color intensity', 'Hue',\n",
        "                   'OD280/OD315 of diluted wines', 'Proline']\n",
        "\n",
        "df_wine.head()"
      ],
      "execution_count": null,
      "outputs": [
        {
          "output_type": "execute_result",
          "data": {
            "text/html": [
              "<div>\n",
              "<style scoped>\n",
              "    .dataframe tbody tr th:only-of-type {\n",
              "        vertical-align: middle;\n",
              "    }\n",
              "\n",
              "    .dataframe tbody tr th {\n",
              "        vertical-align: top;\n",
              "    }\n",
              "\n",
              "    .dataframe thead th {\n",
              "        text-align: right;\n",
              "    }\n",
              "</style>\n",
              "<table border=\"1\" class=\"dataframe\">\n",
              "  <thead>\n",
              "    <tr style=\"text-align: right;\">\n",
              "      <th></th>\n",
              "      <th>Class label</th>\n",
              "      <th>Alcohol</th>\n",
              "      <th>Malic acid</th>\n",
              "      <th>Ash</th>\n",
              "      <th>Alcalinity of ash</th>\n",
              "      <th>Magnesium</th>\n",
              "      <th>Total phenols</th>\n",
              "      <th>Flavanoids</th>\n",
              "      <th>Nonflavanoid phenols</th>\n",
              "      <th>Proanthocyanins</th>\n",
              "      <th>Color intensity</th>\n",
              "      <th>Hue</th>\n",
              "      <th>OD280/OD315 of diluted wines</th>\n",
              "      <th>Proline</th>\n",
              "    </tr>\n",
              "  </thead>\n",
              "  <tbody>\n",
              "    <tr>\n",
              "      <th>0</th>\n",
              "      <td>1</td>\n",
              "      <td>14.23</td>\n",
              "      <td>1.71</td>\n",
              "      <td>2.43</td>\n",
              "      <td>15.6</td>\n",
              "      <td>127</td>\n",
              "      <td>2.80</td>\n",
              "      <td>3.06</td>\n",
              "      <td>0.28</td>\n",
              "      <td>2.29</td>\n",
              "      <td>5.64</td>\n",
              "      <td>1.04</td>\n",
              "      <td>3.92</td>\n",
              "      <td>1065</td>\n",
              "    </tr>\n",
              "    <tr>\n",
              "      <th>1</th>\n",
              "      <td>1</td>\n",
              "      <td>13.20</td>\n",
              "      <td>1.78</td>\n",
              "      <td>2.14</td>\n",
              "      <td>11.2</td>\n",
              "      <td>100</td>\n",
              "      <td>2.65</td>\n",
              "      <td>2.76</td>\n",
              "      <td>0.26</td>\n",
              "      <td>1.28</td>\n",
              "      <td>4.38</td>\n",
              "      <td>1.05</td>\n",
              "      <td>3.40</td>\n",
              "      <td>1050</td>\n",
              "    </tr>\n",
              "    <tr>\n",
              "      <th>2</th>\n",
              "      <td>1</td>\n",
              "      <td>13.16</td>\n",
              "      <td>2.36</td>\n",
              "      <td>2.67</td>\n",
              "      <td>18.6</td>\n",
              "      <td>101</td>\n",
              "      <td>2.80</td>\n",
              "      <td>3.24</td>\n",
              "      <td>0.30</td>\n",
              "      <td>2.81</td>\n",
              "      <td>5.68</td>\n",
              "      <td>1.03</td>\n",
              "      <td>3.17</td>\n",
              "      <td>1185</td>\n",
              "    </tr>\n",
              "    <tr>\n",
              "      <th>3</th>\n",
              "      <td>1</td>\n",
              "      <td>14.37</td>\n",
              "      <td>1.95</td>\n",
              "      <td>2.50</td>\n",
              "      <td>16.8</td>\n",
              "      <td>113</td>\n",
              "      <td>3.85</td>\n",
              "      <td>3.49</td>\n",
              "      <td>0.24</td>\n",
              "      <td>2.18</td>\n",
              "      <td>7.80</td>\n",
              "      <td>0.86</td>\n",
              "      <td>3.45</td>\n",
              "      <td>1480</td>\n",
              "    </tr>\n",
              "    <tr>\n",
              "      <th>4</th>\n",
              "      <td>1</td>\n",
              "      <td>13.24</td>\n",
              "      <td>2.59</td>\n",
              "      <td>2.87</td>\n",
              "      <td>21.0</td>\n",
              "      <td>118</td>\n",
              "      <td>2.80</td>\n",
              "      <td>2.69</td>\n",
              "      <td>0.39</td>\n",
              "      <td>1.82</td>\n",
              "      <td>4.32</td>\n",
              "      <td>1.04</td>\n",
              "      <td>2.93</td>\n",
              "      <td>735</td>\n",
              "    </tr>\n",
              "  </tbody>\n",
              "</table>\n",
              "</div>"
            ],
            "text/plain": [
              "   Class label  Alcohol  ...  OD280/OD315 of diluted wines  Proline\n",
              "0            1    14.23  ...                          3.92     1065\n",
              "1            1    13.20  ...                          3.40     1050\n",
              "2            1    13.16  ...                          3.17     1185\n",
              "3            1    14.37  ...                          3.45     1480\n",
              "4            1    13.24  ...                          2.93      735\n",
              "\n",
              "[5 rows x 14 columns]"
            ]
          },
          "metadata": {
            "tags": []
          },
          "execution_count": 2
        }
      ]
    },
    {
      "cell_type": "code",
      "metadata": {
        "colab": {
          "base_uri": "https://localhost:8080/"
        },
        "id": "hdFVLIJP_eEo",
        "outputId": "0ef084a6-c61b-4530-a327-2344894e957c"
      },
      "source": [
        ""
      ],
      "execution_count": null,
      "outputs": [
        {
          "output_type": "stream",
          "text": [
            "<class 'pandas.core.frame.DataFrame'>\n",
            "RangeIndex: 178 entries, 0 to 177\n",
            "Data columns (total 14 columns):\n",
            " #   Column                        Non-Null Count  Dtype  \n",
            "---  ------                        --------------  -----  \n",
            " 0   Class label                   178 non-null    int64  \n",
            " 1   Alcohol                       178 non-null    float64\n",
            " 2   Malic acid                    178 non-null    float64\n",
            " 3   Ash                           178 non-null    float64\n",
            " 4   Alcalinity of ash             178 non-null    float64\n",
            " 5   Magnesium                     178 non-null    int64  \n",
            " 6   Total phenols                 178 non-null    float64\n",
            " 7   Flavanoids                    178 non-null    float64\n",
            " 8   Nonflavanoid phenols          178 non-null    float64\n",
            " 9   Proanthocyanins               178 non-null    float64\n",
            " 10  Color intensity               178 non-null    float64\n",
            " 11  Hue                           178 non-null    float64\n",
            " 12  OD280/OD315 of diluted wines  178 non-null    float64\n",
            " 13  Proline                       178 non-null    int64  \n",
            "dtypes: float64(11), int64(3)\n",
            "memory usage: 19.6 KB\n"
          ],
          "name": "stdout"
        }
      ]
    },
    {
      "cell_type": "markdown",
      "metadata": {
        "id": "fBqD8Cr5HvTp"
      },
      "source": [
        "### Split and normalize the data\n",
        "Splitting the data into 70% training and 30% test subsets and then [Standardizing the data](http://scikit-learn.org/stable/modules/generated/sklearn.preprocessing.StandardScaler.html#sklearn.preprocessing.StandardScaler)\n",
        "\n",
        "**Note that standarized test data is obtained with the fit of the train data!!!**\n",
        "Here's simple example to explain why this is a problem.\n",
        "\n",
        "Let's assume we have a simple training set consisting of 3 samples with 1 feature (let's call this feature \"length\"):\n",
        "\n",
        "- train_1: 10 cm -> class_2\n",
        "- train_2: 20 cm -> class_2\n",
        "- train_3: 30 cm -> class_1\n",
        "\n",
        "mean: 20, std.: 8.2\n",
        "\n",
        "After standardization, the transformed feature values are\n",
        "\n",
        "- train_std_1: -1.21 -> class_2\n",
        "- train_std_2: 0 -> class_2\n",
        "- train_std_3: 1.21 -> class_1\n",
        "\n",
        "Next, let's assume our model has learned to classify samples with a standardized length value < 0.6 as class_2 (class_1 otherwise). So far so good. Now, let's say we have 3 unlabeled data points that we want to classify:\n",
        "\n",
        "- new_4: 5 cm -> class ?\n",
        "- new_5: 6 cm -> class ?\n",
        "- new_6: 7 cm -> class ?\n",
        "\n",
        "If we look at the \"unstandardized \"length\" values in our training dataset, it is intuitive to say that all of these samples are likely belonging to class_2. However, if we standardize these by re-computing standard deviation and and mean you would get similar values as before in the training set and your classifier would (probably incorrectly) classify samples 4 and 5 as class 2.\n",
        "\n",
        "- new_std_4: -1.21 -> class 2\n",
        "- new_std_5: 0 -> class 2\n",
        "- new_std_6: 1.21 -> class 1\n",
        "\n",
        "However, if we use the parameters from your \"training set standardization,\" we'd get the values:\n",
        "\n",
        "- sample5: -18.37 -> class 2\n",
        "- sample6: -17.15 -> class 2\n",
        "- sample7: -15.92 -> class 2\n",
        "\n",
        "The values 5 cm, 6 cm, and 7 cm are much lower than anything we have seen in the training set previously. Thus, it only makes sense that the standardized features of the \"new samples\" are much lower than every standardized feature in the training set."
      ]
    },
    {
      "cell_type": "code",
      "metadata": {
        "id": "JG4Ua7hhHvTr"
      },
      "source": [
        "X, y = df_wine.iloc[:, 1:].values, df_wine.iloc[:, 0].values\n",
        "\n",
        "X_train, X_test, y_train, y_test = train_test_split(X, y, test_size=0.3, random_state=0)\n",
        "    "
      ],
      "execution_count": null,
      "outputs": []
    },
    {
      "cell_type": "code",
      "metadata": {
        "id": "_UIfs4A4_oN0"
      },
      "source": [
        "\n",
        "#make a standar Scaler and generate trains and test data\n",
        "\n",
        "X_train_std = \n",
        "X_test_std = \n"
      ],
      "execution_count": null,
      "outputs": []
    },
    {
      "cell_type": "markdown",
      "metadata": {
        "id": "V8gMbQkqHvTx"
      },
      "source": [
        "## PCA by hand\n",
        "\n",
        "Before looking at the PCA algorithm for dimensionality reduction in more detail, let's summarize the approach in a few simple steps:\n",
        "1. *Standardize the d -dimensional dataset*. Standardization of datasets is a common requirement for many machine learning estimators implemented in scikit-learn; they might behave badly if the individual features do not more or less look like standard normally distributed data: Gaussian with zero mean and unit variance.\n",
        "2. *Construct the covariance matrix*. [np.cov](https://docs.scipy.org/doc/numpy/reference/generated/numpy.cov.html)\n",
        "3. *Decompose the covariance matrix into its eigenvectors and eigenvalues*. [`numpy.linalg.eig`](http://docs.scipy.org/doc/numpy/reference/generated/numpy.linalg.eig.html) \n",
        "4. *Select k eigenvectors that correspond to the k largest eigenvalues, where k is the dimensionality of the new feature subspace ( $k\\leqslant d$ )*. [sorted](https://wiki.python.org/moin/HowTo/Sorting)\n",
        "5. *Construct a projection matrix W from the \"top\" k eigenvectors*.\n",
        "6. *Transform the d -dimensional input dataset X using the projection matrix W to obtain the new k -dimensional feature* subspace. [np.dot](https://docs.scipy.org/doc/numpy/reference/generated/numpy.dot.html) between w and x data\n",
        "\n",
        "\n",
        "**Note** use [`numpy.linalg.eig`](http://docs.scipy.org/doc/numpy/reference/generated/numpy.linalg.eig.html) is probably suboptimal. It would be better to use [`numpy.linalg.eigh`](http://docs.scipy.org/doc/numpy/reference/generated/numpy.linalg.eigh.html) in such cases, which has been designed for [Hermetian matrices](https://en.wikipedia.org/wiki/Hermitian_matrix). The latter always returns real  eigenvalues; whereas the numerically less stable `np.linalg.eig` can decompose nonsymmetric square matrices, you may find that it returns complex eigenvalues in certain cases. (S.R.)\n",
        "\n"
      ]
    },
    {
      "cell_type": "code",
      "metadata": {
        "id": "0JWl5qHcHvTz",
        "colab": {
          "base_uri": "https://localhost:8080/"
        },
        "outputId": "98011b52-7358-41d5-b802-c7590267e64d"
      },
      "source": [
        "cov_mat = np.cov(X_train_std.T)\n",
        "print(cov_mat.shape)"
      ],
      "execution_count": null,
      "outputs": [
        {
          "output_type": "stream",
          "text": [
            "(13, 13)\n"
          ],
          "name": "stdout"
        }
      ]
    },
    {
      "cell_type": "code",
      "metadata": {
        "id": "FKNFiedZHvT6",
        "colab": {
          "base_uri": "https://localhost:8080/"
        },
        "outputId": "adc612fe-0858-4c75-c620-b5ded59c873c"
      },
      "source": [
        "# obtain the eigen values and eigen vectors with np.linalg.eig\n",
        "\n",
        "eigen_vals, eigen_vecs =\n",
        "\n",
        "print('\\nEigenvalues \\n%s' % eigen_vals)\n"
      ],
      "execution_count": null,
      "outputs": [
        {
          "output_type": "stream",
          "text": [
            "\n",
            "Eigenvalues \n",
            "[4.8923083  2.46635032 1.42809973 1.01233462 0.84906459 0.60181514\n",
            " 0.52251546 0.08414846 0.33051429 0.29595018 0.16831254 0.21432212\n",
            " 0.2399553 ]\n"
          ],
          "name": "stdout"
        }
      ]
    },
    {
      "cell_type": "code",
      "metadata": {
        "id": "wmqp-ooCHvUC",
        "colab": {
          "base_uri": "https://localhost:8080/",
          "height": 297
        },
        "outputId": "b7ab799c-939c-4028-bd72-07c3e396e91d"
      },
      "source": [
        "\n",
        "tot = sum(eigen_vals)\n",
        "var_exp = [(i / tot) for i in sorted(eigen_vals, reverse=True)]\n",
        "cum_var_exp = np.cumsum(var_exp)\n",
        "\n",
        "plt.bar(range(1, 14), var_exp, alpha=0.5, align='center',\n",
        "        label='individual explained variance')\n",
        "plt.step(range(1, 14), cum_var_exp, where='mid',\n",
        "         label='cumulative explained variance')\n",
        "plt.ylabel('Explained variance ratio')\n",
        "plt.xlabel('Principal components')\n",
        "plt.legend(loc='best')\n",
        "plt.tight_layout()\n",
        "# plt.savefig('./figures/pca1.png', dpi=300)\n",
        "plt.show()\n"
      ],
      "execution_count": null,
      "outputs": [
        {
          "output_type": "display_data",
          "data": {
            "image/png": "[encoded data removed]",
            "text/plain": [
              "<Figure size 432x288 with 1 Axes>"
            ]
          },
          "metadata": {
            "tags": [],
            "needs_background": "light"
          }
        }
      ]
    },
    {
      "cell_type": "code",
      "metadata": {
        "id": "Fs4dKiQAHvUL",
        "colab": {
          "base_uri": "https://localhost:8080/"
        },
        "outputId": "4dfbd20d-2382-44d3-a196-6046dbf147c5"
      },
      "source": [
        "# Make a list of (eigenvalue, eigenvector) tuples\n",
        "eigen_pairs = \n",
        "\n",
        "# Sort the (eigenvalue, eigenvector) tuples from high to low\n",
        "eigen_pairs.sort(key=lambda k: k[0], reverse=True)\n",
        "\n",
        "eigen_pairs[:5]"
      ],
      "execution_count": null,
      "outputs": [
        {
          "output_type": "execute_result",
          "data": {
            "text/plain": [
              "[(4.892308303273748,\n",
              "  array([ 0.14669811, -0.24224554, -0.02993442, -0.25519002,  0.12079772,\n",
              "          0.38934455,  0.42326486, -0.30634956,  0.30572219, -0.09869191,\n",
              "          0.30032535,  0.36821154,  0.29259713])),\n",
              " (2.46635031575923,\n",
              "  array([ 0.50417079,  0.24216889,  0.28698484, -0.06468718,  0.22995385,\n",
              "          0.09363991,  0.01088622,  0.01870216,  0.03040352,  0.54527081,\n",
              "         -0.27924322, -0.174365  ,  0.36315461])),\n",
              " (1.428099727504846,\n",
              "  array([-0.11723515,  0.14994658,  0.65639439,  0.58428234,  0.08226275,\n",
              "          0.18080442,  0.14295933,  0.17223475,  0.1583621 , -0.14242171,\n",
              "          0.09323872,  0.19607741, -0.09731711])),\n",
              " (1.0123346209044957,\n",
              "  array([ 0.20625461,  0.1304893 ,  0.01515363, -0.09042209, -0.83912835,\n",
              "          0.19317948,  0.14045955,  0.33733262, -0.1147529 ,  0.07878571,\n",
              "          0.02417403,  0.18402864,  0.05676778])),\n",
              " (0.8490645933450255,\n",
              "  array([-0.18781595,  0.56863978, -0.29920943, -0.04124995, -0.02719713,\n",
              "          0.14064543,  0.09268665, -0.08584168,  0.56510524,  0.01323461,\n",
              "         -0.37261081,  0.08937967, -0.21752948]))]"
            ]
          },
          "metadata": {
            "tags": []
          },
          "execution_count": 12
        }
      ]
    },
    {
      "cell_type": "code",
      "metadata": {
        "id": "U0LjuCpmHvUS",
        "colab": {
          "base_uri": "https://localhost:8080/"
        },
        "outputId": "69ce7e35-3e0b-4662-a9d6-196aaf5a529a"
      },
      "source": [
        "\n",
        "k_principals=2\n",
        "m=np.array([eigen_pairs[k][1] for k in range(0,k_principals)])\n",
        "w = m.reshape(k_principals,len(eigen_pairs)).T\n",
        "print('Matrix W:\\n', w)"
      ],
      "execution_count": null,
      "outputs": [
        {
          "output_type": "stream",
          "text": [
            "Matrix W:\n",
            " [[ 0.14669811  0.50417079]\n",
            " [-0.24224554  0.24216889]\n",
            " [-0.02993442  0.28698484]\n",
            " [-0.25519002 -0.06468718]\n",
            " [ 0.12079772  0.22995385]\n",
            " [ 0.38934455  0.09363991]\n",
            " [ 0.42326486  0.01088622]\n",
            " [-0.30634956  0.01870216]\n",
            " [ 0.30572219  0.03040352]\n",
            " [-0.09869191  0.54527081]\n",
            " [ 0.30032535 -0.27924322]\n",
            " [ 0.36821154 -0.174365  ]\n",
            " [ 0.29259713  0.36315461]]\n"
          ],
          "name": "stdout"
        }
      ]
    },
    {
      "cell_type": "code",
      "metadata": {
        "id": "mY2hKgj_HvUe",
        "colab": {
          "base_uri": "https://localhost:8080/",
          "height": 297
        },
        "outputId": "8da47497-ae2c-4b06-9cf5-6751ee7fdf23"
      },
      "source": [
        "X_train_pca = X_train_std.dot(w)\n",
        "colors = ['r', 'b', 'g']\n",
        "markers = ['s', 'x', 'o']\n",
        "\n",
        "for l, c, m in zip(np.unique(y_train), colors, markers):\n",
        "    plt.scatter(X_train_pca[y_train == l, 0], \n",
        "                X_train_pca[y_train == l, 1], \n",
        "                c=c, label=l, marker=m)\n",
        "\n",
        "plt.xlabel('PC 1')\n",
        "plt.ylabel('PC 2')\n",
        "plt.legend(loc='lower left')\n",
        "plt.tight_layout()\n",
        "# plt.savefig('./images/pca2.png', dpi=300)\n",
        "plt.show()"
      ],
      "execution_count": null,
      "outputs": [
        {
          "output_type": "display_data",
          "data": {
            "image/png": "[encoded data removed]",
            "text/plain": [
              "<Figure size 432x288 with 1 Axes>"
            ]
          },
          "metadata": {
            "tags": [],
            "needs_background": "light"
          }
        }
      ]
    },
    {
      "cell_type": "code",
      "metadata": {
        "id": "k8_sX9_nHvUl",
        "colab": {
          "base_uri": "https://localhost:8080/",
          "height": 314
        },
        "outputId": "c310f6be-88c4-4b89-bbc8-f6a79faba516"
      },
      "source": [
        "plt.scatter(X_train_pca[:,0],X_train_pca[:,1])\n",
        "plt.xlabel('PC 1')\n",
        "plt.ylabel('PC 2')\n",
        "plt.legend(loc='lower left')\n",
        "plt.tight_layout()\n",
        "# plt.savefig('./images/pca2.png', dpi=300)\n",
        "plt.show()"
      ],
      "execution_count": null,
      "outputs": [
        {
          "output_type": "stream",
          "text": [
            "No handles with labels found to put in legend.\n"
          ],
          "name": "stderr"
        },
        {
          "output_type": "display_data",
          "data": {
            "image/png": "[encoded data removed]",
            "text/plain": [
              "<Figure size 432x288 with 1 Axes>"
            ]
          },
          "metadata": {
            "tags": [],
            "needs_background": "light"
          }
        }
      ]
    },
    {
      "cell_type": "markdown",
      "metadata": {
        "id": "Qqb55zhiHvUt"
      },
      "source": [
        "## Principal component analysis in scikit-learn"
      ]
    },
    {
      "cell_type": "code",
      "metadata": {
        "id": "HBuy-kjFHvUu"
      },
      "source": [
        "# use class PCA() to create the transformated data\n",
        "\n",
        "X_train_pca = \n",
        "\n"
      ],
      "execution_count": null,
      "outputs": []
    },
    {
      "cell_type": "code",
      "metadata": {
        "id": "czyl0P_lHvUz",
        "colab": {
          "base_uri": "https://localhost:8080/",
          "height": 279
        },
        "outputId": "e05e155c-c2ff-4a0b-fe3b-94f8cf30f2a3"
      },
      "source": [
        "pca.explained_variance_ratio_\n",
        "plt.bar(range(1, 14), pca.explained_variance_ratio_, alpha=0.5, align='center')\n",
        "plt.step(range(1, 14), np.cumsum(pca.explained_variance_ratio_), where='mid')\n",
        "plt.ylabel('Explained variance ratio')\n",
        "plt.xlabel('Principal components')\n",
        "plt.show()"
      ],
      "execution_count": null,
      "outputs": [
        {
          "output_type": "display_data",
          "data": {
            "image/png": "[encoded data removed]",
            "text/plain": [
              "<Figure size 432x288 with 1 Axes>"
            ]
          },
          "metadata": {
            "tags": [],
            "needs_background": "light"
          }
        }
      ]
    },
    {
      "cell_type": "code",
      "metadata": {
        "id": "T2XZiayPHvU5",
        "colab": {
          "base_uri": "https://localhost:8080/",
          "height": 279
        },
        "outputId": "698571fd-a1e7-4daa-db20-08d2056dbd61"
      },
      "source": [
        "k_principals=2\n",
        "pca = PCA(n_components=k_principals)\n",
        "X_train_pca = pca.fit_transform(X_train_std)\n",
        "X_test_pca = pca.transform(X_test_std)\n",
        "\n",
        "plt.scatter(X_train_pca[:, 0], X_train_pca[:, 1])\n",
        "plt.xlabel('PC 1')\n",
        "plt.ylabel('PC 2')\n",
        "plt.show()"
      ],
      "execution_count": null,
      "outputs": [
        {
          "output_type": "display_data",
          "data": {
            "image/png": "[encoded data removed]",
            "text/plain": [
              "<Figure size 432x288 with 1 Axes>"
            ]
          },
          "metadata": {
            "tags": [],
            "needs_background": "light"
          }
        }
      ]
    },
    {
      "cell_type": "markdown",
      "metadata": {
        "id": "ZUTrnDcnHvU_"
      },
      "source": [
        "## Now apply classification\n",
        "\n"
      ]
    },
    {
      "cell_type": "code",
      "metadata": {
        "id": "y7BL6h55HvVC"
      },
      "source": [
        "lr = LogisticRegression(random_state=0)\n",
        "lr = lr.fit(X_train_pca, y_train)\n"
      ],
      "execution_count": null,
      "outputs": []
    },
    {
      "cell_type": "code",
      "metadata": {
        "id": "b32p7UzEHvVH"
      },
      "source": [
        "\n",
        "def plot_decision_regions(X, y, classifier, resolution=0.02):\n",
        "\n",
        "    # setup marker generator and color map\n",
        "    markers = ('s', 'x', 'o', '^', 'v')\n",
        "    colors = ('red', 'blue', 'lightgreen', 'gray', 'cyan')\n",
        "    cmap = ListedColormap(colors[:len(np.unique(y))])\n",
        "\n",
        "    # plot the decision surface\n",
        "    x1_min, x1_max = X[:, 0].min() - 1, X[:, 0].max() + 1\n",
        "    x2_min, x2_max = X[:, 1].min() - 1, X[:, 1].max() + 1\n",
        "    xx1, xx2 = np.meshgrid(np.arange(x1_min, x1_max, resolution),\n",
        "                           np.arange(x2_min, x2_max, resolution))\n",
        "    Z = classifier.predict(np.array([xx1.ravel(), xx2.ravel()]).T)\n",
        "    Z = Z.reshape(xx1.shape)\n",
        "    plt.contourf(xx1, xx2, Z, alpha=0.4, cmap=cmap)\n",
        "    plt.xlim(xx1.min(), xx1.max())\n",
        "    plt.ylim(xx2.min(), xx2.max())\n",
        "\n",
        "    # plot class samples\n",
        "    for idx, cl in enumerate(np.unique(y)):\n",
        "        plt.scatter(x=X[y == cl, 0], y=X[y == cl, 1],\n",
        "                    alpha=0.8, c=cmap(idx),\n",
        "                    marker=markers[idx], label=cl)\n"
      ],
      "execution_count": null,
      "outputs": []
    },
    {
      "cell_type": "code",
      "metadata": {
        "id": "tgsn75LsHvVR",
        "colab": {
          "base_uri": "https://localhost:8080/",
          "height": 368
        },
        "outputId": "c6f72b79-b895-4a34-aaa7-59d569ec6647"
      },
      "source": [
        "plot_decision_regions(X_train_pca, y_train, classifier=lr)\n",
        "plt.xlabel('PC 1')\n",
        "plt.ylabel('PC 2')\n",
        "plt.legend(loc='lower left')\n",
        "plt.tight_layout()\n",
        "# plt.savefig('./figures/pca3.png', dpi=300)\n",
        "plt.show()\n",
        "\n"
      ],
      "execution_count": null,
      "outputs": [
        {
          "output_type": "stream",
          "text": [
            "*c* argument looks like a single numeric RGB or RGBA sequence, which should be avoided as value-mapping will have precedence in case its length matches with *x* & *y*.  Please use the *color* keyword-argument or provide a 2-D array with a single row if you intend to specify the same RGB or RGBA value for all points.\n",
            "*c* argument looks like a single numeric RGB or RGBA sequence, which should be avoided as value-mapping will have precedence in case its length matches with *x* & *y*.  Please use the *color* keyword-argument or provide a 2-D array with a single row if you intend to specify the same RGB or RGBA value for all points.\n",
            "*c* argument looks like a single numeric RGB or RGBA sequence, which should be avoided as value-mapping will have precedence in case its length matches with *x* & *y*.  Please use the *color* keyword-argument or provide a 2-D array with a single row if you intend to specify the same RGB or RGBA value for all points.\n"
          ],
          "name": "stderr"
        },
        {
          "output_type": "display_data",
          "data": {
            "image/png": "[encoded data removed]",
            "text/plain": [
              "<Figure size 432x288 with 1 Axes>"
            ]
          },
          "metadata": {
            "tags": [],
            "needs_background": "light"
          }
        }
      ]
    },
    {
      "cell_type": "markdown",
      "metadata": {
        "collapsed": true,
        "id": "p4K8A_9vHvVe"
      },
      "source": [
        "## Ejercicio \n",
        "\n",
        "Explicar brevemente el metodo de clasificacion .\n",
        "\n",
        "Despues utilizar el dataset del iris y aplicar el metodo de clasificacion[Stochastic Gradient Descent](http://scikit-learn.org/0.17/modules/sgd.html#classification)  sobre con los dos componentes principales [PCA](http://scikit-learn.org/stable/modules/decomposition.html). Presente las graficas de plot_decision_regions y de la matrix de confusion para los datos de entrenamiento y prueba.\n",
        "Luego muestre los resultados de la matrix de confusion cuando toma las cuatro variables de entrada. **Cuales serán las ventajas y desventajas de realizar esta disminución de dimensionalidad previo a la clasificación?**\n",
        "\n"
      ]
    },
    {
      "cell_type": "code",
      "metadata": {
        "id": "UThY_IkXHvVf"
      },
      "source": [
        "def print_confusion(m):\n",
        "    #print is never easy :)\n",
        "    plt.figure()\n",
        "    for i in range(0,3):\n",
        "        for j in range(0,3):\n",
        "            L=m[i,j]\n",
        "            plt.scatter(i,j,s=100,marker='$'+str(L)+'$')\n",
        "            plt.scatter(i,j,s=20*L,marker='o',alpha=0.5)  \n",
        "    plt.show()"
      ],
      "execution_count": null,
      "outputs": []
    },
    {
      "cell_type": "code",
      "metadata": {
        "id": "Kh4f5QzHHvVn",
        "colab": {
          "base_uri": "https://localhost:8080/"
        },
        "outputId": "9554e07f-0fe6-4a94-b7ed-018406f0fcf5"
      },
      "source": [
        "from sklearn import datasets\n",
        "np.set_printoptions(precision=3)\n",
        "\n",
        "iris = datasets.load_iris()\n",
        "X = iris.data\n",
        "y = iris.target\n",
        "print(iris.keys())\n",
        "x_train,x_test, y_train, y_test  = train_test_split(X,y, train_size = 0.3 , random_state=0) # remove random state o change it\n",
        "\n",
        "\n",
        "sc = StandardScaler()\n",
        "x_train_std = \n",
        "x_test_std = \n",
        "\n",
        "pca_iris = PCA()\n",
        "x_train_pca = \n",
        "\n",
        "print(pca_iris.explained_variance_ratio_)"
      ],
      "execution_count": null,
      "outputs": [
        {
          "output_type": "stream",
          "text": [
            "dict_keys(['data', 'target', 'target_names', 'DESCR', 'feature_names', 'filename'])\n",
            "[0.733 0.226 0.036 0.005]\n"
          ],
          "name": "stdout"
        }
      ]
    },
    {
      "cell_type": "code",
      "metadata": {
        "colab": {
          "base_uri": "https://localhost:8080/",
          "height": 279
        },
        "id": "Hy-uULpxCEWF",
        "outputId": "a3fc45e9-8d7e-4bc5-fd96-863adb66560c"
      },
      "source": [
        "\n",
        "plt.bar(range(1, X.shape[1]+1), pca_iris.explained_variance_ratio_, alpha=0.5, align='center')\n",
        "plt.step(range(1, X.shape[1]+1), np.cumsum(pca_iris.explained_variance_ratio_), where='mid')\n",
        "plt.ylabel('Explained variance ratio')\n",
        "plt.xlabel('Principal components')\n",
        "plt.show()"
      ],
      "execution_count": null,
      "outputs": [
        {
          "output_type": "display_data",
          "data": {
            "image/png": "[encoded data removed]",
            "text/plain": [
              "<Figure size 432x288 with 1 Axes>"
            ]
          },
          "metadata": {
            "tags": [],
            "needs_background": "light"
          }
        }
      ]
    },
    {
      "cell_type": "code",
      "metadata": {
        "id": "13sVttrJHvV2",
        "colab": {
          "base_uri": "https://localhost:8080/",
          "height": 279
        },
        "outputId": "8deaed30-1bc1-4269-9079-80b558b8dda8"
      },
      "source": [
        "k_principals=2\n",
        "x_train_pca=x_train_pca[:,:k_principals]\n",
        "x_test_pca = \n",
        "x_test_pca=x_test_pca[:,:k_principals]\n",
        "\n",
        "plt.scatter(x_train_pca[:, 0], x_train_pca[:, 1])\n",
        "plt.xlabel('PC 1')\n",
        "plt.ylabel('PC 2')\n",
        "plt.show()"
      ],
      "execution_count": null,
      "outputs": [
        {
          "output_type": "display_data",
          "data": {
            "image/png": "[encoded data removed]",
            "text/plain": [
              "<Figure size 432x288 with 1 Axes>"
            ]
          },
          "metadata": {
            "tags": [],
            "needs_background": "light"
          }
        }
      ]
    },
    {
      "cell_type": "markdown",
      "metadata": {
        "id": "o-XYqYe_HvV9"
      },
      "source": [
        "## Kneighbors classificator\n"
      ]
    },
    {
      "cell_type": "code",
      "metadata": {
        "id": "0bT9ofQKHvV9",
        "colab": {
          "base_uri": "https://localhost:8080/",
          "height": 368
        },
        "outputId": "f2fe383f-062f-4050-f1f3-7646bd5d54db"
      },
      "source": [
        "#lr = LogisticRegression(random_state=0)\n",
        "from sklearn.neighbors import KNeighborsClassifier\n",
        "from sklearn.linear_model import SGDClassifier\n",
        "\n",
        "# create and train the classifier\n",
        "\n",
        "\n",
        "plot_decision_regions(x_train_pca, y_train, classifier=lr)\n",
        "plt.xlabel('PC 1')\n",
        "plt.ylabel('PC 2')\n",
        "plt.legend(loc='lower left')\n",
        "plt.tight_layout()\n",
        "# plt.savefig('./figures/pca3.png', dpi=300)\n",
        "plt.show()\n",
        "\n"
      ],
      "execution_count": null,
      "outputs": [
        {
          "output_type": "stream",
          "text": [
            "*c* argument looks like a single numeric RGB or RGBA sequence, which should be avoided as value-mapping will have precedence in case its length matches with *x* & *y*.  Please use the *color* keyword-argument or provide a 2-D array with a single row if you intend to specify the same RGB or RGBA value for all points.\n",
            "*c* argument looks like a single numeric RGB or RGBA sequence, which should be avoided as value-mapping will have precedence in case its length matches with *x* & *y*.  Please use the *color* keyword-argument or provide a 2-D array with a single row if you intend to specify the same RGB or RGBA value for all points.\n",
            "*c* argument looks like a single numeric RGB or RGBA sequence, which should be avoided as value-mapping will have precedence in case its length matches with *x* & *y*.  Please use the *color* keyword-argument or provide a 2-D array with a single row if you intend to specify the same RGB or RGBA value for all points.\n"
          ],
          "name": "stderr"
        },
        {
          "output_type": "display_data",
          "data": {
            "image/png": "[encoded data removed]",
            "text/plain": [
              "<Figure size 432x288 with 1 Axes>"
            ]
          },
          "metadata": {
            "tags": [],
            "needs_background": "light"
          }
        }
      ]
    },
    {
      "cell_type": "code",
      "metadata": {
        "id": "EjvNhCySHvWC",
        "colab": {
          "base_uri": "https://localhost:8080/",
          "height": 316
        },
        "outputId": "4ffd07f8-feb3-4268-8494-9f65d1aa532e"
      },
      "source": [
        "from sklearn.metrics import confusion_matrix\n",
        "   \n",
        "y_estimado=lr.predict(x_test_pca)\n",
        "m=confusion_matrix(y_test, y_estimado)\n",
        "print(m)\n",
        "print_confusion(m)\n"
      ],
      "execution_count": null,
      "outputs": [
        {
          "output_type": "stream",
          "text": [
            "[[32  1  0]\n",
            " [ 0 33  1]\n",
            " [ 0  9 29]]\n"
          ],
          "name": "stdout"
        },
        {
          "output_type": "display_data",
          "data": {
            "image/png": "[encoded data removed]",
            "text/plain": [
              "<Figure size 432x288 with 1 Axes>"
            ]
          },
          "metadata": {
            "tags": [],
            "needs_background": "light"
          }
        }
      ]
    },
    {
      "cell_type": "markdown",
      "metadata": {
        "id": "lNBPA9xmHvWJ"
      },
      "source": [
        "## Without PCA"
      ]
    },
    {
      "cell_type": "code",
      "metadata": {
        "id": "_0Ex9i_-HvWK",
        "colab": {
          "base_uri": "https://localhost:8080/",
          "height": 316
        },
        "outputId": "5f1ebf14-8510-4e6d-f959-a2de6ccb3e9e"
      },
      "source": [
        "lr = KNeighborsClassifier(3)\n",
        "\n",
        "#train the model with x_train,y_train data\n",
        "\n",
        "y_estimado=lr.predict(x_test)\n",
        "m=confusion_matrix(y_test, y_estimado)\n",
        "print(m)\n",
        "print_confusion(m)\n"
      ],
      "execution_count": null,
      "outputs": [
        {
          "output_type": "stream",
          "text": [
            "[[33  0  0]\n",
            " [ 0 33  1]\n",
            " [ 0  5 33]]\n"
          ],
          "name": "stdout"
        },
        {
          "output_type": "display_data",
          "data": {
            "image/png": "[encoded data removed]",
            "text/plain": [
              "<Figure size 432x288 with 1 Axes>"
            ]
          },
          "metadata": {
            "tags": [],
            "needs_background": "light"
          }
        }
      ]
    },
    {
      "cell_type": "markdown",
      "metadata": {
        "id": "YooU8PuNHvWN"
      },
      "source": [
        "##  SGD Classifficator"
      ]
    },
    {
      "cell_type": "code",
      "metadata": {
        "id": "3Q_roFjKHvWP",
        "outputId": "66bac751-1017-4657-b3e6-a2ea8e89ce4c"
      },
      "source": [
        ""
      ],
      "execution_count": null,
      "outputs": [
        {
          "output_type": "display_data",
          "data": {
            "image/png": "[encoded data removed]",
            "text/plain": [
              "<matplotlib.figure.Figure at 0xb6bef60>"
            ]
          },
          "metadata": {
            "tags": []
          }
        }
      ]
    },
    {
      "cell_type": "code",
      "metadata": {
        "id": "02iFB1exHvWb",
        "outputId": "c4937db9-44bb-496e-9f3a-451aa908d103"
      },
      "source": [
        "y_estimado=\n",
        "m=confusion_matrix(y_test, y_estimado)\n",
        "print(m)\n",
        "print_confusion(m)"
      ],
      "execution_count": null,
      "outputs": [
        {
          "output_type": "stream",
          "text": [
            "[[32  1  0]\n",
            " [ 6 12 16]\n",
            " [ 0  1 37]]\n"
          ],
          "name": "stdout"
        },
        {
          "output_type": "display_data",
          "data": {
            "image/png": "[encoded data removed]",
            "text/plain": [
              "<matplotlib.figure.Figure at 0x4516710>"
            ]
          },
          "metadata": {
            "tags": []
          }
        }
      ]
    },
    {
      "cell_type": "markdown",
      "metadata": {
        "id": "giZ96rXCHvWf"
      },
      "source": [
        "### Without PCA\n"
      ]
    },
    {
      "cell_type": "code",
      "metadata": {
        "id": "0fBhGl0OHvWg",
        "outputId": "3e185107-7cab-455b-ea92-46ce6c6d8346"
      },
      "source": [
        ""
      ],
      "execution_count": null,
      "outputs": [
        {
          "output_type": "stream",
          "text": [
            "[[33  0  0]\n",
            " [ 0  0 34]\n",
            " [ 0  0 38]]\n"
          ],
          "name": "stdout"
        },
        {
          "output_type": "display_data",
          "data": {
            "image/png": "[encoded data removed]",
            "text/plain": [
              "<matplotlib.figure.Figure at 0xb5e84e0>"
            ]
          },
          "metadata": {
            "tags": []
          }
        }
      ]
    },
    {
      "cell_type": "markdown",
      "metadata": {
        "id": "8jGORzeXh57f"
      },
      "source": [
        "## Example PCA vs LDA \n",
        "[scikit-learn](https://scikit-learn.org/stable/auto_examples/decomposition/plot_pca_vs_lda.html#sphx-glr-auto-examples-decomposition-plot-pca-vs-lda-py)"
      ]
    },
    {
      "cell_type": "code",
      "metadata": {
        "colab": {
          "base_uri": "https://localhost:8080/",
          "height": 562
        },
        "id": "RyQowz8Fh3v2",
        "outputId": "0b457f29-adab-4cd6-9c09-f2c9c7679f91"
      },
      "source": [
        ""
      ],
      "execution_count": null,
      "outputs": [
        {
          "output_type": "stream",
          "text": [
            "explained variance ratio (first two components): [0.92461872 0.05306648]\n"
          ],
          "name": "stdout"
        },
        {
          "output_type": "display_data",
          "data": {
            "image/png": "[encoded data removed]",
            "text/plain": [
              "<Figure size 432x288 with 1 Axes>"
            ]
          },
          "metadata": {
            "tags": [],
            "needs_background": "light"
          }
        },
        {
          "output_type": "display_data",
          "data": {
            "image/png": "[encoded data removed]",
            "text/plain": [
              "<Figure size 432x288 with 1 Axes>"
            ]
          },
          "metadata": {
            "tags": [],
            "needs_background": "light"
          }
        }
      ]
    }
  ]
}
