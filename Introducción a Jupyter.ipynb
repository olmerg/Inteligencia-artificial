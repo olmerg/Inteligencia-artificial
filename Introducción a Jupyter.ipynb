{
  "cells": [
    {
      "cell_type": "markdown",
      "metadata": {
        "id": "wPn1VqmgWzRq"
      },
      "source": [
        "<!--NAVIGATION-->\n",
        "<a href=\"https://colab.research.google.com/github/marcoteran/artificialintelligence/blob/master/notebooks/00_introtopython/01_artificialintelligence_pythoncrashcourse.ipynb\" target=\"_blank\"><img align=\"left\" src=\"https://colab.research.google.com/assets/colab-badge.svg\" alt=\"Abrir en Colab\" title=\"Abrir y ejecutar en Google Colaboratory\"></a>"
      ]
    },
    {
      "cell_type": "markdown",
      "metadata": {
        "id": "4pXbl-J6Bkyd"
      },
      "source": [
        "### Ejemplos de código\n",
        "# Python Crash course\n",
        "## Inteligencia Artificial"
      ]
    },
    {
      "cell_type": "markdown",
      "metadata": {
        "id": "ukHnL0iNWzRt"
      },
      "source": [
        "Universidad Jorge Tadeo Lozano\n",
        "\n",
        "Olmer García Bedoya, olmer.garciab@utadeo.edu.co\n",
        "\n",
        "___"
      ]
    },
    {
      "cell_type": "code",
      "source": [
        "\n",
        "def funcion(a):\n",
        "    a += 5\n",
        "    print(a, id(a))\n",
        "\n",
        "a = 5\n",
        "funcion(a)\n",
        "print(a, id(a))\n",
        "\n",
        "\n",
        "def funcion_l(a):\n",
        "    a += [4, 5]\n",
        "    print(a, id(a))\n",
        "\n",
        "\n",
        "a = [5, 4]\n",
        "funcion_l(a)\n",
        "print(a, id(a))\n",
        "\n"
      ],
      "metadata": {
        "id": "2cxey4SuXIPS",
        "colab": {
          "base_uri": "https://localhost:8080/"
        },
        "outputId": "495440c7-ec7b-48e2-bf3a-d15acdc9dc6f"
      },
      "execution_count": null,
      "outputs": [
        {
          "output_type": "stream",
          "name": "stdout",
          "text": [
            "10 94861917805344\n",
            "5 94861917805184\n",
            "[5, 4, 4, 5] 139949889146064\n",
            "[5, 4, 4, 5] 139949889146064\n"
          ]
        }
      ]
    },
    {
      "cell_type": "markdown",
      "source": [
        "# Python\n",
        "Python es un lenguaje de programación de alto nivel, interpretado, interactivo, orientado a objetos y de propósito general. Fue creado por Guido van Rossum durante 1985-1990. Al igual que Perl, el código fuente de Python también está disponible bajo la Licencia Pública General de GNU (GPL).\n",
        "\n",
        "basado en [Complete Python Bootcamp: Go from zero to hero in Python 3](https://www.udemy.com/complete-python-bootcamp/) y [Python - Tutorial](https://www.tutorialspoint.com/python/index.htm) (*warning: is python2*)\n",
        "\n",
        "- se considera la mejor práctica ([PEP8] (https://www.python.org/dev/peps/pep-0008/#function-and-variable-names)) que los nombres de las variables están en minúsculas con guiones bajos\n",
        "- Python utiliza *escritura dinámica*, lo que significa que puede reasignar variables a diferentes tipos de datos.\n",
        "- Python soporta cuatro tipos numéricos diferentes\n",
        "\n",
        "  - int (enteros con signo) `5`\n",
        "  - long (enteros largos, también se pueden representar en octal y hexadecimal) `5L`,` 0x80`\n",
        "  - float (valores reales de punto flotante) `0.0`,` 0.5e52`\n",
        "  - complejo (números complejos) `14.5j`\n",
        "- Se puede pensar en las listas de la versión más general de una secuencia en Python. A diferencia de las cadenas, son mutables, lo que significa que los elementos dentro de una lista se pueden cambiar.\n",
        "- Lo importante de una lista es que los elementos de una lista no tienen que ser del mismo tipo.\n",
        "- Una gran característica de las estructuras de datos de Python es que admiten el anidamiento. Esto significa que podemos tener estructuras de datos dentro de estructuras de datos\n",
        "- Python tiene una característica avanzada llamada lista de comprensión. Permiten la construcción rápida de listas. Para entender completamente las comprensiones de listas, necesitamos entender los bucles.\n",
        "- Las claves son únicas dentro de un diccionario, mientras que los valores pueden no serlo.\n",
        "- Los valores de un diccionario pueden ser de cualquier tipo, pero las claves deben ser de un tipo de datos inmutables como cadenas, números o tuplas.\n",
        "- En Python, las tuplas son muy similares a las listas, sin embargo, a diferencia de las listas, tienen un significado inmutable que no se pueden cambiar. Usaría tuplas para presentar cosas que no deberían cambiarse, como los días de la semana o las fechas en un calendario. ```t = (1,2,3)```\n",
        "\n",
        "\n",
        "[Basado en notebook ](https://github.com/Pierian-Data/Complete-Python-3-Bootcamp])\n",
        "\n",
        "## Sin ejecutar el codigo, que retorna cada item? \n"
      ],
      "metadata": {
        "id": "S7ezBPB4XIzN"
      }
    },
    {
      "cell_type": "markdown",
      "source": [
        "````\n",
        "# numeros\n",
        "\n",
        "import random\n",
        "\n",
        "import math\n",
        "\n",
        "print(round(-2.5))\n",
        "print(round(2.5))\n",
        "3/2\n",
        "3/float(2)\n",
        "3 % 2\n",
        "3.00//2.00\n",
        "2**3\n",
        "4**0.5\n",
        "math.sqrt(4)\n",
        "2 + 10 * 10 + 3\n",
        "(2+10) * (10+3)\n",
        "\n",
        "# variables\n",
        "a = 10\n",
        "a = a + 10\n",
        "a += 10\n",
        "b = c = a\n",
        "a, b, c = 1, 2, \"john\"\n",
        "my_dogs = 2\n",
        "my_dogs = ['Sammy', 'Frankie']\n",
        "del my_dogs\n",
        "\n",
        "# string\n",
        "txt = 'Hello World!'\n",
        "print(txt)\n",
        "print(txt[0])\n",
        "print(txt[2:5])\n",
        "print(txt[2:])\n",
        "print(txt * 2)\n",
        "print(txt + \"TEST\")\n",
        "\n",
        "txt.upper()\n",
        "txt.split()\n",
        "'Carlos: {}'.format(txt)\n",
        "print(\" %s ,  %s\" % (txt, \"I'm Carlos\"))\n",
        "\n",
        "print('I wrote %s programs today.' % 3.75)\n",
        "print('I wrote %d programs today.' % 3.75)\n",
        "print('I wrote %5.2f programs today.' % 3.75)\n",
        "print('First: %s, Second: %5.2f, Third: %r' % ('hi!', 3.1415, 'bye!'))\n",
        "print('The {2} {1} {0}'.format('fox', 'brown', 'quick'))\n",
        "print('First Object: {a}, Second Object: {b}, Third Object: {c}'.format(\n",
        "    a=1, b='Two', c=12.3))\n",
        "\n",
        "print('{0:8} | {1:9}'.format('Fruit', 'Quantity'))\n",
        "print('{0:8} | {1:9}'.format('Apples', 3.))\n",
        "print('{0:8} | {1:9}'.format('Oranges', 10))\n",
        "\n",
        "print(f'I wrote {3.75:.1f} programs today.')\n",
        "print(f'First:{\"hi!\"}, Second: {3.1415:.2}, Third: {3}')\n",
        "\n",
        "# list\n",
        "\n",
        "my_list = [1, 2, 3]\n",
        "my_list = ['A string', 23, 100.232, 'o']\n",
        "my_list + ['new item']\n",
        "my_list = my_list + ['new item']\n",
        "my_list.pop(0)\n",
        "my_list.reverse()\n",
        "my_list = [12, 13, 5, 8, 12]\n",
        "my_list.sort()\n",
        "my_list * 2\n",
        "my_list = []\n",
        "my_list = list()\n",
        "\n",
        "num_list = range(1, 101)\n",
        "print(num_list[49])\n",
        "type(num_list)\n",
        "len(num_list)\n",
        "\n",
        "new_list = [0, 1, 2, 3, 4, 5, 6]\n",
        "new_list[2] = 2001\n",
        "new_list[2:5]\n",
        "new_list[:3]\n",
        "new_list[-2:]\n",
        "\n",
        "list_1 = [1, 2]\n",
        "list_2 = [3, 4]\n",
        "list_1+list_2\n",
        "list_1.append(list_2)\n",
        "[num*2 for num in list_1]\n",
        "\n",
        "lst_1 = [1, 2, 3]\n",
        "lst_2 = [4, 5, 6]\n",
        "lst_3 = [7, 8, 9]\n",
        "matrix = [lst_1, lst_2, lst_3]\n",
        "matrix[0][0] = 8\n",
        "print(matrix)\n",
        "\n",
        "# diccionarios\n",
        "\n",
        "d = {'a': 10, 'b': 20, 'c': 30}\n",
        "d['a']\n",
        "d['b'] = 40\n",
        "\n",
        "d.values()\n",
        "d.keys()\n",
        "d.items()\n",
        "print(d)\n",
        "d.clear()\n",
        "\n",
        "dict = {'Name': 'Zara', 'Age': 7, 'Name': 'Manni'}\n",
        "print(dict['Name'])\n",
        "dict2 = {}\n",
        "dict2['Name'] = 'Carlos'\n",
        "dict.update(dict2)\n",
        "\n",
        "\n",
        "locations = {'Sinan': ['Baltimore', 'MD'], 'Brandon': ['Arlington', 'VA']}\n",
        "print(locations['Brandon'][1])\n",
        "data = {'a'+str(i): random.randint(5, 100) for i in range(7)}\n",
        "print(data['a1'])\n",
        "data\n",
        "\n",
        "# funciones\n",
        "\n",
        "\n",
        "def calc(a, b):\n",
        "    return a + b\n",
        "\n",
        "\n",
        "print(calc(2, 3))\n",
        "\n",
        "\n",
        "def calc(a, b=5):\n",
        "    return a + b\n",
        "\n",
        "\n",
        "print(calc(2))\n",
        "\n",
        "\n",
        "def funcion(a):\n",
        "    a += 5\n",
        "    print(a, id(a))\n",
        "\n",
        "\n",
        "a = 5\n",
        "funcion(a)\n",
        "print(a, id(a))\n",
        "\n",
        "\n",
        "def funcion_l(a):\n",
        "    a += [4, 5]\n",
        "    print(a, id(a))\n",
        "\n",
        "\n",
        "a = [5, 4]\n",
        "funcion_l(a)\n",
        "print(a, id(a))\n",
        "\n",
        "\n",
        "def askint():\n",
        "    while True:\n",
        "        try:\n",
        "            val = int(input(\"Please enter an integer: \"))\n",
        "        except:\n",
        "            print(\"Looks like you did not enter an integer!\")\n",
        "            continue\n",
        "        else:\n",
        "            print(\"Yep that's an integer!\")\n",
        "            break\n",
        "        finally:\n",
        "            print(\"Finally, I executed!\")\n",
        "        print(val)\n",
        "\n",
        "\n",
        "def decorador(func):\n",
        "\n",
        "    def wrap_func():\n",
        "        print(\"Code B\")\n",
        "        func()\n",
        "        print(\"Code C\")\n",
        "\n",
        "    return wrap_func\n",
        "\n",
        "\n",
        "@decorador\n",
        "def funcion_a():\n",
        "    print(\"Code A\")\n",
        "\n",
        "\n",
        "funcion_a()\n",
        "````"
      ],
      "metadata": {
        "id": "LNf7pb9zXQSj"
      }
    },
    {
      "cell_type": "code",
      "source": [
        ""
      ],
      "metadata": {
        "id": "hdV0bsiYXmCl",
        "colab": {
          "base_uri": "https://localhost:8080/"
        },
        "outputId": "e210a06e-1310-4714-d43b-e9359ecfa1ac"
      },
      "execution_count": null,
      "outputs": [
        {
          "output_type": "stream",
          "name": "stdout",
          "text": [
            "Code B\n",
            "Code A\n",
            "Code C\n"
          ]
        }
      ]
    },
    {
      "cell_type": "markdown",
      "metadata": {
        "id": "-GfqK5VcWzRu"
      },
      "source": [
        "# Introducción a Jupyter\n",
        "\n",
        "Esta guia es basado en el git del profesor **[Marco Teran](https://www.linkedin.com/in/marcoteran/)**\n",
        "\n",
        "[Github](https://github.com/marcoteran/artificialintelligence),\n"
      ]
    },
    {
      "cell_type": "markdown",
      "metadata": {
        "id": "EKf0LxjgBkye"
      },
      "source": [
        "## 1 - Código Python\n",
        "En su versión mas sencilla, cada una de las celdas se puede pensar como un **snippet (fragmento) de código que se puede ejecutar independientemente** de las demás.\n",
        "Para ejecutar la siguiente celda, selccionarla y apretar el boton <i class=\"fa-step-forward fa\"></i> ubicado en la barra superior, o equivalentemente, presionar <span style=\"border: solid 1px #aaa; padding: 2px; border-radius: 4px;\">Shift</span> + <span style=\"border: solid 1px #aaa; padding: 2px; border-radius: 4px;\">Enter</span>"
      ]
    },
    {
      "cell_type": "code",
      "execution_count": null,
      "metadata": {
        "id": "zOOsn0ebBkye",
        "outputId": "8d3f8b2a-2a4c-4eb6-d8e3-90ee79fde14d"
      },
      "outputs": [
        {
          "name": "stdout",
          "output_type": "stream",
          "text": [
            "Hola notebook!\n"
          ]
        }
      ],
      "source": [
        "print(\"Hola notebook!\")"
      ]
    },
    {
      "cell_type": "markdown",
      "metadata": {
        "id": "hBQAy1VoBkyh"
      },
      "source": [
        "Se puede consultar una lista completa de todos los shortcuts (atajos) disponibles en el menu <span style=\"border: solid 1px #aaa; padding: 2px; border-radius: 4px;\">Help</span> <span style=\"border: solid 1px #aaa; padding: 2px; border-radius: 4px;\">Keyboard Shortcuts</span> o con la tecla <span style=\"border: solid 1px #aaa; padding: 2px; border-radius: 4px;\">H</span>\n",
        "<br>\n",
        "Shortcuts importantes:\n",
        "- Click para selccionar una celda\n",
        "- Teniendo seleccionada una celda, <span style=\"border: solid 1px #aaa; padding: 2px; border-radius: 4px;\">Enter</span> para pasar a **modo de edición** y <span style=\"border: solid 1px #aaa; padding: 2px; border-radius: 4px;\">Esc</span> para pasar a **modo ejecución**. Ambos modos pueden identificarse a simple vista por el color de su borde: **<span style=\"color: #66BB6a\">verde</span>** índica modo de edición y **<span style=\"color: #42A5F5\">azul</span>** modo de ejecución.\n",
        "- <span style=\"border: solid 1px #aaa; padding: 2px; border-radius: 4px;\">Shift</span> + <span style=\"border: solid 1px #aaa; padding: 2px; border-radius: 4px;\">Enter</span> para ejecutar una celda y seleccionar la celda siguiente"
      ]
    },
    {
      "cell_type": "markdown",
      "metadata": {
        "id": "eGg3AR7XBkyi"
      },
      "source": [
        "Cada celda es independiente de las demás, pero **comparten el mismo contexto**. Definiciones de variables, funciones y clases, e importaciones de módulos dentro de una celda, permiten que las siguientes celdas tengan acceso a éstas."
      ]
    },
    {
      "cell_type": "code",
      "execution_count": null,
      "metadata": {
        "id": "gmhxJXoTBkyi"
      },
      "outputs": [],
      "source": [
        "import getpass\n",
        "# defino variable en una celda\n",
        "user = getpass.getuser()"
      ]
    },
    {
      "cell_type": "code",
      "execution_count": null,
      "metadata": {
        "id": "z-avy9sfBkyk",
        "colab": {
          "base_uri": "https://localhost:8080/"
        },
        "outputId": "3cca0fa8-0298-499c-8ce2-c8015dd7e9fd"
      },
      "outputs": [
        {
          "output_type": "stream",
          "name": "stdout",
          "text": [
            "Hola root!\n"
          ]
        }
      ],
      "source": [
        "# accedo a la variable definida en la celda anterior\n",
        "print (\"Hola {}!\".format(user))"
      ]
    },
    {
      "cell_type": "markdown",
      "metadata": {
        "id": "DteZAxjABkym"
      },
      "source": [
        "Una diferencia notable con un script.py es que **no estamos obligados a ejecutar celdas en un orden preestablecido**. De todas maneras, es recomendable ordenar un notebook según el orden de lectura estandar para evitar confusiones."
      ]
    },
    {
      "cell_type": "code",
      "execution_count": null,
      "metadata": {
        "id": "Ai9LDGDOBkym",
        "colab": {
          "base_uri": "https://localhost:8080/"
        },
        "outputId": "566c4e3b-f464-4658-c46a-ca7d32eb8d67"
      },
      "outputs": [
        {
          "output_type": "stream",
          "name": "stdout",
          "text": [
            "aquí defino la variable\n"
          ]
        }
      ],
      "source": [
        "print (variable_que_defino_despues)"
      ]
    },
    {
      "cell_type": "code",
      "execution_count": null,
      "metadata": {
        "id": "gc62PlSABkyo"
      },
      "outputs": [],
      "source": [
        "variable_que_defino_despues = 'aquí defino la variable'"
      ]
    },
    {
      "cell_type": "markdown",
      "metadata": {
        "id": "0GKQ39eMBkyp"
      },
      "source": [
        "## 2 - Markdown\n",
        "El contenido de las celdas no está limitado a sólo código de Python. Una alternativa posible es **Markdown**, que es muy útil para explicar las ideas detrás de cada fragmento de código y para guiar al lector en la ejecución del notebook (como venimos haciendo hasta ahora).\n",
        "\n",
        "Incluso es posible insertar código html para insertar imágenes, audios, videos y todas las alternativas que esto provee. Esto es especialmente útil para visualizar información y generar gráficos con datos generados por los snippets de código del notebook.\n",
        "\n",
        "<img src=\"https://www.python.org/static/community_logos/python-logo-master-v3-TM.png\">"
      ]
    },
    {
      "cell_type": "markdown",
      "metadata": {
        "id": "oQzHAAgCBkyq"
      },
      "source": [
        "\n",
        "Ejemplos Markdown:\n",
        "# Título 1\n",
        "## Título 2\n",
        "### Título 3\n",
        "\n",
        "**Nota:** Texto normal. Este es un enlace: [Python](https://www.python.org/).\n",
        "\n",
        "**Texto en negrita**\n",
        "\n",
        "Viñetas:\n",
        "\n",
        "* Nivel 1\n",
        "    * Nivel 2\n",
        "    * Nivel 2\n",
        "        * Nivel 3\n"
      ]
    },
    {
      "cell_type": "markdown",
      "metadata": {
        "id": "6ySC1c8lBkyr"
      },
      "source": [
        "Referencia Markdown: http://commonmark.org/help/ "
      ]
    },
    {
      "cell_type": "markdown",
      "metadata": {
        "id": "hPFP9r0FBkyr"
      },
      "source": [
        "Teniendo una celda selccionada en modo de ejecución (borde azul), puede declararse su modo de interpretación apretando:\n",
        "- <span style=\"border: solid 1px #aaa; padding: 2px; border-radius: 4px;\">Y</span> para interpretar la celda en modo código\n",
        "- <span style=\"border: solid 1px #aaa; padding: 2px; border-radius: 4px; display: inline-block; margin: 5px 0;\">M</span> para modo markdown\n",
        "- <span style=\"border: solid 1px #aaa; padding: 2px; border-radius: 4px;\">R</span> para no interpretar el contenido de la celda\n",
        "\n",
        "En modo Markdown está habilitada la interpretación de código html, con algunas excepciones por temas de seguridad y consistencia del notebook (ej: interpretación de <span style=\"color:#BA2121\">&lt;script&gt;</span>, <span style=\"color:#BA2121\">&lt;style&gt;</span> y atributos relacionados). "
      ]
    },
    {
      "cell_type": "markdown",
      "metadata": {
        "id": "501VjnUHBkys"
      },
      "source": [
        "## 3 - Integración con bash\n",
        "\n",
        "De forma nativa jupyter tiene integración con comandos de bash. Estos son reconocidos mediante el prefijo <span style=\"border: solid 1px #aaa; padding: 2px; border-radius: 4px;\">!</span>. Por ejemplo, si quisiera ver qué versión de python estoy ejecutando:"
      ]
    },
    {
      "cell_type": "code",
      "execution_count": null,
      "metadata": {
        "id": "ndvnrMiaBkys",
        "colab": {
          "base_uri": "https://localhost:8080/"
        },
        "outputId": "07c1de39-2075-4140-feef-bfe05cdb11bf"
      },
      "outputs": [
        {
          "output_type": "stream",
          "name": "stdout",
          "text": [
            "Python 3.7.12\n"
          ]
        }
      ],
      "source": [
        "!python --version"
      ]
    },
    {
      "cell_type": "markdown",
      "metadata": {
        "id": "fpCQg2XTBkyv"
      },
      "source": [
        "Nótese que la celda anterior es interpretada como una celda de código al igual que las celdas que contienen código python. Esto permite que dentro de una celda conviva código de python y de bash sin problemas. \n",
        "\n",
        "Para ejemplificar esto, usemos el comando **ls** en UNIX (**dir** en Windows) que lista los archivos de la carpeta actual:"
      ]
    },
    {
      "cell_type": "code",
      "execution_count": null,
      "metadata": {
        "id": "_AMCVHLOBkyw"
      },
      "outputs": [],
      "source": [
        "files_in_this_folder = !dir\n",
        "for filename in files_in_this_folder:\n",
        "    if filename[-6:] == '.ipynb':\n",
        "        print (filename)"
      ]
    },
    {
      "cell_type": "markdown",
      "metadata": {
        "id": "eDlYoh8TBkyy"
      },
      "source": [
        "## 4 - Jupyter Magic (no en Colab)\n",
        "\n",
        "Extendiendo la capacidad de jupyter de interpretar Python, Bash y Markdown, existen comandos especiales que son parte de la *magia de jupyter*. Estos comandos empiezan con <span style=\"border: solid 1px #aaa; padding: 2px; border-radius: 4px;\">%</span> - para evaluaciones en una sola línea - y con <span style=\"border: solid 1px #aaa; padding: 2px; border-radius: 4px;\">%%</span> para evaluaciones multilínea. Un ejemplo de esto es la posibilidad de insertar html excediendo las capacidad de Markdown y tener la posibilidad de insertar scripts de javascript:"
      ]
    },
    {
      "cell_type": "code",
      "execution_count": null,
      "metadata": {
        "colab": {
          "base_uri": "https://localhost:8080/",
          "height": 38
        },
        "id": "TGeFiOE5Bkyy",
        "outputId": "df2806b3-14ad-4fde-9106-9c35aaab12d5"
      },
      "outputs": [
        {
          "output_type": "display_data",
          "data": {
            "text/html": [
              "<button id=\"click-button\">Click</button>\n",
              "<span id=\"click-counter\">No has hecho click todavía.</span>\n",
              "<script>\n",
              "    $(function() {\n",
              "        var click_counter = 0;\n",
              "        $('#click-button').click(function() {\n",
              "            click_counter += 1;\n",
              "            var message = 'Número de veces que has hecho click: ' + click_counter + (click_counter == 1 ? ' vez' : ' veces')\n",
              "            $('#click-counter').text(message)\n",
              "        })\n",
              "    })\n",
              "</script>"
            ],
            "text/plain": [
              "<IPython.core.display.HTML object>"
            ]
          },
          "metadata": {}
        }
      ],
      "source": [
        "%%html\n",
        "<button id=\"click-button\">Click</button>\n",
        "<span id=\"click-counter\">No has hecho click todavía.</span>\n",
        "<script>\n",
        "    $(function() {\n",
        "        var click_counter = 0;\n",
        "        $('#click-button').click(function() {\n",
        "            click_counter += 1;\n",
        "            var message = 'Número de veces que has hecho click: ' + click_counter + (click_counter == 1 ? ' vez' : ' veces')\n",
        "            $('#click-counter').text(message)\n",
        "        })\n",
        "    })\n",
        "</script>"
      ]
    },
    {
      "cell_type": "markdown",
      "metadata": {
        "id": "M12WyDC7Bky1"
      },
      "source": [
        "Para listar por completo todas las magias con las que viene jupyter, existe el comando <span style=\"border: solid 1px #aaa; padding: 2px; border-radius: 4px;\">% lsmagic</span>"
      ]
    },
    {
      "cell_type": "code",
      "execution_count": null,
      "metadata": {
        "colab": {
          "base_uri": "https://localhost:8080/",
          "height": 159
        },
        "id": "nnsuavSvBky1",
        "outputId": "3543a703-1496-46c9-9531-a54e709a022f"
      },
      "outputs": [
        {
          "output_type": "execute_result",
          "data": {
            "application/json": {
              "cell": {
                "prun": "ExecutionMagics",
                "file": "Other",
                "!": "OSMagics",
                "capture": "ExecutionMagics",
                "timeit": "ExecutionMagics",
                "script": "ScriptMagics",
                "pypy": "Other",
                "system": "OSMagics",
                "perl": "Other",
                "html": "DisplayMagics",
                "bash": "Other",
                "shell": "Other",
                "HTML": "Other",
                "python": "Other",
                "SVG": "Other",
                "javascript": "DisplayMagics",
                "bigquery": "Other",
                "js": "DisplayMagics",
                "writefile": "OSMagics",
                "ruby": "Other",
                "python3": "Other",
                "python2": "Other",
                "latex": "DisplayMagics",
                "sx": "OSMagics",
                "svg": "DisplayMagics",
                "sh": "Other",
                "time": "ExecutionMagics",
                "debug": "ExecutionMagics"
              },
              "line": {
                "psource": "NamespaceMagics",
                "logstart": "LoggingMagics",
                "popd": "OSMagics",
                "tensorflow_version": "Other",
                "loadpy": "CodeMagics",
                "colors": "BasicMagics",
                "who_ls": "NamespaceMagics",
                "lf": "Other",
                "ll": "Other",
                "pprint": "BasicMagics",
                "lk": "Other",
                "ls": "Other",
                "save": "CodeMagics",
                "tb": "ExecutionMagics",
                "lx": "Other",
                "pylab": "PylabMagics",
                "killbgscripts": "ScriptMagics",
                "quickref": "BasicMagics",
                "magic": "BasicMagics",
                "dhist": "OSMagics",
                "edit": "KernelMagics",
                "logstop": "LoggingMagics",
                "gui": "BasicMagics",
                "prun": "ExecutionMagics",
                "debug": "ExecutionMagics",
                "page": "BasicMagics",
                "logstate": "LoggingMagics",
                "ed": "Other",
                "pushd": "OSMagics",
                "timeit": "ExecutionMagics",
                "set_env": "OSMagics",
                "rehashx": "OSMagics",
                "hist": "Other",
                "qtconsole": "KernelMagics",
                "rm": "Other",
                "dirs": "OSMagics",
                "run": "ExecutionMagics",
                "reset_selective": "NamespaceMagics",
                "pinfo2": "NamespaceMagics",
                "matplotlib": "PylabMagics",
                "unload_ext": "ExtensionMagics",
                "doctest_mode": "BasicMagics",
                "logoff": "LoggingMagics",
                "reload_ext": "ExtensionMagics",
                "pdb": "ExecutionMagics",
                "load": "CodeMagics",
                "lsmagic": "BasicMagics",
                "autosave": "KernelMagics",
                "cd": "OSMagics",
                "pastebin": "CodeMagics",
                "alias_magic": "BasicMagics",
                "cp": "Other",
                "autocall": "AutoMagics",
                "ldir": "Other",
                "bookmark": "OSMagics",
                "connect_info": "KernelMagics",
                "mkdir": "Other",
                "system": "OSMagics",
                "whos": "NamespaceMagics",
                "rmdir": "Other",
                "automagic": "AutoMagics",
                "store": "StoreMagics",
                "more": "KernelMagics",
                "shell": "Other",
                "pdef": "NamespaceMagics",
                "precision": "BasicMagics",
                "pinfo": "NamespaceMagics",
                "pwd": "OSMagics",
                "psearch": "NamespaceMagics",
                "reset": "NamespaceMagics",
                "recall": "HistoryMagics",
                "xdel": "NamespaceMagics",
                "xmode": "BasicMagics",
                "cat": "Other",
                "mv": "Other",
                "rerun": "HistoryMagics",
                "logon": "LoggingMagics",
                "history": "HistoryMagics",
                "pycat": "OSMagics",
                "pip": "Other",
                "unalias": "OSMagics",
                "env": "OSMagics",
                "load_ext": "ExtensionMagics",
                "config": "ConfigMagics",
                "profile": "BasicMagics",
                "pfile": "NamespaceMagics",
                "less": "KernelMagics",
                "who": "NamespaceMagics",
                "notebook": "BasicMagics",
                "man": "KernelMagics",
                "sx": "OSMagics",
                "macro": "ExecutionMagics",
                "clear": "KernelMagics",
                "alias": "OSMagics",
                "time": "ExecutionMagics",
                "sc": "OSMagics",
                "rep": "Other",
                "pdoc": "NamespaceMagics"
              }
            },
            "text/plain": [
              "Available line magics:\n",
              "%alias  %alias_magic  %autocall  %automagic  %autosave  %bookmark  %cat  %cd  %clear  %colors  %config  %connect_info  %cp  %debug  %dhist  %dirs  %doctest_mode  %ed  %edit  %env  %gui  %hist  %history  %killbgscripts  %ldir  %less  %lf  %lk  %ll  %load  %load_ext  %loadpy  %logoff  %logon  %logstart  %logstate  %logstop  %ls  %lsmagic  %lx  %macro  %magic  %man  %matplotlib  %mkdir  %more  %mv  %notebook  %page  %pastebin  %pdb  %pdef  %pdoc  %pfile  %pinfo  %pinfo2  %pip  %popd  %pprint  %precision  %profile  %prun  %psearch  %psource  %pushd  %pwd  %pycat  %pylab  %qtconsole  %quickref  %recall  %rehashx  %reload_ext  %rep  %rerun  %reset  %reset_selective  %rm  %rmdir  %run  %save  %sc  %set_env  %shell  %store  %sx  %system  %tb  %tensorflow_version  %time  %timeit  %unalias  %unload_ext  %who  %who_ls  %whos  %xdel  %xmode\n",
              "\n",
              "Available cell magics:\n",
              "%%!  %%HTML  %%SVG  %%bash  %%bigquery  %%capture  %%debug  %%file  %%html  %%javascript  %%js  %%latex  %%perl  %%prun  %%pypy  %%python  %%python2  %%python3  %%ruby  %%script  %%sh  %%shell  %%svg  %%sx  %%system  %%time  %%timeit  %%writefile\n",
              "\n",
              "Automagic is ON, % prefix IS NOT needed for line magics."
            ]
          },
          "metadata": {},
          "execution_count": 13
        }
      ],
      "source": [
        "% lsmagic"
      ]
    },
    {
      "cell_type": "markdown",
      "source": [
        ""
      ],
      "metadata": {
        "id": "b4gQscjUabUx"
      }
    },
    {
      "cell_type": "markdown",
      "metadata": {
        "id": "A0dQeXGsBky3"
      },
      "source": [
        "## 5 - Servidor remoto\n",
        "\n",
        "La principal interfaz de Jupyter involucra un navegador para proveer la interfaz al usuario, pero la ejecución de código se realiza del lado del servidor. Esto permite que, habiendo hecho las configuraciones pertinentes, el usuario acceda de forma remota al servidor. Por ejemplo, en la necesidad de procesar una gran cantidad de información, se puede dejar corriendo un servidor de jupyter en un computador con mejores recursos de hardware y acceder a éste desde cualquier computador que cuente con un navegador y una conexión a internet.\n",
        "\n",
        "Para mas información, leer la [documentación oficial de jupyter](http://jupyter-notebook.readthedocs.io/en/latest/public_server.html) sobre este tema"
      ]
    },
    {
      "cell_type": "markdown",
      "metadata": {
        "id": "u-1SBh-_Bky3"
      },
      "source": [
        "## 6 - Extensiones de la comunidad\n",
        "\n",
        "Con la rápida adopción y la creciente comunidad de usuarios de Jupyter, han aparecido una gran cantidad de extensiones que le agregan funcionalidades. Éstas se encuentran en el [repositorio de extensiones](https://github.com/ipython-contrib/jupyter_contrib_nbextensions) de Jupyter.\n",
        "\n",
        "Las extensiones disponibles ofrecen un amplio rango de funcionalidades agregadas. Desde correctores ortográficos hasta generadores automaticos de tablas de contenidos."
      ]
    },
    {
      "cell_type": "markdown",
      "metadata": {
        "id": "iw15WBMDWzR6"
      },
      "source": [
        "___"
      ]
    },
    {
      "cell_type": "markdown",
      "metadata": {
        "id": "P4aXr_mIWzR6"
      },
      "source": [
        "# Python básico"
      ]
    },
    {
      "cell_type": "markdown",
      "metadata": {
        "id": "9Cen9BC7WzR6"
      },
      "source": [
        "**Nota:** Este material no constituye un manual de referencia completo de Python o un curso de programación de computadores en general. Si usted no tiene experiencia programando en Python, se recomienda que revise primero otros materiales, por ejemplo: [CodeCademy: Learn Python (10 hours)](https://www.codecademy.com/courses/learn-python/lessons/python-syntax/exercises/welcome?action=lesson_resume) o el curso recomendado en clase de Datacamp"
      ]
    },
    {
      "cell_type": "markdown",
      "metadata": {
        "id": "i149TFdOWzR6"
      },
      "source": [
        "**Este notebook busca que usted comprenda los conceptos a traavés de ejemplos**\n",
        "\n",
        "Se presentarán los siguientes temas básicos de Python:\n",
        "\n",
        "* Comentarios\n",
        "* Tipos de dato\n",
        "    * Números\n",
        "        * Asignación de variables\n",
        "    * Cadenas (Strings)\n",
        "        * Imprimiendo en pantalla\n",
        "        * Índices de cadenas\n",
        "        * Troceado de cadenas (Slicing)\n",
        "    * Listas\n",
        "    * Diccionarios\n",
        "    * Tuplas \n",
        "    * Conjuntos (Sets)\n",
        "    * Booleanos\n",
        "* Operadores relacionales\n",
        "* Operadores lógicos\n",
        "* Fecha y Hora\n",
        "* Control de flujo\n",
        "    * Condicionales: if, elif, else\n",
        "    * Ciclo for\n",
        "    * Ciclo while\n",
        "* range()\n",
        "* Listas por comprensión (list comprehension)\n",
        "* Funciones\n",
        "* Expresiones lambda\n",
        "* map y filter\n",
        "* Métodos\n",
        "____"
      ]
    },
    {
      "cell_type": "markdown",
      "metadata": {
        "id": "BzAOkBn0WzR7"
      },
      "source": [
        "## Comentarios"
      ]
    },
    {
      "cell_type": "code",
      "execution_count": null,
      "metadata": {
        "collapsed": true,
        "id": "waa5EEufWzR7"
      },
      "outputs": [],
      "source": [
        "# Este es un comentario de una sola línea en python\n",
        "print('Este es el') # Esto también es un comentario\n",
        " \n",
        "# Este es otro comentario en python\n",
        "# aunque lo hemos escrito en dos lineas\n",
        " \n",
        "\"\"\" Este es un comentario multilinea. La\n",
        "siguiente parte realiza una serie\n",
        "de cosas muy interesantes \"\"\"\n",
        "print('Curso rápido de')\n",
        "print('Python') \n"
      ]
    },
    {
      "cell_type": "markdown",
      "metadata": {
        "id": "V-XzXrH0WzR7"
      },
      "source": [
        "## Tipos de dato\n",
        "\n",
        "### Números"
      ]
    },
    {
      "cell_type": "code",
      "execution_count": null,
      "metadata": {
        "id": "tBvbTK4cWzR8"
      },
      "outputs": [],
      "source": [
        "1 + 1"
      ]
    },
    {
      "cell_type": "code",
      "execution_count": null,
      "metadata": {
        "id": "a0LS1zAgWzR8"
      },
      "outputs": [],
      "source": [
        "10 - 88"
      ]
    },
    {
      "cell_type": "code",
      "execution_count": null,
      "metadata": {
        "id": "8Luw_T34WzR8"
      },
      "outputs": [],
      "source": [
        "1 * 3"
      ]
    },
    {
      "cell_type": "code",
      "execution_count": null,
      "metadata": {
        "id": "C_WeFka-WzR8"
      },
      "outputs": [],
      "source": [
        "1 / 2"
      ]
    },
    {
      "cell_type": "code",
      "execution_count": null,
      "metadata": {
        "id": "7CV_k8uCWzR9"
      },
      "outputs": [],
      "source": [
        "2 ** 4"
      ]
    },
    {
      "cell_type": "code",
      "execution_count": null,
      "metadata": {
        "id": "YYQN25KbWzR9"
      },
      "outputs": [],
      "source": [
        "4 % 2"
      ]
    },
    {
      "cell_type": "code",
      "execution_count": null,
      "metadata": {
        "id": "BekaKCTOWzR9"
      },
      "outputs": [],
      "source": [
        "5 % 2"
      ]
    },
    {
      "cell_type": "code",
      "execution_count": null,
      "metadata": {
        "id": "FJe1BiorWzR9"
      },
      "outputs": [],
      "source": [
        "# Precedencia de operadores\n",
        "2 + 3 * 5 + 5"
      ]
    },
    {
      "cell_type": "code",
      "execution_count": null,
      "metadata": {
        "id": "6OyYUYHuWzR-"
      },
      "outputs": [],
      "source": [
        "# Los paréntesis pueden modificar la precedencia\n",
        "(2 + 3) * (5 + 5)"
      ]
    },
    {
      "cell_type": "markdown",
      "metadata": {
        "id": "ixQMiZfTWzR-"
      },
      "source": [
        "#### Asignación de variables"
      ]
    },
    {
      "cell_type": "code",
      "execution_count": null,
      "metadata": {
        "collapsed": true,
        "id": "CsX4FluuWzR-"
      },
      "outputs": [],
      "source": [
        "# Nombres de variables: no deben empezar con números ni símbolos especiales e.g. $\n",
        "variable = 2\n",
        "mi_var = 6"
      ]
    },
    {
      "cell_type": "code",
      "execution_count": null,
      "metadata": {
        "collapsed": true,
        "id": "az8LIcKvWzR-"
      },
      "outputs": [],
      "source": [
        "x = 2\n",
        "y = 3"
      ]
    },
    {
      "cell_type": "code",
      "execution_count": null,
      "metadata": {
        "collapsed": true,
        "id": "Qel501h-WzR_"
      },
      "outputs": [],
      "source": [
        "z = x + y"
      ]
    },
    {
      "cell_type": "code",
      "execution_count": null,
      "metadata": {
        "id": "B4BUiSFrWzSA"
      },
      "outputs": [],
      "source": [
        "z"
      ]
    },
    {
      "cell_type": "markdown",
      "metadata": {
        "id": "XBQnQMz3WzSA"
      },
      "source": [
        "### Cadenas (Strings)"
      ]
    },
    {
      "cell_type": "code",
      "execution_count": null,
      "metadata": {
        "id": "P-E3VP4hWzSA"
      },
      "outputs": [],
      "source": [
        "'comilla simple'"
      ]
    },
    {
      "cell_type": "code",
      "execution_count": null,
      "metadata": {
        "id": "J3_z261hWzSB"
      },
      "outputs": [],
      "source": [
        "\"comillas dobles\""
      ]
    },
    {
      "cell_type": "code",
      "execution_count": null,
      "metadata": {
        "id": "02QAjDtSWzSB"
      },
      "outputs": [],
      "source": [
        "'uso del caracter de escape para escribir el caracter de comilla simple \\' dentro de una cadena con comilla simple'"
      ]
    },
    {
      "cell_type": "code",
      "execution_count": null,
      "metadata": {
        "id": "FOvlJ16kWzSB"
      },
      "outputs": [],
      "source": [
        "\"usando comillas dobles no es necesario el caracter de escape para escribir el caracter de comilla simple ' dentro de una cadena\""
      ]
    },
    {
      "cell_type": "markdown",
      "metadata": {
        "id": "bVPpxuTBWzSB"
      },
      "source": [
        "#### Imprimiendo en pantalla"
      ]
    },
    {
      "cell_type": "code",
      "execution_count": null,
      "metadata": {
        "collapsed": true,
        "id": "3gZN-tZnWzSB"
      },
      "outputs": [],
      "source": [
        "x = 'hello'"
      ]
    },
    {
      "cell_type": "code",
      "execution_count": null,
      "metadata": {
        "id": "6cYbmuU5WzSC"
      },
      "outputs": [],
      "source": [
        "x"
      ]
    },
    {
      "cell_type": "code",
      "execution_count": null,
      "metadata": {
        "id": "5npbTC7rWzSC"
      },
      "outputs": [],
      "source": [
        "print(x)"
      ]
    },
    {
      "cell_type": "code",
      "execution_count": null,
      "metadata": {
        "collapsed": true,
        "id": "QDjcYB_OWzSC"
      },
      "outputs": [],
      "source": [
        "num = 12\n",
        "name = 'Felipe'"
      ]
    },
    {
      "cell_type": "code",
      "execution_count": null,
      "metadata": {
        "id": "ROfYJMmpWzSC"
      },
      "outputs": [],
      "source": [
        "print('Mi número es: {} y mi nombre es: {}'.format(num,name))"
      ]
    },
    {
      "cell_type": "code",
      "execution_count": null,
      "metadata": {
        "id": "dOabdDhOWzSC"
      },
      "outputs": [],
      "source": [
        "print('Mi número es: {uno} y mi nombre es: {dos}'.format(uno=num,dos=name))"
      ]
    },
    {
      "cell_type": "code",
      "execution_count": null,
      "metadata": {
        "id": "HbhG9a9SWzSD"
      },
      "outputs": [],
      "source": [
        "print('Mi número es: {uno} y mi nombre es: {dos}, otra vez el número: {uno}'.format(uno=num, dos=name))"
      ]
    },
    {
      "cell_type": "code",
      "execution_count": null,
      "metadata": {
        "id": "OAIY3NvzWzSD"
      },
      "outputs": [],
      "source": [
        "print(\"Mi número es: %d y mi nombre es: %s\" % (num,name)) "
      ]
    },
    {
      "cell_type": "markdown",
      "metadata": {
        "collapsed": true,
        "id": "lC4jbfgCWzSE"
      },
      "source": [
        "#### Índices de cadenas"
      ]
    },
    {
      "cell_type": "code",
      "execution_count": null,
      "metadata": {
        "collapsed": true,
        "id": "coLKupXeWzSE"
      },
      "outputs": [],
      "source": [
        "s = \"Introducción al Análisis y Visualización de Datos con Python\""
      ]
    },
    {
      "cell_type": "code",
      "execution_count": null,
      "metadata": {
        "id": "pfxEirMrWzSE"
      },
      "outputs": [],
      "source": [
        "s[0]"
      ]
    },
    {
      "cell_type": "code",
      "execution_count": null,
      "metadata": {
        "id": "bpcbi_17WzSF"
      },
      "outputs": [],
      "source": [
        "s[3]"
      ]
    },
    {
      "cell_type": "markdown",
      "metadata": {
        "id": "tPujxu0BWzSF"
      },
      "source": [
        "#### Troceado de cadenas (Slicing)\n",
        "\n",
        "** cadena[inicio:fin:paso] **\n",
        "* inicio (incluído)\n",
        "* fin (excluído)\n",
        "\n",
        "Valores por defecto: \n",
        "* inicio = 0\n",
        "* fin = longitud cadena\n",
        "* paso = 1 (puede ser negativo para empezar desde el final de la cadena hacia la izquierda)"
      ]
    },
    {
      "cell_type": "code",
      "execution_count": null,
      "metadata": {
        "id": "u-3y3jiRWzSF"
      },
      "outputs": [],
      "source": [
        "s[0:10]"
      ]
    },
    {
      "cell_type": "code",
      "execution_count": null,
      "metadata": {
        "id": "Gkj9AWjwWzSF"
      },
      "outputs": [],
      "source": [
        "s[:10]"
      ]
    },
    {
      "cell_type": "code",
      "execution_count": null,
      "metadata": {
        "id": "muXjBB8ZWzSF"
      },
      "outputs": [],
      "source": [
        "s[:]"
      ]
    },
    {
      "cell_type": "code",
      "execution_count": null,
      "metadata": {
        "id": "zomDSOghWzSG"
      },
      "outputs": [],
      "source": [
        "s[0::2]"
      ]
    },
    {
      "cell_type": "code",
      "execution_count": null,
      "metadata": {
        "id": "K-dy_DclWzSG"
      },
      "outputs": [],
      "source": [
        "s[::-1]"
      ]
    },
    {
      "cell_type": "code",
      "execution_count": null,
      "metadata": {
        "collapsed": true,
        "id": "n6TKmSEgWzSG"
      },
      "outputs": [],
      "source": [
        "cad = \"Amor a Roma\""
      ]
    },
    {
      "cell_type": "code",
      "execution_count": null,
      "metadata": {
        "id": "NGpP48UJWzSG"
      },
      "outputs": [],
      "source": [
        "cad[::-1]"
      ]
    },
    {
      "cell_type": "code",
      "execution_count": null,
      "metadata": {
        "collapsed": true,
        "id": "t4D7mYu9WzSH"
      },
      "outputs": [],
      "source": [
        "oculto = \"!XeXgXaXsXsXeXmX XtXeXrXcXeXsX XeXhXtX XmXaX XI\""
      ]
    },
    {
      "cell_type": "code",
      "execution_count": null,
      "metadata": {
        "id": "DWJxRhx2WzSH"
      },
      "outputs": [],
      "source": [
        "mensaje = oculto[::-2]\n",
        "mensaje"
      ]
    },
    {
      "cell_type": "markdown",
      "metadata": {
        "id": "iSBFkjDbWzSH"
      },
      "source": [
        "### Listas"
      ]
    },
    {
      "cell_type": "code",
      "execution_count": null,
      "metadata": {
        "id": "Fuczd71IWzSH"
      },
      "outputs": [],
      "source": [
        "[1,2,3]"
      ]
    },
    {
      "cell_type": "code",
      "execution_count": null,
      "metadata": {
        "id": "EJFxauQrWzSH"
      },
      "outputs": [],
      "source": [
        "['a','b','c']"
      ]
    },
    {
      "cell_type": "code",
      "execution_count": null,
      "metadata": {
        "id": "DxYDAW1hWzSI"
      },
      "outputs": [],
      "source": [
        "['hi',1,[1,2]]"
      ]
    },
    {
      "cell_type": "code",
      "execution_count": null,
      "metadata": {
        "collapsed": true,
        "id": "YZ7cTDToWzSI"
      },
      "outputs": [],
      "source": [
        "my_list = ['a','b','c']"
      ]
    },
    {
      "cell_type": "code",
      "execution_count": null,
      "metadata": {
        "id": "sobFiCslWzSI"
      },
      "outputs": [],
      "source": [
        "my_list"
      ]
    },
    {
      "cell_type": "code",
      "execution_count": null,
      "metadata": {
        "collapsed": true,
        "id": "eaYnQOCTWzSI"
      },
      "outputs": [],
      "source": [
        "my_list.append('d')"
      ]
    },
    {
      "cell_type": "code",
      "execution_count": null,
      "metadata": {
        "id": "5_2JDIKhWzSJ"
      },
      "outputs": [],
      "source": [
        "my_list"
      ]
    },
    {
      "cell_type": "code",
      "execution_count": null,
      "metadata": {
        "id": "PhVrkuR8WzSJ"
      },
      "outputs": [],
      "source": [
        "my_list[0]"
      ]
    },
    {
      "cell_type": "code",
      "execution_count": null,
      "metadata": {
        "id": "ow6l8TPMWzSJ"
      },
      "outputs": [],
      "source": [
        "my_list[1]"
      ]
    },
    {
      "cell_type": "code",
      "execution_count": null,
      "metadata": {
        "id": "aNTfj13KWzSJ"
      },
      "outputs": [],
      "source": [
        "my_list[1:]"
      ]
    },
    {
      "cell_type": "code",
      "execution_count": null,
      "metadata": {
        "id": "RUvP3OlzWzSJ"
      },
      "outputs": [],
      "source": [
        "my_list[:1]"
      ]
    },
    {
      "cell_type": "code",
      "execution_count": null,
      "metadata": {
        "collapsed": true,
        "id": "tdwS77y_WzSK"
      },
      "outputs": [],
      "source": [
        "my_list[0] = 'NEW'"
      ]
    },
    {
      "cell_type": "code",
      "execution_count": null,
      "metadata": {
        "id": "IdLb5AqJWzSK"
      },
      "outputs": [],
      "source": [
        "my_list"
      ]
    },
    {
      "cell_type": "code",
      "execution_count": null,
      "metadata": {
        "collapsed": true,
        "id": "V8fJtOl5WzSK"
      },
      "outputs": [],
      "source": [
        "anidada = [1,2,[3,4],5]"
      ]
    },
    {
      "cell_type": "code",
      "execution_count": null,
      "metadata": {
        "id": "2MJAM4o0WzSK"
      },
      "outputs": [],
      "source": [
        "anidada[2]"
      ]
    },
    {
      "cell_type": "code",
      "execution_count": null,
      "metadata": {
        "id": "l29pM7LJWzSK"
      },
      "outputs": [],
      "source": [
        "anidada[2][0]"
      ]
    },
    {
      "cell_type": "code",
      "execution_count": null,
      "metadata": {
        "collapsed": true,
        "id": "WVZJ_vbcWzSL"
      },
      "outputs": [],
      "source": [
        "anidada = [1,2,3,[4,5,['target']]]"
      ]
    },
    {
      "cell_type": "code",
      "execution_count": null,
      "metadata": {
        "id": "JtBRvDgTWzSL"
      },
      "outputs": [],
      "source": [
        "anidada[3]"
      ]
    },
    {
      "cell_type": "code",
      "execution_count": null,
      "metadata": {
        "id": "Nvos8dBDWzSM"
      },
      "outputs": [],
      "source": [
        "anidada[3][2]"
      ]
    },
    {
      "cell_type": "code",
      "execution_count": null,
      "metadata": {
        "id": "6kEgj8CkWzSM"
      },
      "outputs": [],
      "source": [
        "anidada[3][2][0]"
      ]
    },
    {
      "cell_type": "markdown",
      "metadata": {
        "id": "EGzf7Y-VWzSM"
      },
      "source": [
        "### Diccionarios"
      ]
    },
    {
      "cell_type": "code",
      "execution_count": null,
      "metadata": {
        "collapsed": true,
        "id": "6ekJ3RM1WzSN"
      },
      "outputs": [],
      "source": [
        "d = {'key1':'item1','key2':1000}"
      ]
    },
    {
      "cell_type": "code",
      "execution_count": null,
      "metadata": {
        "id": "2QXEJMiGWzSN"
      },
      "outputs": [],
      "source": [
        "d[0] # no funcionará"
      ]
    },
    {
      "cell_type": "code",
      "execution_count": null,
      "metadata": {
        "id": "6Ksudo0VWzSO"
      },
      "outputs": [],
      "source": [
        "d['key1']"
      ]
    },
    {
      "cell_type": "code",
      "execution_count": null,
      "metadata": {
        "id": "9xVNBeRdWzSO"
      },
      "outputs": [],
      "source": [
        "d['key2']"
      ]
    },
    {
      "cell_type": "code",
      "execution_count": null,
      "metadata": {
        "id": "FLtld50mWzSO"
      },
      "outputs": [],
      "source": [
        "d"
      ]
    },
    {
      "cell_type": "code",
      "execution_count": null,
      "metadata": {
        "collapsed": true,
        "id": "RYw8PDMxWzSP"
      },
      "outputs": [],
      "source": [
        "d = {'k1':[1, 2, 3, 4, 5], 'k2': 'Hola'}"
      ]
    },
    {
      "cell_type": "code",
      "execution_count": null,
      "metadata": {
        "id": "Gm4NtJy2WzSP"
      },
      "outputs": [],
      "source": [
        "d['k1']"
      ]
    },
    {
      "cell_type": "code",
      "execution_count": null,
      "metadata": {
        "id": "I8P_JMOsWzSP"
      },
      "outputs": [],
      "source": [
        "d['k1'][3]"
      ]
    },
    {
      "cell_type": "code",
      "execution_count": null,
      "metadata": {
        "collapsed": true,
        "id": "P73U8jVgWzSP"
      },
      "outputs": [],
      "source": [
        "lista = d['k1']"
      ]
    },
    {
      "cell_type": "code",
      "execution_count": null,
      "metadata": {
        "id": "SGaTH5SqWzSP"
      },
      "outputs": [],
      "source": [
        "lista"
      ]
    },
    {
      "cell_type": "code",
      "execution_count": null,
      "metadata": {
        "id": "dMjxb4NlWzSQ"
      },
      "outputs": [],
      "source": [
        "lista[3]"
      ]
    },
    {
      "cell_type": "code",
      "execution_count": null,
      "metadata": {
        "collapsed": true,
        "id": "l9brK9-AWzSR"
      },
      "outputs": [],
      "source": [
        "# un diccionario anidado dentro de otro diccionario\n",
        "d = {'k1':{'innerkey1':[1, 2, 3, 10]}}"
      ]
    },
    {
      "cell_type": "code",
      "execution_count": null,
      "metadata": {
        "id": "S_WCYsGGWzSR"
      },
      "outputs": [],
      "source": [
        "d['k1']"
      ]
    },
    {
      "cell_type": "code",
      "execution_count": null,
      "metadata": {
        "id": "K2HSsLdfWzSR"
      },
      "outputs": [],
      "source": [
        "d['k1']['innerkey1']"
      ]
    },
    {
      "cell_type": "code",
      "execution_count": null,
      "metadata": {
        "id": "8Nymhe7-WzSR"
      },
      "outputs": [],
      "source": [
        "d['k1']['innerkey1'][3]"
      ]
    },
    {
      "cell_type": "markdown",
      "metadata": {
        "id": "YOM5gswFWzSR"
      },
      "source": [
        "### Tuplas "
      ]
    },
    {
      "cell_type": "code",
      "execution_count": null,
      "metadata": {
        "collapsed": true,
        "id": "lKHSOAx2WzSS"
      },
      "outputs": [],
      "source": [
        "lista = [1, 2, 3]"
      ]
    },
    {
      "cell_type": "code",
      "execution_count": null,
      "metadata": {
        "id": "ZLfZ0y5RWzSS"
      },
      "outputs": [],
      "source": [
        "lista"
      ]
    },
    {
      "cell_type": "code",
      "execution_count": null,
      "metadata": {
        "collapsed": true,
        "id": "Ks9J--_DWzSS"
      },
      "outputs": [],
      "source": [
        "lista [1] = 'Nuevo valor'"
      ]
    },
    {
      "cell_type": "code",
      "execution_count": null,
      "metadata": {
        "id": "FeB794PZWzSS"
      },
      "outputs": [],
      "source": [
        "lista "
      ]
    },
    {
      "cell_type": "code",
      "execution_count": null,
      "metadata": {
        "collapsed": true,
        "id": "E5FLEnm_WzSS"
      },
      "outputs": [],
      "source": [
        "tupla = (1,2,3)"
      ]
    },
    {
      "cell_type": "code",
      "execution_count": null,
      "metadata": {
        "id": "EsOsIfHGWzST"
      },
      "outputs": [],
      "source": [
        "tupla"
      ]
    },
    {
      "cell_type": "code",
      "execution_count": null,
      "metadata": {
        "id": "9B8KwfiWWzST"
      },
      "outputs": [],
      "source": [
        "tupla[0]"
      ]
    },
    {
      "cell_type": "code",
      "execution_count": null,
      "metadata": {
        "id": "VvraSAnmWzST"
      },
      "outputs": [],
      "source": [
        "tupla[0] = 'NEW'"
      ]
    },
    {
      "cell_type": "code",
      "execution_count": null,
      "metadata": {
        "id": "y0nCD2t0WzST"
      },
      "outputs": [],
      "source": [
        "tupla      # las tuplas son inmutables, no se puedes reasignar"
      ]
    },
    {
      "cell_type": "markdown",
      "metadata": {
        "id": "LEgqNvFDWzSU"
      },
      "source": [
        "### Conjuntos (Sets)\n",
        "\n",
        "Son colecciones de elementos únicos"
      ]
    },
    {
      "cell_type": "code",
      "execution_count": null,
      "metadata": {
        "id": "3b6-C-J_WzSU"
      },
      "outputs": [],
      "source": [
        "{1,2,3}"
      ]
    },
    {
      "cell_type": "code",
      "execution_count": null,
      "metadata": {
        "id": "7ntSgZ5XWzSU"
      },
      "outputs": [],
      "source": [
        "{1,2,3,1,2,1,2,3,3,3,3,2,2,2,1,1,2}"
      ]
    },
    {
      "cell_type": "code",
      "execution_count": null,
      "metadata": {
        "id": "jnRp7aBYWzSU"
      },
      "outputs": [],
      "source": [
        "set([1, 1, 1, 2, 2, 6, 6, 2, 8, 1])"
      ]
    },
    {
      "cell_type": "code",
      "execution_count": null,
      "metadata": {
        "collapsed": true,
        "id": "EbTdTedzWzSU"
      },
      "outputs": [],
      "source": [
        "s = {1, 2, 3}"
      ]
    },
    {
      "cell_type": "code",
      "execution_count": null,
      "metadata": {
        "id": "gCmYDpZnWzSU"
      },
      "outputs": [],
      "source": [
        "s"
      ]
    },
    {
      "cell_type": "code",
      "execution_count": null,
      "metadata": {
        "collapsed": true,
        "id": "9A3k8yfDWzSU"
      },
      "outputs": [],
      "source": [
        "s.add(5)"
      ]
    },
    {
      "cell_type": "code",
      "execution_count": null,
      "metadata": {
        "id": "-oQfz7MVWzSV"
      },
      "outputs": [],
      "source": [
        "s"
      ]
    },
    {
      "cell_type": "code",
      "execution_count": null,
      "metadata": {
        "collapsed": true,
        "id": "_jNIwygsWzSV"
      },
      "outputs": [],
      "source": [
        "s.add(5)"
      ]
    },
    {
      "cell_type": "code",
      "execution_count": null,
      "metadata": {
        "id": "xu7XBO-GWzSV"
      },
      "outputs": [],
      "source": [
        "s"
      ]
    },
    {
      "cell_type": "markdown",
      "metadata": {
        "id": "fpNq9upMWzSW"
      },
      "source": [
        "### Booleanos"
      ]
    },
    {
      "cell_type": "code",
      "execution_count": null,
      "metadata": {
        "id": "1XNAEqDqWzSW"
      },
      "outputs": [],
      "source": [
        "True"
      ]
    },
    {
      "cell_type": "code",
      "execution_count": null,
      "metadata": {
        "id": "uhUTZyWOWzSW"
      },
      "outputs": [],
      "source": [
        "False"
      ]
    },
    {
      "cell_type": "markdown",
      "metadata": {
        "id": "p9P4SgRiWzSX"
      },
      "source": [
        "____"
      ]
    },
    {
      "cell_type": "markdown",
      "metadata": {
        "id": "6eZBkK_ODckO"
      },
      "source": [
        "## Operadores Relacionales"
      ]
    },
    {
      "cell_type": "code",
      "execution_count": null,
      "metadata": {
        "id": "Ejx-mNK9DckP"
      },
      "outputs": [],
      "source": [
        "1 > 2"
      ]
    },
    {
      "cell_type": "code",
      "execution_count": null,
      "metadata": {
        "id": "J0A10BsgDckP"
      },
      "outputs": [],
      "source": [
        "1 < 2"
      ]
    },
    {
      "cell_type": "code",
      "execution_count": null,
      "metadata": {
        "id": "NM_LZQXQDckQ"
      },
      "outputs": [],
      "source": [
        "1 >= 1"
      ]
    },
    {
      "cell_type": "code",
      "execution_count": null,
      "metadata": {
        "id": "Q43o7FI1DckR"
      },
      "outputs": [],
      "source": [
        "1 <= 4"
      ]
    },
    {
      "cell_type": "code",
      "execution_count": null,
      "metadata": {
        "id": "W2IGyZjtDckS"
      },
      "outputs": [],
      "source": [
        "1 == 1"
      ]
    },
    {
      "cell_type": "code",
      "execution_count": null,
      "metadata": {
        "id": "dq2XbMmzDckT"
      },
      "outputs": [],
      "source": [
        "# el operador de igualdad es ==\n",
        "# si usamos = Python lo interpreta como una asignación\n",
        "# y en el siguiente caso falla\n",
        "1 = 1"
      ]
    },
    {
      "cell_type": "code",
      "execution_count": null,
      "metadata": {
        "id": "BHZmoW1wDckU"
      },
      "outputs": [],
      "source": [
        "# el operador de desigualdad es !=\n",
        "10 != 100"
      ]
    },
    {
      "cell_type": "code",
      "execution_count": null,
      "metadata": {
        "id": "4vQh0TQODckW"
      },
      "outputs": [],
      "source": [
        "10 != 10"
      ]
    },
    {
      "cell_type": "code",
      "execution_count": null,
      "metadata": {
        "id": "hB_Us3jsDckW"
      },
      "outputs": [],
      "source": [
        "'hi' == 'bye'"
      ]
    },
    {
      "cell_type": "code",
      "execution_count": null,
      "metadata": {
        "id": "r6erYuJDDckX"
      },
      "outputs": [],
      "source": [
        "[1, 2, 100] == [1, 2, 100]"
      ]
    },
    {
      "cell_type": "code",
      "execution_count": null,
      "metadata": {
        "id": "g9rnJoUqDckY"
      },
      "outputs": [],
      "source": [
        "{'k1':1, 'k2':2, 'k3':[1,2,3]} == {'k1':1, 'k2':2, 'k3':[1,2,3]}"
      ]
    },
    {
      "cell_type": "markdown",
      "metadata": {
        "id": "f7SX2FYvDckY"
      },
      "source": [
        "## Operadores Lógicos"
      ]
    },
    {
      "cell_type": "code",
      "execution_count": null,
      "metadata": {
        "id": "r5kIqfpXDckZ"
      },
      "outputs": [],
      "source": [
        "(1 > 2) and (2 < 3)"
      ]
    },
    {
      "cell_type": "code",
      "execution_count": null,
      "metadata": {
        "id": "s_BGwTdkDckb"
      },
      "outputs": [],
      "source": [
        "(1 > 2) or (2 < 3)"
      ]
    },
    {
      "cell_type": "code",
      "execution_count": null,
      "metadata": {
        "id": "UedFVwIVDckb"
      },
      "outputs": [],
      "source": [
        "(1 == 2) or (2 == 3) or (4 == 4)"
      ]
    },
    {
      "cell_type": "code",
      "execution_count": null,
      "metadata": {
        "id": "qTXBztFbDckc"
      },
      "outputs": [],
      "source": [
        "True and True"
      ]
    },
    {
      "cell_type": "code",
      "execution_count": null,
      "metadata": {
        "id": "fwQwH_whDckd"
      },
      "outputs": [],
      "source": [
        "True and False"
      ]
    },
    {
      "cell_type": "code",
      "execution_count": null,
      "metadata": {
        "id": "-XtndYW5Dcke"
      },
      "outputs": [],
      "source": [
        "False and True"
      ]
    },
    {
      "cell_type": "code",
      "execution_count": null,
      "metadata": {
        "id": "4mKWpnIEDckf"
      },
      "outputs": [],
      "source": [
        "False and False"
      ]
    },
    {
      "cell_type": "code",
      "execution_count": null,
      "metadata": {
        "id": "AfCV9ZyKDckf"
      },
      "outputs": [],
      "source": [
        "True or True"
      ]
    },
    {
      "cell_type": "code",
      "execution_count": null,
      "metadata": {
        "id": "ylET6Us6Dckg"
      },
      "outputs": [],
      "source": [
        "True or False"
      ]
    },
    {
      "cell_type": "code",
      "execution_count": null,
      "metadata": {
        "id": "FDxHUUgdDckg"
      },
      "outputs": [],
      "source": [
        "False or True"
      ]
    },
    {
      "cell_type": "code",
      "execution_count": null,
      "metadata": {
        "id": "SovJU54PDckj"
      },
      "outputs": [],
      "source": [
        "False or False"
      ]
    },
    {
      "cell_type": "code",
      "execution_count": null,
      "metadata": {
        "id": "_BQbPsGfDckl"
      },
      "outputs": [],
      "source": [
        "not True"
      ]
    },
    {
      "cell_type": "code",
      "execution_count": null,
      "metadata": {
        "id": "SFHOb2rgDckm"
      },
      "outputs": [],
      "source": [
        "not False"
      ]
    },
    {
      "cell_type": "code",
      "execution_count": null,
      "metadata": {
        "id": "yFBIJjQPDckn"
      },
      "outputs": [],
      "source": [
        "not (1 <= 10)"
      ]
    },
    {
      "cell_type": "markdown",
      "metadata": {
        "id": "ssNRi0IcDckp"
      },
      "source": [
        "## Fecha y Hora"
      ]
    },
    {
      "cell_type": "code",
      "execution_count": null,
      "metadata": {
        "collapsed": true,
        "id": "6zXnc9SbDckp"
      },
      "outputs": [],
      "source": [
        "from datetime import datetime"
      ]
    },
    {
      "cell_type": "code",
      "execution_count": null,
      "metadata": {
        "collapsed": true,
        "id": "aT67wftEDckq"
      },
      "outputs": [],
      "source": [
        "now = datetime.now()"
      ]
    },
    {
      "cell_type": "code",
      "execution_count": null,
      "metadata": {
        "id": "cXqhoVuPDckr"
      },
      "outputs": [],
      "source": [
        "now"
      ]
    },
    {
      "cell_type": "code",
      "execution_count": null,
      "metadata": {
        "id": "BTsVAjC5Dckr"
      },
      "outputs": [],
      "source": [
        "now.year"
      ]
    },
    {
      "cell_type": "code",
      "execution_count": null,
      "metadata": {
        "id": "u1OAawmvDcks"
      },
      "outputs": [],
      "source": [
        "now.month"
      ]
    },
    {
      "cell_type": "code",
      "execution_count": null,
      "metadata": {
        "id": "Ys0uLDj2Dckt"
      },
      "outputs": [],
      "source": [
        "now.day"
      ]
    },
    {
      "cell_type": "code",
      "execution_count": null,
      "metadata": {
        "id": "_6hP8aqXDcku"
      },
      "outputs": [],
      "source": [
        "print ('Fecha: %s/%s/%s Hora: %s:%s:%s' % (now.day, now.month, now.year, now.hour, now.minute, now.second))"
      ]
    },
    {
      "cell_type": "markdown",
      "metadata": {
        "id": "s_EEPRnyDckv"
      },
      "source": [
        "## Control de Flujo\n",
        "### Condicionales: if,elif, else "
      ]
    },
    {
      "cell_type": "code",
      "execution_count": null,
      "metadata": {
        "id": "E794dYliDckv"
      },
      "outputs": [],
      "source": [
        "if 1 < 2:\n",
        "    print('Si!')"
      ]
    },
    {
      "cell_type": "code",
      "execution_count": null,
      "metadata": {
        "collapsed": true,
        "id": "fL4SdO_4Dckw"
      },
      "outputs": [],
      "source": [
        "if 1 > 2:\n",
        "    print('si!')"
      ]
    },
    {
      "cell_type": "code",
      "execution_count": null,
      "metadata": {
        "id": "-NO6UctQDcky"
      },
      "outputs": [],
      "source": [
        "if 1 < 2:\n",
        "    print('menor')\n",
        "else:\n",
        "    print('no es menor')"
      ]
    },
    {
      "cell_type": "code",
      "execution_count": null,
      "metadata": {
        "id": "SiG78oRsDckz"
      },
      "outputs": [],
      "source": [
        "if 1 > 2:\n",
        "    print('mayor')\n",
        "else:\n",
        "    print('no es mayor')"
      ]
    },
    {
      "cell_type": "code",
      "execution_count": null,
      "metadata": {
        "id": "T-AVIpW5Dck0"
      },
      "outputs": [],
      "source": [
        "if 1 == 2:\n",
        "    print('primer camino')\n",
        "elif 3 == 3:\n",
        "    print('segundo camino')\n",
        "else:\n",
        "    print('tercer camino')"
      ]
    },
    {
      "cell_type": "code",
      "execution_count": null,
      "metadata": {
        "id": "932c49QrDck0"
      },
      "outputs": [],
      "source": [
        "if 1 == 2:\n",
        "    print('primer camino')\n",
        "elif 4 > 0:\n",
        "    print('segundo camino')\n",
        "elif 3 == 3:\n",
        "    print('tercer camino')\n",
        "else:\n",
        "    print('cuarto camino')"
      ]
    },
    {
      "cell_type": "markdown",
      "metadata": {
        "id": "HMy3uaWADck1"
      },
      "source": [
        "### Ciclo for"
      ]
    },
    {
      "cell_type": "code",
      "execution_count": null,
      "metadata": {
        "collapsed": true,
        "id": "PLrA1x5wDck1"
      },
      "outputs": [],
      "source": [
        "seq = [1, 2, 3, 4, 5, 6, 7, 8]"
      ]
    },
    {
      "cell_type": "code",
      "execution_count": null,
      "metadata": {
        "id": "JUI_5CS-Dck2"
      },
      "outputs": [],
      "source": [
        "for item in seq:\n",
        "    print('OK')"
      ]
    },
    {
      "cell_type": "code",
      "execution_count": null,
      "metadata": {
        "id": "-5WVDsrWDck3"
      },
      "outputs": [],
      "source": [
        "for item in seq:\n",
        "    print(item)"
      ]
    },
    {
      "cell_type": "code",
      "execution_count": null,
      "metadata": {
        "collapsed": true,
        "id": "vjUlfaCdDck4"
      },
      "outputs": [],
      "source": [
        "seq = [1,2,3,4,5]"
      ]
    },
    {
      "cell_type": "code",
      "execution_count": null,
      "metadata": {
        "id": "wLgyaEUcDck5"
      },
      "outputs": [],
      "source": [
        "for num in seq:\n",
        "    print(num+num)"
      ]
    },
    {
      "cell_type": "markdown",
      "metadata": {
        "id": "ORFuj2hSDck5"
      },
      "source": [
        "### Ciclo while"
      ]
    },
    {
      "cell_type": "code",
      "execution_count": null,
      "metadata": {
        "id": "8Le8Fzk6Dck5"
      },
      "outputs": [],
      "source": [
        "i = 1\n",
        "while i < 5:\n",
        "    print('i es igual a: {}'.format(i))\n",
        "    i = i+1"
      ]
    },
    {
      "cell_type": "markdown",
      "metadata": {
        "id": "bKhO4wX9Dck7"
      },
      "source": [
        "## range()"
      ]
    },
    {
      "cell_type": "code",
      "execution_count": null,
      "metadata": {
        "id": "4GPstSp_Dck8"
      },
      "outputs": [],
      "source": [
        "range(5)"
      ]
    },
    {
      "cell_type": "code",
      "execution_count": null,
      "metadata": {
        "id": "tqLFs4r7Dck8"
      },
      "outputs": [],
      "source": [
        "for i in range(5):\n",
        "    print(i)"
      ]
    },
    {
      "cell_type": "code",
      "execution_count": null,
      "metadata": {
        "id": "c_q6UGYGDck-"
      },
      "outputs": [],
      "source": [
        "list(range(5))"
      ]
    },
    {
      "cell_type": "markdown",
      "metadata": {
        "id": "CATEgOIiDclA"
      },
      "source": [
        "## Listas por comprensión (list comprehension)"
      ]
    },
    {
      "cell_type": "code",
      "execution_count": null,
      "metadata": {
        "collapsed": true,
        "id": "fVXt9hgYDclA"
      },
      "outputs": [],
      "source": [
        "x = [1,2,3,4]"
      ]
    },
    {
      "cell_type": "code",
      "execution_count": null,
      "metadata": {
        "id": "R7f8oFmYDclB"
      },
      "outputs": [],
      "source": [
        "out = []\n",
        "for item in x:\n",
        "    out.append(item**2)\n",
        "print(out)"
      ]
    },
    {
      "cell_type": "code",
      "execution_count": null,
      "metadata": {
        "id": "-PiWerzNDclD"
      },
      "outputs": [],
      "source": [
        "[item**2 for item in x]"
      ]
    },
    {
      "cell_type": "code",
      "execution_count": null,
      "metadata": {
        "collapsed": true,
        "id": "2cOX014-DclE"
      },
      "outputs": [],
      "source": [
        "out = [item**2 for item in x]"
      ]
    },
    {
      "cell_type": "code",
      "execution_count": null,
      "metadata": {
        "id": "ZA4Z9Zx0DclF"
      },
      "outputs": [],
      "source": [
        "out"
      ]
    },
    {
      "cell_type": "code",
      "execution_count": null,
      "metadata": {
        "id": "FYkI4LDuWzSh"
      },
      "outputs": [],
      "source": [
        "range(10)"
      ]
    },
    {
      "cell_type": "code",
      "execution_count": null,
      "metadata": {
        "id": "o_HoeCs5WzSi"
      },
      "outputs": [],
      "source": [
        "list(range(10))"
      ]
    },
    {
      "cell_type": "code",
      "execution_count": null,
      "metadata": {
        "collapsed": true,
        "id": "6-Lse_l8DclH"
      },
      "outputs": [],
      "source": [
        "cubos = [x ** 3 for x in range(10)]"
      ]
    },
    {
      "cell_type": "code",
      "execution_count": null,
      "metadata": {
        "id": "KGE8PsYODclH"
      },
      "outputs": [],
      "source": [
        "cubos"
      ]
    },
    {
      "cell_type": "code",
      "execution_count": null,
      "metadata": {
        "collapsed": true,
        "id": "S63GTvr3DclI"
      },
      "outputs": [],
      "source": [
        "multiplos_tres_cinco = [x for x in range(1, 16) if x % 3 == 0 or x % 5 == 0]"
      ]
    },
    {
      "cell_type": "code",
      "execution_count": null,
      "metadata": {
        "id": "Wo7NJ6T7DclK"
      },
      "outputs": [],
      "source": [
        "multiplos_tres_cinco"
      ]
    },
    {
      "cell_type": "markdown",
      "metadata": {
        "id": "GD0iKA88DclK"
      },
      "source": [
        "## Funciones"
      ]
    },
    {
      "cell_type": "code",
      "execution_count": null,
      "metadata": {
        "collapsed": true,
        "id": "NyE9YtbaDclK"
      },
      "outputs": [],
      "source": [
        "def my_func(param1='default'):\n",
        "    \"\"\"\n",
        "    Docstring goes here.\n",
        "    \"\"\"\n",
        "    print(param1)"
      ]
    },
    {
      "cell_type": "code",
      "execution_count": null,
      "metadata": {
        "id": "7jY8vLLsDclM"
      },
      "outputs": [],
      "source": [
        "my_func"
      ]
    },
    {
      "cell_type": "code",
      "execution_count": null,
      "metadata": {
        "id": "nt34DpTPDclN"
      },
      "outputs": [],
      "source": [
        "my_func()"
      ]
    },
    {
      "cell_type": "code",
      "execution_count": null,
      "metadata": {
        "id": "BuF7tmG1DclN"
      },
      "outputs": [],
      "source": [
        "my_func('new param')"
      ]
    },
    {
      "cell_type": "code",
      "execution_count": null,
      "metadata": {
        "id": "2MRHJcX7DclO"
      },
      "outputs": [],
      "source": [
        "my_func(param1='another param')"
      ]
    },
    {
      "cell_type": "code",
      "execution_count": null,
      "metadata": {
        "collapsed": true,
        "id": "6M-2n30_DclQ"
      },
      "outputs": [],
      "source": [
        "def saludar(nombre):\n",
        "    print('Hola ' + nombre)"
      ]
    },
    {
      "cell_type": "code",
      "execution_count": null,
      "metadata": {
        "id": "ZGlveH2sDclR"
      },
      "outputs": [],
      "source": [
        "saludar('UNAL')"
      ]
    },
    {
      "cell_type": "code",
      "execution_count": null,
      "metadata": {
        "collapsed": true,
        "id": "XONROccMDclR"
      },
      "outputs": [],
      "source": [
        "def square(x):\n",
        "    return x**2"
      ]
    },
    {
      "cell_type": "code",
      "execution_count": null,
      "metadata": {
        "collapsed": true,
        "id": "hdGUQTgeDclS"
      },
      "outputs": [],
      "source": [
        "out = square(2)"
      ]
    },
    {
      "cell_type": "code",
      "execution_count": null,
      "metadata": {
        "id": "QTNxENIFDclS"
      },
      "outputs": [],
      "source": [
        "print(out)"
      ]
    },
    {
      "cell_type": "code",
      "execution_count": null,
      "metadata": {
        "collapsed": true,
        "id": "UA237qnZDclS"
      },
      "outputs": [],
      "source": [
        "def square(x):\n",
        "    \"\"\"\n",
        "    Esta es la documentación de la función.\n",
        "    Puede tener múltiples líneas.\n",
        "    La función square retorna un número x elevado al cuadrado.\n",
        "    \"\"\"\n",
        "    return x**2"
      ]
    },
    {
      "cell_type": "code",
      "execution_count": null,
      "metadata": {
        "id": "s6zsuEILDclU"
      },
      "outputs": [],
      "source": [
        "# Puedo ver la documentación con SHIFT+TAB\n",
        "square"
      ]
    },
    {
      "cell_type": "code",
      "execution_count": null,
      "metadata": {
        "id": "eGh8JrArDclU"
      },
      "outputs": [],
      "source": [
        "# Ver documentación de otra función, por ejemplo: range\n",
        "range"
      ]
    },
    {
      "cell_type": "markdown",
      "metadata": {
        "id": "A9hagHupDclY"
      },
      "source": [
        "## Expresiones lambda"
      ]
    },
    {
      "cell_type": "code",
      "execution_count": null,
      "metadata": {
        "collapsed": true,
        "id": "JZz94MI7DclY"
      },
      "outputs": [],
      "source": [
        "def times2(var):\n",
        "    return var*2"
      ]
    },
    {
      "cell_type": "code",
      "execution_count": null,
      "metadata": {
        "id": "XZYziVaWDclZ"
      },
      "outputs": [],
      "source": [
        "times2(2)"
      ]
    },
    {
      "cell_type": "code",
      "execution_count": null,
      "metadata": {
        "id": "bE_g14fpDclZ"
      },
      "outputs": [],
      "source": [
        "lambda var: var*2"
      ]
    },
    {
      "cell_type": "code",
      "execution_count": null,
      "metadata": {
        "collapsed": true,
        "id": "HbhiD8ZZDcla"
      },
      "outputs": [],
      "source": [
        "t = lambda var: var*2"
      ]
    },
    {
      "cell_type": "code",
      "execution_count": null,
      "metadata": {
        "id": "NNJwxoabDcla"
      },
      "outputs": [],
      "source": [
        "t(20)"
      ]
    },
    {
      "cell_type": "markdown",
      "metadata": {
        "id": "Z68hUiuiDclc"
      },
      "source": [
        "## map y filter"
      ]
    },
    {
      "cell_type": "code",
      "execution_count": null,
      "metadata": {
        "collapsed": true,
        "id": "mmiYT-dzDclc"
      },
      "outputs": [],
      "source": [
        "seq = [1,2,3,4,5]"
      ]
    },
    {
      "cell_type": "code",
      "execution_count": null,
      "metadata": {
        "id": "XzKrjhqKDcle"
      },
      "outputs": [],
      "source": [
        "map(times2,seq)"
      ]
    },
    {
      "cell_type": "code",
      "execution_count": null,
      "metadata": {
        "id": "G-ogw60uDclf"
      },
      "outputs": [],
      "source": [
        "list(map(times2,seq))"
      ]
    },
    {
      "cell_type": "code",
      "execution_count": null,
      "metadata": {
        "id": "CS8AOZDYDclf"
      },
      "outputs": [],
      "source": [
        "list(map(lambda var: var*3, seq))"
      ]
    },
    {
      "cell_type": "code",
      "execution_count": null,
      "metadata": {
        "id": "tCO6ahN1Dclg"
      },
      "outputs": [],
      "source": [
        "filter(lambda item: item%2 == 0, seq)"
      ]
    },
    {
      "cell_type": "code",
      "execution_count": null,
      "metadata": {
        "id": "VmxhyL6YDclh"
      },
      "outputs": [],
      "source": [
        "list(filter(lambda item: item%2 == 0, seq))"
      ]
    },
    {
      "cell_type": "code",
      "execution_count": null,
      "metadata": {
        "id": "N0zKf8NgDclj"
      },
      "outputs": [],
      "source": [
        "my_list = range(16)\n",
        "filter(lambda x: x % 3 == 0, my_list)"
      ]
    },
    {
      "cell_type": "code",
      "execution_count": null,
      "metadata": {
        "id": "wswTiRk9Dclk"
      },
      "outputs": [],
      "source": [
        "list(filter(lambda x: x % 3 == 0, my_list))"
      ]
    },
    {
      "cell_type": "code",
      "execution_count": null,
      "metadata": {
        "id": "Lip8yWwxDclk"
      },
      "outputs": [],
      "source": [
        "garbled = \"IXXX aXXmX aXXXnXoXXXXXtXhXeXXXXrX sXXXXeXcXXXrXeXt mXXeXsXXXsXaXXXXXXgXeX!XX\"\n",
        "\n",
        "message = filter(lambda x: x != \"X\", garbled)\n",
        "print(''.join(message))"
      ]
    },
    {
      "cell_type": "markdown",
      "metadata": {
        "id": "xMH3l8h5Dcll"
      },
      "source": [
        "## Métodos"
      ]
    },
    {
      "cell_type": "code",
      "execution_count": null,
      "metadata": {
        "collapsed": true,
        "id": "b9Yog5hVDcll"
      },
      "outputs": [],
      "source": [
        "st = 'hola, mi nombre es Felipe'\n"
      ]
    },
    {
      "cell_type": "code",
      "execution_count": null,
      "metadata": {
        "id": "yFzv0m9NDcll",
        "colab": {
          "base_uri": "https://localhost:8080/",
          "height": 35
        },
        "outputId": "161df594-e341-401a-c63a-7fbb18282daa"
      },
      "outputs": [
        {
          "output_type": "execute_result",
          "data": {
            "application/vnd.google.colaboratory.intrinsic+json": {
              "type": "string"
            },
            "text/plain": [
              "'hola, mi nombre es felipe'"
            ]
          },
          "metadata": {},
          "execution_count": 15
        }
      ],
      "source": [
        "st.lower()"
      ]
    },
    {
      "cell_type": "code",
      "execution_count": null,
      "metadata": {
        "id": "gwf9B3_BDcll",
        "colab": {
          "base_uri": "https://localhost:8080/",
          "height": 35
        },
        "outputId": "c8b70df9-9712-471a-b4ae-567a9f6d2fcb"
      },
      "outputs": [
        {
          "output_type": "execute_result",
          "data": {
            "application/vnd.google.colaboratory.intrinsic+json": {
              "type": "string"
            },
            "text/plain": [
              "'HOLA, MI NOMBRE ES FELIPE'"
            ]
          },
          "metadata": {},
          "execution_count": 16
        }
      ],
      "source": [
        "st.upper()"
      ]
    },
    {
      "cell_type": "code",
      "execution_count": null,
      "metadata": {
        "id": "EWQeveqADclm",
        "colab": {
          "base_uri": "https://localhost:8080/"
        },
        "outputId": "bafac8e3-054c-4847-9b22-a133a4592337"
      },
      "outputs": [
        {
          "output_type": "execute_result",
          "data": {
            "text/plain": [
              "['hola,', 'mi', 'nombre', 'es', 'Felipe']"
            ]
          },
          "metadata": {},
          "execution_count": 17
        }
      ],
      "source": [
        "st.split()"
      ]
    },
    {
      "cell_type": "code",
      "execution_count": null,
      "metadata": {
        "collapsed": true,
        "id": "__P7kfaxDclm"
      },
      "outputs": [],
      "source": [
        "tweet = 'Go Sports! #Sports'"
      ]
    },
    {
      "cell_type": "code",
      "execution_count": null,
      "metadata": {
        "id": "gpobfonTDcln",
        "colab": {
          "base_uri": "https://localhost:8080/"
        },
        "outputId": "e0e447a5-2495-4813-b253-ba2d056d0cc1"
      },
      "outputs": [
        {
          "output_type": "execute_result",
          "data": {
            "text/plain": [
              "['Go', 'Sports!', '#Sports']"
            ]
          },
          "metadata": {},
          "execution_count": 19
        }
      ],
      "source": [
        "tweet.split()"
      ]
    },
    {
      "cell_type": "code",
      "execution_count": null,
      "metadata": {
        "id": "AlC4gqSeDclp",
        "colab": {
          "base_uri": "https://localhost:8080/"
        },
        "outputId": "2ab7309f-7a63-4de0-c18d-df80c4da4477"
      },
      "outputs": [
        {
          "output_type": "execute_result",
          "data": {
            "text/plain": [
              "['Go Sports! ', 'Sports']"
            ]
          },
          "metadata": {},
          "execution_count": 20
        }
      ],
      "source": [
        "tweet.split('#')"
      ]
    },
    {
      "cell_type": "code",
      "execution_count": null,
      "metadata": {
        "id": "Q-CE4dkLDclp",
        "colab": {
          "base_uri": "https://localhost:8080/",
          "height": 35
        },
        "outputId": "89615716-154c-4baf-aaed-43d7511fd69f"
      },
      "outputs": [
        {
          "output_type": "execute_result",
          "data": {
            "application/vnd.google.colaboratory.intrinsic+json": {
              "type": "string"
            },
            "text/plain": [
              "'Sports'"
            ]
          },
          "metadata": {},
          "execution_count": 21
        }
      ],
      "source": [
        "tweet.split('#')[1]"
      ]
    },
    {
      "cell_type": "code",
      "execution_count": null,
      "metadata": {
        "collapsed": true,
        "id": "eY7CMHCZDclp"
      },
      "outputs": [],
      "source": [
        "d = {'k1':10, 'k2':20, 'k3':1, 'k4': 'hola'}"
      ]
    },
    {
      "cell_type": "code",
      "execution_count": null,
      "metadata": {
        "id": "V1GKByMgDclp",
        "colab": {
          "base_uri": "https://localhost:8080/"
        },
        "outputId": "b3289cb7-6d65-42c5-f4cf-ddb3349a38bf"
      },
      "outputs": [
        {
          "output_type": "execute_result",
          "data": {
            "text/plain": [
              "dict_keys(['k1', 'k2', 'k3', 'k4'])"
            ]
          },
          "metadata": {},
          "execution_count": 23
        }
      ],
      "source": [
        "d.keys()"
      ]
    },
    {
      "cell_type": "code",
      "execution_count": null,
      "metadata": {
        "id": "lcm40SSyDclq",
        "colab": {
          "base_uri": "https://localhost:8080/"
        },
        "outputId": "7fcf8952-ec7b-4631-b003-d1230bb468f1"
      },
      "outputs": [
        {
          "output_type": "execute_result",
          "data": {
            "text/plain": [
              "dict_items([('k1', 10), ('k2', 20), ('k3', 1), ('k4', 'hola')])"
            ]
          },
          "metadata": {},
          "execution_count": 24
        }
      ],
      "source": [
        "d.items()"
      ]
    },
    {
      "cell_type": "code",
      "execution_count": null,
      "metadata": {
        "id": "ZT_4OCJxDclq",
        "colab": {
          "base_uri": "https://localhost:8080/"
        },
        "outputId": "c059944e-a767-43d3-e6cd-0ab6ba2f27f0"
      },
      "outputs": [
        {
          "output_type": "execute_result",
          "data": {
            "text/plain": [
              "dict_values([10, 20, 1, 'hola'])"
            ]
          },
          "metadata": {},
          "execution_count": 25
        }
      ],
      "source": [
        "d.values()"
      ]
    },
    {
      "cell_type": "code",
      "execution_count": null,
      "metadata": {
        "collapsed": true,
        "id": "y7NUhVwgDclr"
      },
      "outputs": [],
      "source": [
        "lst = [1,2,3,4,5,6]"
      ]
    },
    {
      "cell_type": "code",
      "execution_count": null,
      "metadata": {
        "id": "VUcZxMgbDcls",
        "colab": {
          "base_uri": "https://localhost:8080/"
        },
        "outputId": "df59d6d5-080b-4ba4-c243-d45a30ec1b35"
      },
      "outputs": [
        {
          "output_type": "execute_result",
          "data": {
            "text/plain": [
              "6"
            ]
          },
          "metadata": {},
          "execution_count": 27
        }
      ],
      "source": [
        "lst.pop()"
      ]
    },
    {
      "cell_type": "code",
      "execution_count": null,
      "metadata": {
        "id": "sZY9FGwxDclt",
        "colab": {
          "base_uri": "https://localhost:8080/"
        },
        "outputId": "2c120186-9251-4da0-dd07-6e3b894b1c3f"
      },
      "outputs": [
        {
          "output_type": "execute_result",
          "data": {
            "text/plain": [
              "[1, 2, 3, 4, 5]"
            ]
          },
          "metadata": {},
          "execution_count": 28
        }
      ],
      "source": [
        "lst"
      ]
    },
    {
      "cell_type": "code",
      "execution_count": null,
      "metadata": {
        "collapsed": true,
        "id": "vErqP6UqDclt"
      },
      "outputs": [],
      "source": [
        "item = lst.pop()"
      ]
    },
    {
      "cell_type": "code",
      "execution_count": null,
      "metadata": {
        "id": "RJbwXr_nDclu",
        "colab": {
          "base_uri": "https://localhost:8080/"
        },
        "outputId": "999a09d1-d415-4bb0-a94f-de97cfef7434"
      },
      "outputs": [
        {
          "output_type": "execute_result",
          "data": {
            "text/plain": [
              "[1, 2, 3, 4]"
            ]
          },
          "metadata": {},
          "execution_count": 30
        }
      ],
      "source": [
        "lst"
      ]
    },
    {
      "cell_type": "code",
      "execution_count": null,
      "metadata": {
        "id": "FEAFErCDDclv",
        "colab": {
          "base_uri": "https://localhost:8080/"
        },
        "outputId": "741c2748-3726-4139-e2d9-08a925f64eda"
      },
      "outputs": [
        {
          "output_type": "execute_result",
          "data": {
            "text/plain": [
              "5"
            ]
          },
          "metadata": {},
          "execution_count": 31
        }
      ],
      "source": [
        "item"
      ]
    },
    {
      "cell_type": "code",
      "execution_count": null,
      "metadata": {
        "collapsed": true,
        "id": "9K7VmD2_Dclv"
      },
      "outputs": [],
      "source": [
        "primero = lst.pop(0)"
      ]
    },
    {
      "cell_type": "code",
      "execution_count": null,
      "metadata": {
        "id": "jDETv3LjDclw",
        "colab": {
          "base_uri": "https://localhost:8080/"
        },
        "outputId": "6d039f4f-8785-4069-bbd7-56c91dd8d919"
      },
      "outputs": [
        {
          "output_type": "execute_result",
          "data": {
            "text/plain": [
              "1"
            ]
          },
          "metadata": {},
          "execution_count": 33
        }
      ],
      "source": [
        "primero"
      ]
    },
    {
      "cell_type": "code",
      "execution_count": null,
      "metadata": {
        "id": "PQwNS9OuDclx",
        "colab": {
          "base_uri": "https://localhost:8080/"
        },
        "outputId": "b5b69558-c537-43d5-fa88-e5e1bce36e48"
      },
      "outputs": [
        {
          "output_type": "execute_result",
          "data": {
            "text/plain": [
              "[2, 3, 4]"
            ]
          },
          "metadata": {},
          "execution_count": 34
        }
      ],
      "source": [
        "lst"
      ]
    },
    {
      "cell_type": "code",
      "execution_count": null,
      "metadata": {
        "collapsed": true,
        "id": "QyAhDsQsDclx"
      },
      "outputs": [],
      "source": [
        "lst.append('NUEVO')"
      ]
    },
    {
      "cell_type": "code",
      "execution_count": null,
      "metadata": {
        "id": "SNZgv4OpDclx",
        "colab": {
          "base_uri": "https://localhost:8080/"
        },
        "outputId": "06873b91-b242-472a-9ab3-3c9195560f42"
      },
      "outputs": [
        {
          "output_type": "execute_result",
          "data": {
            "text/plain": [
              "[2, 3, 4, 'NUEVO']"
            ]
          },
          "metadata": {},
          "execution_count": 36
        }
      ],
      "source": [
        "lst"
      ]
    },
    {
      "cell_type": "code",
      "execution_count": null,
      "metadata": {
        "id": "ho3_NK6ODcly",
        "colab": {
          "base_uri": "https://localhost:8080/"
        },
        "outputId": "9869d2f8-c9c9-43a9-bc95-6f477423d21a"
      },
      "outputs": [
        {
          "output_type": "execute_result",
          "data": {
            "text/plain": [
              "False"
            ]
          },
          "metadata": {},
          "execution_count": 37
        }
      ],
      "source": [
        "'x' in [1,2,3]"
      ]
    },
    {
      "cell_type": "code",
      "execution_count": null,
      "metadata": {
        "id": "_16JiU_CDcl2",
        "colab": {
          "base_uri": "https://localhost:8080/"
        },
        "outputId": "2157c6be-7bb0-4ee4-ee90-427e48118bb3"
      },
      "outputs": [
        {
          "output_type": "execute_result",
          "data": {
            "text/plain": [
              "True"
            ]
          },
          "metadata": {},
          "execution_count": 38
        }
      ],
      "source": [
        "'y' in ['x','y','z']"
      ]
    },
    {
      "cell_type": "code",
      "execution_count": null,
      "metadata": {
        "collapsed": true,
        "id": "GlcDj_bHDcl2"
      },
      "outputs": [],
      "source": [
        "# Tuple unpacking\n",
        "lst = [(1, 2), (3, 4), (5, 6)]"
      ]
    },
    {
      "cell_type": "code",
      "execution_count": null,
      "metadata": {
        "id": "XmU6QzEjDcl2",
        "colab": {
          "base_uri": "https://localhost:8080/"
        },
        "outputId": "048b4d2c-c49d-4322-fa09-51c326702878"
      },
      "outputs": [
        {
          "output_type": "execute_result",
          "data": {
            "text/plain": [
              "[(1, 2), (3, 4), (5, 6)]"
            ]
          },
          "metadata": {},
          "execution_count": 40
        }
      ],
      "source": [
        "lst"
      ]
    },
    {
      "cell_type": "code",
      "execution_count": null,
      "metadata": {
        "id": "p8qqIm_4Dcl2",
        "colab": {
          "base_uri": "https://localhost:8080/"
        },
        "outputId": "55745d66-9452-4e3b-88e5-338b2f48ab74"
      },
      "outputs": [
        {
          "output_type": "stream",
          "name": "stdout",
          "text": [
            "(1, 2)\n",
            "(3, 4)\n",
            "(5, 6)\n"
          ]
        }
      ],
      "source": [
        "for tupla in lst:\n",
        "    print(tupla)"
      ]
    },
    {
      "cell_type": "code",
      "execution_count": null,
      "metadata": {
        "id": "uuq_QEWADcl3",
        "colab": {
          "base_uri": "https://localhost:8080/"
        },
        "outputId": "66900e4e-c15a-4a46-e66a-d88be6e07bb9"
      },
      "outputs": [
        {
          "output_type": "stream",
          "name": "stdout",
          "text": [
            "1\n",
            "3\n",
            "5\n"
          ]
        }
      ],
      "source": [
        "for (a, b) in lst:\n",
        "    print(a)"
      ]
    },
    {
      "cell_type": "code",
      "execution_count": null,
      "metadata": {
        "id": "HYmNZec7Dcl3",
        "colab": {
          "base_uri": "https://localhost:8080/"
        },
        "outputId": "a1b4d3d1-acb3-4b23-a7f6-ea98c660a9ee"
      },
      "outputs": [
        {
          "output_type": "stream",
          "name": "stdout",
          "text": [
            "1 está asociado con 2\n",
            "3 está asociado con 4\n",
            "5 está asociado con 6\n"
          ]
        }
      ],
      "source": [
        "for (a, b) in lst:\n",
        "    print('{} está asociado con {}'.format(a,b))"
      ]
    },
    {
      "cell_type": "code",
      "execution_count": null,
      "metadata": {
        "id": "qOwO-InzDcl4",
        "colab": {
          "base_uri": "https://localhost:8080/"
        },
        "outputId": "b08a4291-67aa-4b1e-eb74-808f75a5050f"
      },
      "outputs": [
        {
          "output_type": "stream",
          "name": "stdout",
          "text": [
            "1 está asociado con 2\n",
            "3 está asociado con 4\n",
            "5 está asociado con 6\n"
          ]
        }
      ],
      "source": [
        "# los paréntesis son opcionales\n",
        "for a, b in lst:\n",
        "    print('{} está asociado con {}'.format(a,b))"
      ]
    },
    {
      "cell_type": "code",
      "execution_count": null,
      "metadata": {
        "collapsed": true,
        "id": "qYm5O7UNDcl6"
      },
      "outputs": [],
      "source": [
        "# Ejemplo lista enlazada simple\n",
        "# Ver visualización de este ejemplo en http://www.pythontutor.com/\n",
        "\n",
        "def listSum(numbers):\n",
        "  if not numbers:\n",
        "    return 0\n",
        "  else:\n",
        "    (f, rest) = numbers\n",
        "    return f + listSum(rest)\n",
        "\n",
        "myList = (1, (2, (3, None)))\n",
        "total = listSum(myList)"
      ]
    },
    {
      "cell_type": "code",
      "execution_count": null,
      "metadata": {
        "id": "T28wG5jFDcl6",
        "colab": {
          "base_uri": "https://localhost:8080/"
        },
        "outputId": "c39accf8-d31f-4ac7-dee6-ea301b57d030"
      },
      "outputs": [
        {
          "output_type": "stream",
          "name": "stdout",
          "text": [
            "6\n"
          ]
        }
      ],
      "source": [
        "print(total)"
      ]
    },
    {
      "cell_type": "markdown",
      "metadata": {
        "collapsed": true,
        "id": "4uMmmg9CWzSu"
      },
      "source": [
        "___"
      ]
    },
    {
      "cell_type": "markdown",
      "metadata": {
        "id": "5KZQXDqaWzSv"
      },
      "source": [
        "# Carga de Archivos"
      ]
    },
    {
      "cell_type": "markdown",
      "metadata": {
        "id": "68lHhGWsWzSv"
      },
      "source": [
        "**Python** permite cargar archivos de dos maneras. La primera permite cargar archivos planos como json, csv o archivos planos. La segunda permite cargar objetos de **Python**, que han sido serializados y almacenados previamente en disco duro."
      ]
    },
    {
      "cell_type": "markdown",
      "metadata": {
        "id": "C5hJAEtaWzSv"
      },
      "source": [
        "## Cargando JSON"
      ]
    },
    {
      "cell_type": "markdown",
      "metadata": {
        "id": "mzfsCdK9WzSv"
      },
      "source": [
        "Cargaremos dos datasets usando el módulo `json`. Uno contiene información básica acerca de algunos restaurantes en Nueva York. El segundo contiene información relevante de la serie Juego de Tronos.\n",
        "\n",
        "descargar de [github](https://raw.githubusercontent.com/marcoteran/artificialintelligence/master/notebooks/00_introtopython/data/file_load/restaurantes.json)"
      ]
    },
    {
      "cell_type": "code",
      "execution_count": null,
      "metadata": {
        "collapsed": true,
        "id": "3Cmo8lKqWzSv"
      },
      "outputs": [],
      "source": [
        "import json\n",
        "from pprint import pprint\n",
        "\n",
        "with open('restaurantes.json') as data_file:    \n",
        "    data = json.load(data_file)"
      ]
    },
    {
      "cell_type": "markdown",
      "metadata": {
        "id": "LuueIVeBWzSv"
      },
      "source": [
        "`restaurantes.json` es una lista de diccionarios."
      ]
    },
    {
      "cell_type": "code",
      "execution_count": null,
      "metadata": {
        "id": "4H8YcIT6WzSv"
      },
      "outputs": [],
      "source": [
        "data[:5]"
      ]
    },
    {
      "cell_type": "code",
      "execution_count": null,
      "metadata": {
        "id": "c1zL5EAqWzSw"
      },
      "outputs": [],
      "source": [
        "pprint(data[0])"
      ]
    },
    {
      "cell_type": "markdown",
      "metadata": {
        "id": "A1zQWtB-WzSw"
      },
      "source": [
        "Cargamos el dataset `game_of_thrones.json` y examinamos su contenido"
      ]
    },
    {
      "cell_type": "code",
      "execution_count": null,
      "metadata": {
        "collapsed": true,
        "id": "AUsMj-tlWzSw"
      },
      "outputs": [],
      "source": [
        "with open('data/file_load/game_of_thrones.json') as data_file:    \n",
        "    data = json.load(data_file)"
      ]
    },
    {
      "cell_type": "markdown",
      "metadata": {
        "id": "pnNE2QKOWzSw"
      },
      "source": [
        "El dataset consiste en un diccionario, cuyas claves corresponden a diferentes atributos de la serie."
      ]
    },
    {
      "cell_type": "code",
      "execution_count": null,
      "metadata": {
        "id": "5F7WRpjcWzSw"
      },
      "outputs": [],
      "source": [
        "print (data.keys())"
      ]
    },
    {
      "cell_type": "markdown",
      "metadata": {
        "id": "u4p2bNmeWzSx"
      },
      "source": [
        "Tambien alberga información de cada capítulo a 2017"
      ]
    },
    {
      "cell_type": "code",
      "execution_count": null,
      "metadata": {
        "id": "nGjRafN-WzSx"
      },
      "outputs": [],
      "source": [
        "print (len(data['_embedded']['episodes']))"
      ]
    },
    {
      "cell_type": "code",
      "execution_count": null,
      "metadata": {
        "id": "5YCV0JHVWzSx"
      },
      "outputs": [],
      "source": [
        "pprint(data['_embedded']['episodes'][-5:])"
      ]
    },
    {
      "cell_type": "markdown",
      "metadata": {
        "id": "6ioxU6h9WzSx"
      },
      "source": [
        "## Cargando CSV"
      ]
    },
    {
      "cell_type": "markdown",
      "metadata": {
        "id": "KfXpNFLqWzSx"
      },
      "source": [
        "Datos sobre casas en California"
      ]
    },
    {
      "cell_type": "code",
      "execution_count": null,
      "metadata": {
        "id": "lKqCaOmsWzSx"
      },
      "outputs": [],
      "source": [
        "import csv\n",
        "with open('sample_data/california_housing_test.csv', 'r') as csvfile:\n",
        "    user_data = csv.reader(csvfile, delimiter='|')\n",
        "    data = list(user_data)"
      ]
    },
    {
      "cell_type": "markdown",
      "metadata": {
        "id": "ZT2L0J_0WzSx"
      },
      "source": [
        "Explorando data, encontramos que cada registro corresponde a un usuario. La información allí mostrada corresponde a un identificador único, edad, género, ocupación y zip code."
      ]
    },
    {
      "cell_type": "code",
      "execution_count": null,
      "metadata": {
        "id": "tx8z45IaWzSz",
        "outputId": "cbf5ec38-3255-4fb7-a161-1c43ff6910e7",
        "colab": {
          "base_uri": "https://localhost:8080/"
        }
      },
      "outputs": [
        {
          "output_type": "execute_result",
          "data": {
            "text/plain": [
              "[['longitude,\"latitude\",\"housing_median_age\",\"total_rooms\",\"total_bedrooms\",\"population\",\"households\",\"median_income\",\"median_house_value\"'],\n",
              " ['-122.050000,37.370000,27.000000,3885.000000,661.000000,1537.000000,606.000000,6.608500,344700.000000'],\n",
              " ['-118.300000,34.260000,43.000000,1510.000000,310.000000,809.000000,277.000000,3.599000,176500.000000'],\n",
              " ['-117.810000,33.780000,27.000000,3589.000000,507.000000,1484.000000,495.000000,5.793400,270500.000000'],\n",
              " ['-118.360000,33.820000,28.000000,67.000000,15.000000,49.000000,11.000000,6.135900,330000.000000']]"
            ]
          },
          "metadata": {},
          "execution_count": 6
        }
      ],
      "source": [
        "data[:5]"
      ]
    },
    {
      "cell_type": "markdown",
      "metadata": {
        "id": "5qV_FqnFWzSz"
      },
      "source": [
        "## Cargando texto plano"
      ]
    },
    {
      "cell_type": "markdown",
      "metadata": {
        "id": "6MC0FeldWzSz"
      },
      "source": [
        "A continuación cargaremos un archivo de texto que contiene las obras de Shakespeare. El archivo será cargado como una lista de strings, donde cada elemento corresponde a una línea del archivo de texto.\n",
        "\n",
        "descargar de [Github](https://raw.githubusercontent.com/marcoteran/artificialintelligence/master/notebooks/00_introtopython/data/file_load/shakespeare.txt)"
      ]
    },
    {
      "cell_type": "code",
      "execution_count": null,
      "metadata": {
        "collapsed": true,
        "id": "bd_bbf4aWzSz"
      },
      "outputs": [],
      "source": [
        "with open(\"data/file_load/shakespeare.txt\") as f:  \n",
        "    data = f.readlines()"
      ]
    },
    {
      "cell_type": "code",
      "execution_count": null,
      "metadata": {
        "id": "xbJWmqEMWzSz"
      },
      "outputs": [],
      "source": [
        "type(data)"
      ]
    },
    {
      "cell_type": "code",
      "execution_count": null,
      "metadata": {
        "id": "7FwBfsb_WzSz"
      },
      "outputs": [],
      "source": [
        "len(data)"
      ]
    },
    {
      "cell_type": "code",
      "execution_count": null,
      "metadata": {
        "id": "D9ud9cZwWzSz"
      },
      "outputs": [],
      "source": [
        "data[:15]"
      ]
    },
    {
      "cell_type": "code",
      "execution_count": null,
      "metadata": {
        "id": "PEI19LiIWzS0"
      },
      "outputs": [],
      "source": [
        "import pickle\n",
        "\n",
        "with open('data/file_load/user-data.csv', 'r') as csvfile:\n",
        "    user_data = csv.reader(csvfile, delimiter='|')\n",
        "    data = list(user_data)"
      ]
    }
  ],
  "metadata": {
    "colab": {
      "name": "0 - Introducción a Jupyter.ipynb",
      "provenance": [],
      "collapsed_sections": [
        "0GKQ39eMBkyp",
        "A0dQeXGsBky3",
        "BzAOkBn0WzR7",
        "V-XzXrH0WzR7",
        "ixQMiZfTWzR-",
        "XBQnQMz3WzSA",
        "bVPpxuTBWzSB",
        "lC4jbfgCWzSE",
        "tPujxu0BWzSF",
        "iSBFkjDbWzSH",
        "EGzf7Y-VWzSM",
        "YOM5gswFWzSR",
        "LEgqNvFDWzSU",
        "fpNq9upMWzSW",
        "6eZBkK_ODckO",
        "f7SX2FYvDckY",
        "ssNRi0IcDckp",
        "s_EEPRnyDckv",
        "HMy3uaWADck1",
        "ORFuj2hSDck5",
        "bKhO4wX9Dck7",
        "GD0iKA88DclK",
        "A9hagHupDclY",
        "Z68hUiuiDclc",
        "C5hJAEtaWzSv",
        "6ioxU6h9WzSx",
        "5qV_FqnFWzSz"
      ]
    },
    "kernelspec": {
      "display_name": "Python 3",
      "language": "python",
      "name": "python3"
    },
    "language_info": {
      "codemirror_mode": {
        "name": "ipython",
        "version": 3
      },
      "file_extension": ".py",
      "mimetype": "text/x-python",
      "name": "python",
      "nbconvert_exporter": "python",
      "pygments_lexer": "ipython3",
      "version": "3.7.4"
    }
  },
  "nbformat": 4,
  "nbformat_minor": 0
}
