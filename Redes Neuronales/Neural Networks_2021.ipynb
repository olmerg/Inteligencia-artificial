{
  "nbformat": 4,
  "nbformat_minor": 0,
  "metadata": {
    "colab": {
      "name": "Neural Networks_2021.ipynb",
      "provenance": [],
      "collapsed_sections": [],
      "toc_visible": true
    },
    "kernelspec": {
      "name": "python3",
      "display_name": "Python 3"
    },
    "accelerator": "GPU"
  },
  "cells": [
    {
      "cell_type": "markdown",
      "metadata": {
        "id": "PwGzjc6InpXi"
      },
      "source": [
        "# Artificial Neural Networks\n",
        "\n",
        "## [Perceptron in 11 lines of code](https://iamtrask.github.io/2015/07/12/basic-python-network/)\n"
      ]
    },
    {
      "cell_type": "code",
      "metadata": {
        "id": "kQ8vuedUnpXn",
        "colab": {
          "base_uri": "https://localhost:8080/"
        },
        "outputId": "c6aabb58-8844-41ac-e83a-56bf04aed450"
      },
      "source": [
        "import numpy as np\n",
        "# input dataset\n",
        "X = np.array([ [0,0,1],[0,1,1],[1,0,1],[1,1,1] ])\n",
        "# output dataset\n",
        "y = np.array([[0,1,1,0]]).T\n",
        "\n",
        "np.random.seed(1)\n",
        "# initialize weights randomly with mean 0 \n",
        "#sin0 input layer weigths\n",
        "syn0 = 2*np.random.random((3,4)) - 1\n",
        "#sin1 output layer weigths\n",
        "syn1 = 2*np.random.random((4,1)) - 1\n",
        "for j in range(60000):\n",
        "    # forward propagation\n",
        "    l1 = 1/(1+np.exp(-(np.dot(X,syn0))))\n",
        "    l2 = 1/(1+np.exp(-(np.dot(l1,syn1))))\n",
        "    \n",
        "     # back propagation\n",
        "     # multiply how much we missed by the \n",
        "     # slope of the sigmoid at the values in l1\n",
        "    l2_delta = (y - l2)*(l2*(1-l2))\n",
        "    #apply chain rule the input layer\n",
        "    l1_delta = l2_delta.dot(syn1.T) * (l1 * (1-l1))\n",
        "    \n",
        "    #update weigths\n",
        "    syn1 += l1.T.dot(l2_delta)\n",
        "    syn0 += X.T.dot(l1_delta)\n",
        "    \n",
        "    # print mean square error\n",
        "    error=(y - l2)\n",
        "    #print(np.square(error).mean())\n",
        "\n",
        "#operation\n",
        "for i in range(4):\n",
        "    l1 = 1/(1+np.exp(-(np.dot(X[i,:],syn0))))\n",
        "    l2 = 1/(1+np.exp(-(np.dot(l1,syn1))))\n",
        "    print('desired',y[i],'obtained:',l2)\n",
        "\n"
      ],
      "execution_count": null,
      "outputs": [
        {
          "output_type": "stream",
          "text": [
            "desired [0] obtained: [0.0026057]\n",
            "desired [1] obtained: [0.99672212]\n",
            "desired [1] obtained: [0.99701713]\n",
            "desired [0] obtained: [0.00386756]\n"
          ],
          "name": "stdout"
        }
      ]
    },
    {
      "cell_type": "markdown",
      "metadata": {
        "id": "fwG3MYLInpX2"
      },
      "source": [
        "## Clasiffication with sci-kit\n",
        "[Multilayer perceptor in scikit](https://scikit-learn.org/stable/modules/neural_networks_supervised.html)\n",
        "\n",
        "\n",
        "\n",
        "\n"
      ]
    },
    {
      "cell_type": "markdown",
      "metadata": {
        "id": "XbzYXnijnpYG"
      },
      "source": [
        "Iris Dataset"
      ]
    },
    {
      "cell_type": "code",
      "metadata": {
        "id": "A7MdmptznpX5",
        "colab": {
          "base_uri": "https://localhost:8080/"
        },
        "outputId": "3d2c2b10-c6c0-401b-d752-ede56ffcfc25"
      },
      "source": [
        "from sklearn import datasets\n",
        "import matplotlib.pyplot as plt\n",
        "import numpy as np\n",
        "from sklearn.metrics import confusion_matrix\n",
        "#from sklearn.cross_validation import train_test_split\n",
        "# de acuerdo a la version scikit train_test_split puede ser\n",
        "from sklearn.model_selection import train_test_split,cross_val_score\n",
        "from sklearn.neural_network import MLPClassifier\n",
        "\n",
        "iris = datasets.load_iris()\n",
        "X = iris.data\n",
        "y = iris.target\n",
        "\n",
        "x_train,x_test, y_train, y_test  = train_test_split(X,y, test_size = 0.7, random_state=0 ) # remove random state o change it \n",
        "#TODO: normalize the data \n",
        "names=['MPL logistic','MPL tanh','MPL relu','MPL relu/SGD']\n",
        "clfs=[MLPClassifier(activation='logistic',max_iter=1000),\n",
        "      MLPClassifier(activation='tanh',max_iter=1000),\n",
        "      MLPClassifier(activation='relu',max_iter=1000),\n",
        "      MLPClassifier(activation='relu',solver='sgd',hidden_layer_sizes =(10,100,80),max_iter=10000)]\n",
        "\n",
        "for clf,name in zip(clfs,names):\n",
        "    print(name) \n",
        "    scores = cross_val_score(clf, x_train, y_train, cv=5,scoring='f1_weighted',n_jobs=-1)\n",
        "    print(scores)\n",
        "    print('mean {a:5.3f} standard desviation {b:5.3f}'.format(a=scores.mean(),b=scores.std()))\n",
        "    \n",
        "    \n",
        "    \n",
        "#scoring paramters\n",
        "#https://scikit-learn.org/stable/modules/model_evaluation.html#scoring-parameter\n",
        "#https://scikit-learn.org/stable/modules/generated/sklearn.metrics.f1_score.html#sklearn.metrics.f1_score\n",
        "    \n",
        "\n",
        "\n"
      ],
      "execution_count": null,
      "outputs": [
        {
          "output_type": "stream",
          "text": [
            "MPL logistic\n",
            "[1.         0.87830688 0.89206349 1.         0.88571429]\n",
            "mean 0.931 standard desviation 0.056\n",
            "MPL tanh\n",
            "[1.         0.87830688 1.         1.         0.88571429]\n",
            "mean 0.953 standard desviation 0.058\n",
            "MPL relu\n",
            "[0.87830688 0.87830688 0.89206349 1.         0.88571429]\n",
            "mean 0.907 standard desviation 0.047\n",
            "MPL relu/SGD\n",
            "[0.87830688 0.87830688 0.89206349 1.         0.88571429]\n",
            "mean 0.907 standard desviation 0.047\n"
          ],
          "name": "stdout"
        }
      ]
    },
    {
      "cell_type": "markdown",
      "metadata": {
        "id": "XHZY8Zu0npYI"
      },
      "source": [
        "## Testing Tensorflow  (2.0)\n",
        "\n",
        "Installing with anaconda [tensorflow](https://www.tensorflow.org/install/install_linux#InstallingAnaconda)\n"
      ]
    },
    {
      "cell_type": "code",
      "metadata": {
        "id": "h3OnYc9lnpYK",
        "colab": {
          "base_uri": "https://localhost:8080/"
        },
        "outputId": "d6f6a46d-075d-4a1d-95bf-961f48210f45"
      },
      "source": [
        "import tensorflow as tf\n",
        "msg = tf.constant('TensorFlow 2.0 Hello World')\n",
        "tf.print(msg)"
      ],
      "execution_count": null,
      "outputs": [
        {
          "output_type": "stream",
          "text": [
            "TensorFlow 2.0 Hello World\n"
          ],
          "name": "stdout"
        }
      ]
    },
    {
      "cell_type": "markdown",
      "metadata": {
        "id": "GpilgDPanpYb"
      },
      "source": [
        "## [LeNet-5  in TensorFlow with NMIST dataset]\n",
        "\n",
        "Based in [tensorflow sample](https://www.tensorflow.org/tutorials/layers) and [UDACITY](htttp://www.udacity.com) deep learning classes.\n",
        "\n",
        "A Guide to TF Layers: Building a Convolutional Neural Network\n",
        "\n",
        "The TensorFlow layers module provides a high-level API that makes it easy to construct a neural network. It provides methods that facilitate the creation of dense (fully connected) layers and convolutional layers, adding activation functions, and applying dropout regularization. In this tutorial, we gonna build a convolutional neural network model to recognize the handwritten digits in the MNIST data set.\n",
        "\n",
        "handwritten digits 0–9 from the MNIST data set\n",
        "\n",
        "The MNIST dataset comprises 60,000 training examples and 10,000 test examples of the handwritten digits 0–9, formatted as 28x28-pixel monochrome images.\n",
        "\n",
        "\n",
        "\n",
        "\n",
        "\n",
        "### Load data"
      ]
    },
    {
      "cell_type": "code",
      "metadata": {
        "scrolled": true,
        "id": "trXE4uBPnpYh",
        "colab": {
          "base_uri": "https://localhost:8080/",
          "height": 336
        },
        "outputId": "6f0c1e2b-c203-4f6c-ca07-3fc3eb724775"
      },
      "source": [
        "\n",
        "from keras.datasets import mnist\n",
        "import matplotlib.pyplot as plt\n",
        "# load dataset\n",
        "(trainX, trainy), (testX, testy) = mnist.load_data()\n",
        "# summarize loaded dataset\n",
        "print('Train data: X=%s, y=%s' % (trainX.shape, trainy.shape))\n",
        "print('Test data: X=%s, y=%s' % (testX.shape, testy.shape))\n",
        "# plot first few images\n",
        "for i in range(9):\n",
        "\t# define subplot\n",
        "\tplt.subplot(330 + 1 + i)\n",
        "\t# plot raw pixel data\n",
        "\tplt.imshow(trainX[i], cmap=plt.get_cmap('gray'))\n",
        "# show the figure\n",
        "plt.show()"
      ],
      "execution_count": null,
      "outputs": [
        {
          "output_type": "stream",
          "text": [
            "Downloading data from https://storage.googleapis.com/tensorflow/tf-keras-datasets/mnist.npz\n",
            "11493376/11490434 [==============================] - 0s 0us/step\n",
            "Train data: X=(60000, 28, 28), y=(60000,)\n",
            "Test data: X=(10000, 28, 28), y=(10000,)\n"
          ],
          "name": "stdout"
        },
        {
          "output_type": "display_data",
          "data": {
            "image/png": "[encoded data removed]",
            "text/plain": [
              "<Figure size 432x288 with 9 Axes>"
            ]
          },
          "metadata": {
            "tags": [],
            "needs_background": "light"
          }
        }
      ]
    },
    {
      "cell_type": "markdown",
      "metadata": {
        "id": "1_ZmlsxeW_JC"
      },
      "source": [
        "### Prepare data\n"
      ]
    },
    {
      "cell_type": "code",
      "metadata": {
        "id": "PqJScmkXW-sR"
      },
      "source": [
        "from keras.utils import to_categorical\n",
        "def load_dataset():\n",
        "\t# load dataset\n",
        "\t(trainX, trainY), (testX, testY) = mnist.load_data()\n",
        "\t# reshape dataset to have a single channel\n",
        "\ttrainX = trainX.reshape((trainX.shape[0], 28, 28, 1))\n",
        "\ttestX = testX.reshape((testX.shape[0], 28, 28, 1))\n",
        "\t# one hot encode target values\n",
        "\ttrainY = to_categorical(trainY)\n",
        "\ttestY = to_categorical(testY)\n",
        "\treturn trainX, trainY, testX, testY\n",
        "\n",
        "# scale pixels\n",
        "def prep_pixels(train):\n",
        "\t# convert from integers to floats\n",
        "\ttrain_norm = train.astype('float32')\n",
        "\t# normalize to range 0-1\n",
        "\tnorm_image = train_norm / 255.0\n",
        "\t# quisiera pasarla a blanco y negro o cambiar la representacion de color\n",
        "\t# filtro previo (ecualizador de histrograma)\n",
        "\t# return normalized images\n",
        "\treturn norm_image\n",
        "\n",
        "\t# load dataset\n",
        "trainX, trainY, testX, testY = load_dataset()\n",
        "\n",
        "\n",
        "\t# prepare pixel data\n",
        "trainX = prep_pixels(trainX)\n",
        "testX = prep_pixels(testX)\n",
        "\n",
        "# Reserve 10,000 samples for validation\n",
        "x_val = trainX[-10000:]  \n",
        "y_val = trainY[-10000:]\n",
        "x_train = trainX[:-10000]\n",
        "y_train = trainY[:-10000]"
      ],
      "execution_count": null,
      "outputs": []
    },
    {
      "cell_type": "code",
      "metadata": {
        "colab": {
          "base_uri": "https://localhost:8080/"
        },
        "id": "Z7G_Y8vzVI0J",
        "outputId": "9baf5d10-0796-4efe-cb46-a56c38b871fc"
      },
      "source": [
        "testY[1]"
      ],
      "execution_count": null,
      "outputs": [
        {
          "output_type": "execute_result",
          "data": {
            "text/plain": [
              "array([0., 0., 1., 0., 0., 0., 0., 0., 0., 0.], dtype=float32)"
            ]
          },
          "metadata": {
            "tags": []
          },
          "execution_count": 8
        }
      ]
    },
    {
      "cell_type": "markdown",
      "metadata": {
        "id": "9I_sU6FwnpYs"
      },
      "source": [
        "### Model\n",
        "\n",
        "\n",
        "Building the CNN MNIST Classifier\n",
        "\n",
        "Let's build a model to classify the images in the MNIST dataset using the following CNN architecture:\n",
        "\n",
        "- Convolutional Layer #1: Applies 32 5x5 filters (extracting 5x5-pixel subregions), with ReLU activation function\n",
        "- Pooling Layer #1: Performs max pooling with a 2x2 filter and stride of 2 (which specifies that pooled regions do not overlap)\n",
        "- Convolutional Layer #2: Applies 16 5x5 filters, with ReLU activation function\n",
        "- Pooling Layer #2: Again, performs max pooling with a 2x2 filter and stride of 2\n",
        "- Dense Layer #1: 1,024 neurons, with dropout regularization (probability that any given element will be dropped during training)\n",
        "- Dense Layer #2 (Logits Layer): 10 neurons, one for each digit target class (0–9).\n",
        "\n",
        "\n",
        "![texto alternativo](https://https://miro.medium.com/max/1400/0*H9_eGAtkQXJXtkoK)\n"
      ]
    },
    {
      "cell_type": "code",
      "metadata": {
        "id": "09c6DQY9WqNH"
      },
      "source": [
        "# Parameters\n",
        "learning_rate = 0.00001  # alpha de algoritmo del gradiente\n",
        "\n",
        "# Network Parameters\n",
        "input_shape=(28, 28, 1)\n",
        "n_classes = 10  # MNIST total classes (0-9 digits)\n"
      ],
      "execution_count": null,
      "outputs": []
    },
    {
      "cell_type": "code",
      "metadata": {
        "id": "29T3PVo7npYx",
        "colab": {
          "base_uri": "https://localhost:8080/"
        },
        "outputId": "1d827ead-806f-4b1d-ed3a-828d8422a66f"
      },
      "source": [
        "from tensorflow.keras import Model\n",
        "from tensorflow.keras.models import Sequential\n",
        "from tensorflow.keras.losses import categorical_crossentropy\n",
        "from tensorflow.keras.layers import Dense, Flatten, Conv2D, MaxPooling2D\n",
        "from tensorflow.keras.optimizers import SGD\n",
        "\n",
        "# define cnn model\n",
        "def define_model():\n",
        "  model = Sequential()\n",
        "  model.add(Conv2D(32, (5, 5),padding='same', activation='relu', kernel_initializer='he_uniform', input_shape=input_shape))\n",
        "  model.add(MaxPooling2D(pool_size=(2, 2), strides=(2, 2), padding='valid'))\n",
        "  model.add(Conv2D(16, kernel_size=(5, 5), padding='valid', activation='relu'))\n",
        "  model.add(MaxPooling2D(pool_size=(2, 2), strides=(2, 2),padding='same'))\n",
        "  model.add(Flatten())\n",
        "  model.add(Dense(units=120, activation='relu', kernel_initializer='he_uniform'))\n",
        "  model.add(Dense(units=84, activation='relu', kernel_initializer='he_uniform'))\n",
        "  model.add(Dense(n_classes, activation='softmax'))\n",
        "\t# compile model\n",
        "  # cual algoritmo del gradiente utilizar\n",
        "  opt = SGD(lr=learning_rate, momentum=0.9)\n",
        "  model.compile(optimizer=opt, loss='categorical_crossentropy', metrics=['accuracy'])\n",
        "  return model\n",
        "\n",
        "model=define_model()\n",
        "print(model.summary())"
      ],
      "execution_count": null,
      "outputs": [
        {
          "output_type": "stream",
          "text": [
            "Model: \"sequential_1\"\n",
            "_________________________________________________________________\n",
            "Layer (type)                 Output Shape              Param #   \n",
            "=================================================================\n",
            "conv2d (Conv2D)              (None, 28, 28, 32)        832       \n",
            "_________________________________________________________________\n",
            "max_pooling2d (MaxPooling2D) (None, 14, 14, 32)        0         \n",
            "_________________________________________________________________\n",
            "conv2d_1 (Conv2D)            (None, 10, 10, 16)        12816     \n",
            "_________________________________________________________________\n",
            "max_pooling2d_1 (MaxPooling2 (None, 5, 5, 16)          0         \n",
            "_________________________________________________________________\n",
            "flatten (Flatten)            (None, 400)               0         \n",
            "_________________________________________________________________\n",
            "dense (Dense)                (None, 120)               48120     \n",
            "_________________________________________________________________\n",
            "dense_1 (Dense)              (None, 84)                10164     \n",
            "_________________________________________________________________\n",
            "dense_2 (Dense)              (None, 10)                850       \n",
            "=================================================================\n",
            "Total params: 72,782\n",
            "Trainable params: 72,782\n",
            "Non-trainable params: 0\n",
            "_________________________________________________________________\n",
            "None\n"
          ],
          "name": "stdout"
        }
      ]
    },
    {
      "cell_type": "code",
      "metadata": {
        "id": "vx7Caq1sJVL6",
        "colab": {
          "base_uri": "https://localhost:8080/",
          "height": 856
        },
        "outputId": "f1a1e9ff-f7b4-4d74-db42-35c83a65a2ff"
      },
      "source": [
        "from tensorflow.keras.utils import plot_model\n",
        "plot_model(model, to_file='model.png')"
      ],
      "execution_count": null,
      "outputs": [
        {
          "output_type": "execute_result",
          "data": {
            "image/png": "[encoded data removed]",
            "text/plain": [
              "<IPython.core.display.Image object>"
            ]
          },
          "metadata": {
            "tags": []
          },
          "execution_count": 16
        }
      ]
    },
    {
      "cell_type": "markdown",
      "metadata": {
        "id": "nSR_YHLd6fHA"
      },
      "source": [
        "You are invited to draw a better representation [StackExchange](https://datascience.stackexchange.com/questions/14899/how-to-draw-deep-learning-network-architecture-diagrams)"
      ]
    },
    {
      "cell_type": "code",
      "metadata": {
        "colab": {
          "base_uri": "https://localhost:8080/"
        },
        "id": "drZQ8_pi7J1H",
        "outputId": "2e899ca9-6745-4013-dab3-0a89aff7aa39"
      },
      "source": [
        "!pip3 install keras-visualizer"
      ],
      "execution_count": null,
      "outputs": [
        {
          "output_type": "stream",
          "text": [
            "Collecting keras-visualizer\n",
            "  Downloading https://files.pythonhosted.org/packages/7f/33/d95aabf4a19ba02d6800f9f7b34d614b1bfa1f2da2b08a0897df08d2cfc4/keras_visualizer-2.4-py3-none-any.whl\n",
            "Installing collected packages: keras-visualizer\n",
            "Successfully installed keras-visualizer-2.4\n"
          ],
          "name": "stdout"
        }
      ]
    },
    {
      "cell_type": "code",
      "metadata": {
        "id": "XLoyB9vf7LMP"
      },
      "source": [
        "from keras_visualizer import visualizer \n",
        "visualizer(model, format='png', view=True)"
      ],
      "execution_count": null,
      "outputs": []
    },
    {
      "cell_type": "markdown",
      "metadata": {
        "id": "DekssW-OnpY8"
      },
      "source": [
        "### Training variables"
      ]
    },
    {
      "cell_type": "code",
      "metadata": {
        "id": "uxqi_8UynpY9",
        "colab": {
          "base_uri": "https://localhost:8080/"
        },
        "outputId": "116a3a0f-5255-4d22-d449-60a0fd7353c2"
      },
      "source": [
        "epochs = 10  # more epochs better\n",
        "batch_size =128 # normally in 2^n values\n",
        "# fit model\n",
        "history = model.fit(x_train, y_train, epochs=epochs, batch_size=batch_size, verbose=1,validation_data=(x_val, y_val))\n",
        "print('\\nhistory dict:', history.history)"
      ],
      "execution_count": null,
      "outputs": [
        {
          "output_type": "stream",
          "text": [
            "Epoch 1/10\n",
            "391/391 [==============================] - 2s 5ms/step - loss: 0.3707 - accuracy: 0.8970 - val_loss: 0.3381 - val_accuracy: 0.9083\n",
            "Epoch 2/10\n",
            "391/391 [==============================] - 2s 5ms/step - loss: 0.3649 - accuracy: 0.8988 - val_loss: 0.3326 - val_accuracy: 0.9101\n",
            "Epoch 3/10\n",
            "391/391 [==============================] - 2s 5ms/step - loss: 0.3592 - accuracy: 0.9003 - val_loss: 0.3290 - val_accuracy: 0.9103\n",
            "Epoch 4/10\n",
            "391/391 [==============================] - 2s 5ms/step - loss: 0.3540 - accuracy: 0.9012 - val_loss: 0.3230 - val_accuracy: 0.9124\n",
            "Epoch 5/10\n",
            "391/391 [==============================] - 2s 5ms/step - loss: 0.3489 - accuracy: 0.9029 - val_loss: 0.3188 - val_accuracy: 0.9129\n",
            "Epoch 6/10\n",
            "391/391 [==============================] - 2s 5ms/step - loss: 0.3442 - accuracy: 0.9040 - val_loss: 0.3144 - val_accuracy: 0.9145\n",
            "Epoch 7/10\n",
            "391/391 [==============================] - 2s 5ms/step - loss: 0.3396 - accuracy: 0.9048 - val_loss: 0.3103 - val_accuracy: 0.9153\n",
            "Epoch 8/10\n",
            "391/391 [==============================] - 2s 5ms/step - loss: 0.3352 - accuracy: 0.9063 - val_loss: 0.3061 - val_accuracy: 0.9157\n",
            "Epoch 9/10\n",
            "391/391 [==============================] - 2s 5ms/step - loss: 0.3310 - accuracy: 0.9073 - val_loss: 0.3028 - val_accuracy: 0.9169\n",
            "Epoch 10/10\n",
            "391/391 [==============================] - 2s 5ms/step - loss: 0.3270 - accuracy: 0.9083 - val_loss: 0.2989 - val_accuracy: 0.9182\n",
            "\n",
            "history dict: {'loss': [0.3706802427768707, 0.36485233902931213, 0.35920223593711853, 0.35397911071777344, 0.3489276170730591, 0.34418877959251404, 0.33957165479660034, 0.33521586656570435, 0.33102577924728394, 0.3269970417022705], 'accuracy': [0.8969600200653076, 0.8988199830055237, 0.9003199934959412, 0.9012399911880493, 0.9028800129890442, 0.9039999842643738, 0.9047799706459045, 0.9063199758529663, 0.9073399901390076, 0.9083200097084045], 'val_loss': [0.3380912244319916, 0.33255666494369507, 0.3289509117603302, 0.3229786157608032, 0.31876543164253235, 0.31444594264030457, 0.3102724254131317, 0.3061451315879822, 0.30276060104370117, 0.29888916015625], 'val_accuracy': [0.90829998254776, 0.910099983215332, 0.9103000164031982, 0.9124000072479248, 0.9128999710083008, 0.9144999980926514, 0.9153000116348267, 0.9157000184059143, 0.9168999791145325, 0.9182000160217285]}\n"
          ],
          "name": "stdout"
        }
      ]
    },
    {
      "cell_type": "markdown",
      "metadata": {
        "id": "TXebnSJZUmxp"
      },
      "source": [
        "We use a loss function to determine how far the predicted values deviate from the actual values in the training data"
      ]
    },
    {
      "cell_type": "code",
      "metadata": {
        "id": "kLOl5HBUnztn",
        "colab": {
          "base_uri": "https://localhost:8080/",
          "height": 282
        },
        "outputId": "13437751-359c-4502-c0da-5f9732bbe6de"
      },
      "source": [
        "import matplotlib.pyplot as plt\n",
        "plt.plot(history.history['accuracy'])"
      ],
      "execution_count": null,
      "outputs": [
        {
          "output_type": "execute_result",
          "data": {
            "text/plain": [
              "[<matplotlib.lines.Line2D at 0x7f6a3451a690>]"
            ]
          },
          "metadata": {
            "tags": []
          },
          "execution_count": 25
        },
        {
          "output_type": "display_data",
          "data": {
            "image/png": "[encoded data removed]",
            "text/plain": [
              "<Figure size 432x288 with 1 Axes>"
            ]
          },
          "metadata": {
            "tags": [],
            "needs_background": "light"
          }
        }
      ]
    },
    {
      "cell_type": "markdown",
      "metadata": {
        "id": "xlGrz6fcpFWJ"
      },
      "source": [
        "### validate the model\n"
      ]
    },
    {
      "cell_type": "code",
      "metadata": {
        "id": "qnRHdkD3hmNL",
        "colab": {
          "base_uri": "https://localhost:8080/"
        },
        "outputId": "b2a3c52a-3bd1-4fb9-85e2-bb188715abbc"
      },
      "source": [
        "model.save('final_model.h5')\n",
        "results = model.evaluate(testX, testY)\n",
        "\n",
        "print('test loss, test acc:', results)\n",
        "\n",
        "predictY=model.predict(testX)\n"
      ],
      "execution_count": null,
      "outputs": [
        {
          "output_type": "stream",
          "text": [
            "313/313 [==============================] - 1s 2ms/step - loss: 0.3062 - accuracy: 0.9140\n",
            "test loss, test acc: [0.3062205910682678, 0.9139999747276306]\n"
          ],
          "name": "stdout"
        }
      ]
    },
    {
      "cell_type": "code",
      "metadata": {
        "colab": {
          "base_uri": "https://localhost:8080/"
        },
        "id": "uw_KboDNvd25",
        "outputId": "990ab7f6-0405-45d2-e29b-1c0b4e44d8c2"
      },
      "source": [
        "import numpy as np\n",
        "from sklearn.metrics import  classification_report\n",
        "\n",
        "print(classification_report(np.argmax(testY,axis=1),np.argmax(predictY,axis=1)))"
      ],
      "execution_count": null,
      "outputs": [
        {
          "output_type": "stream",
          "text": [
            "              precision    recall  f1-score   support\n",
            "\n",
            "           0       0.94      0.97      0.95       980\n",
            "           1       0.97      0.98      0.97      1135\n",
            "           2       0.92      0.89      0.91      1032\n",
            "           3       0.88      0.91      0.90      1010\n",
            "           4       0.91      0.91      0.91       982\n",
            "           5       0.89      0.84      0.87       892\n",
            "           6       0.93      0.94      0.93       958\n",
            "           7       0.94      0.90      0.92      1028\n",
            "           8       0.88      0.88      0.88       974\n",
            "           9       0.88      0.90      0.89      1009\n",
            "\n",
            "    accuracy                           0.91     10000\n",
            "   macro avg       0.91      0.91      0.91     10000\n",
            "weighted avg       0.91      0.91      0.91     10000\n",
            "\n"
          ],
          "name": "stdout"
        }
      ]
    },
    {
      "cell_type": "markdown",
      "metadata": {
        "id": "-Tr0Rer-svk2"
      },
      "source": [
        "### Predict a value"
      ]
    },
    {
      "cell_type": "code",
      "metadata": {
        "id": "L6SQr8P7qISE",
        "colab": {
          "base_uri": "https://localhost:8080/",
          "height": 366
        },
        "outputId": "2edb432f-ad13-4eb0-bfdd-7bccfea12b89"
      },
      "source": [
        "import numpy as np\n",
        "\n",
        "np.set_printoptions(1)\n",
        "# select a random sample of the test data\n",
        "num=np.random.randint(testX.shape[0])\n",
        "\n",
        "\n",
        "\n",
        "predictions = model.predict(testX[num].reshape(1,28,28,1))\n",
        "print(predictions)\n",
        "print(\"predicted value\",np.argmax(predictions))\n",
        "\n",
        "# comparing the result\n",
        "print(\"expected value\",np.argmax(testY[num]))\n",
        "\n",
        "plt.imshow(testX[num].reshape(28,28), cmap=plt.get_cmap('gray'))\n",
        "plt.title('image #'+str(num)+\" : \"+str(np.argmax(testY[num])))"
      ],
      "execution_count": null,
      "outputs": [
        {
          "output_type": "stream",
          "text": [
            "[[8.9e-01 5.5e-07 1.0e-01 3.3e-04 3.4e-04 3.8e-04 7.2e-03 4.4e-04 9.6e-04\n",
            "  1.5e-03]]\n",
            "predicted value 0\n",
            "expected value 2\n"
          ],
          "name": "stdout"
        },
        {
          "output_type": "execute_result",
          "data": {
            "text/plain": [
              "Text(0.5, 1.0, 'image #4415 : 2')"
            ]
          },
          "metadata": {
            "tags": []
          },
          "execution_count": 37
        },
        {
          "output_type": "display_data",
          "data": {
            "image/png": "[encoded data removed]",
            "text/plain": [
              "<Figure size 432x288 with 1 Axes>"
            ]
          },
          "metadata": {
            "tags": [],
            "needs_background": "light"
          }
        }
      ]
    },
    {
      "cell_type": "markdown",
      "metadata": {
        "id": "uisaGcgrnpZD"
      },
      "source": [
        "### load the model and predict"
      ]
    },
    {
      "cell_type": "code",
      "metadata": {
        "id": "Axx13bD_npZN"
      },
      "source": [
        "\n",
        "from tensorflow.keras.models import load_model\n",
        "\n",
        "new_model=load_model('final_model.h5')\n",
        "\n"
      ],
      "execution_count": null,
      "outputs": []
    },
    {
      "cell_type": "code",
      "metadata": {
        "id": "hWs-SpfnAsXp"
      },
      "source": [
        ""
      ],
      "execution_count": null,
      "outputs": []
    },
    {
      "cell_type": "markdown",
      "metadata": {
        "id": "1k76pvUXnpZc"
      },
      "source": [
        "### Testing"
      ]
    },
    {
      "cell_type": "markdown",
      "metadata": {
        "id": "UUVGCWfaW7Dr"
      },
      "source": [
        "We are going to augment the data translating the image form center,rotating or applying a zoom.\n",
        "\n",
        "This can be made by hand with [opencv](https://opencv-python-tutroals.readthedocs.io/en/latest/py_tutorials/py_tutorials.html)\n",
        "\n"
      ]
    },
    {
      "cell_type": "code",
      "metadata": {
        "id": "BBjGcUuhxzJC"
      },
      "source": [
        "import numpy as np\n",
        "import cv2\n",
        "import random\n",
        "def play_with_image(img):\n",
        "            op=['trans -','trans +','rot -','rot +','zoom +']\n",
        "            rows,cols,c = img.shape\n",
        "            l=random.randint(0, 4)\n",
        "            if(l==0): # translate between -5 -1\n",
        "                x=random.randint(-5, -1)\n",
        "                y=random.randint(-5, -1)\n",
        "                M = np.float32([[1,0,x],[0,1,y]])\n",
        "                new_img = cv2.warpAffine(img,M,(cols,rows))\n",
        "            elif(l==1): # translate between 1 5\n",
        "                x=random.randint(1, 5)\n",
        "                y=random.randint(1, 5)\n",
        "                M = np.float32([[1,0,x],[0,1,y]])\n",
        "                new_img = cv2.warpAffine(img,M,(cols,rows))\n",
        "            elif(l==2): # rotate between -20 -3\n",
        "                r=random.randint(-20, -3)\n",
        "                M = cv2.getRotationMatrix2D((cols/2,rows/2),r,1)\n",
        "                new_img  = cv2.warpAffine(img,M,(cols,rows))\n",
        "            elif(l==3): # rotate between 3 20\n",
        "                r=random.randint(3, 20)\n",
        "                #print(r)\n",
        "                M = cv2.getRotationMatrix2D((cols/2,rows/2),r,1)\n",
        "                new_img  = cv2.warpAffine(img,M,(cols,rows))\n",
        "            elif(l==4): # zoom the image\n",
        "                x=random.randint(1, 6)*2\n",
        "                y=random.randint(1, 6)*2\n",
        "                new_img = cv2.resize(img,(rows+x, cols+y), interpolation = cv2.INTER_CUBIC)\n",
        "                #new_img = new_img[int(x/2.):-int(x/2.),int(y/2.):-int(y/2.)]\n",
        "                #new_img.reshape(28,28)\n",
        "                #print(new_img.shape)\n",
        "                new_img = new_img[:28,-28:]\n",
        "            return (new_img,op[l])"
      ],
      "execution_count": null,
      "outputs": []
    },
    {
      "cell_type": "code",
      "metadata": {
        "id": "wnNVa5lOopu-",
        "colab": {
          "base_uri": "https://localhost:8080/",
          "height": 819
        },
        "outputId": "eab77d18-20de-4cc5-8a33-8c7aade70a5e"
      },
      "source": [
        "import matplotlib.pyplot as plt\n",
        "import matplotlib.image as mpimg\n",
        "import numpy as np\n",
        "import cv2\n",
        "f = plt.figure(figsize=(15,15))\n",
        "wish=np.random.randint(testX.shape[0])\n",
        "\n",
        "\n",
        "#add noise\n",
        "\n",
        "stacked_img=testX[wish].reshape(28,28,1)\n",
        "#stacked_img = np.stack((trainX[wish].reshape(28,28),)*3,2).reshape((28,28,3))\n",
        "predictions = new_model.predict(stacked_img.reshape(1,28,28,1))\n",
        "ax = f.add_subplot(3,4,1)\n",
        "ax.imshow(stacked_img.reshape(28,28), cmap=plt.get_cmap('gray'))\n",
        "ax.axis(\"off\")\n",
        "ax.set_title('#'+str(wish)+\" : \"+str(np.argmax(testY[wish]))+\" ? \"+str(np.argmax(predictions)))\n",
        "\n",
        "for i in range(2,13):\n",
        "  ax = f.add_subplot(3,4,i)\n",
        "  new_img,op=play_with_image(stacked_img)\n",
        "  predictions = new_model.predict(new_img.reshape(1,28,28,1))\n",
        "  ax.imshow(new_img.reshape(28,28), cmap=plt.get_cmap('gray'))\n",
        "  ax.axis(\"off\")\n",
        "  ax.set_title('#'+str(wish)+\" : \"+str(np.argmax(testY[wish]))+\" ? \"+str(np.argmax(predictions))+'\\n'+op)\n"
      ],
      "execution_count": null,
      "outputs": [
        {
          "output_type": "display_data",
          "data": {
            "image/png": "[encoded data removed]",
            "text/plain": [
              "<Figure size 1080x1080 with 12 Axes>"
            ]
          },
          "metadata": {
            "tags": [],
            "needs_background": "light"
          }
        }
      ]
    },
    {
      "cell_type": "markdown",
      "metadata": {
        "id": "4ZsHmlVMWtsS"
      },
      "source": [
        "Keras has an automatic class to make augmentation\n",
        "[Preprocessing](https://keras.io/preprocessing/image/)"
      ]
    },
    {
      "cell_type": "code",
      "metadata": {
        "id": "MmSdX4vynpZl"
      },
      "source": [
        "from tensorflow.keras.preprocessing.image import ImageDataGenerator\n",
        "\n",
        "\n",
        "data_aug = ImageDataGenerator(\n",
        "rotation_range=10,\n",
        "zoom_range=0.15,\n",
        "width_shift_range=0.1,\n",
        "height_shift_range=0.1,\n",
        "shear_range=0.15,\n",
        "horizontal_flip=False,\n",
        "vertical_flip=False)\n",
        "\n",
        "\n",
        "# compute quantities required for featurewise normalization\n",
        "# (std, mean, and principal components if ZCA whitening is applied)\n",
        "data_aug.fit(testX)"
      ],
      "execution_count": null,
      "outputs": []
    },
    {
      "cell_type": "code",
      "metadata": {
        "id": "bnDqICXYUeIc",
        "colab": {
          "base_uri": "https://localhost:8080/",
          "height": 819
        },
        "outputId": "3d5e5c8c-eda8-4d54-9d44-9a9e1904db0f"
      },
      "source": [
        "import matplotlib.pyplot as plt\n",
        "import matplotlib.image as mpimg\n",
        "import numpy as np\n",
        "\n",
        "\n",
        "\n",
        "f = plt.figure(figsize=(15,15))\n",
        "wish=np.random.randint(testX.shape[0])\n",
        "\n",
        "\n",
        "\n",
        "stacked_img=testX[wish].reshape(28,28,1)\n",
        "#stacked_img = np.stack((trainX[wish].reshape(28,28),)*3,2).reshape((28,28,3))\n",
        "predictions = new_model(stacked_img.reshape(1,28,28,1))\n",
        "ax = f.add_subplot(3,4,1)\n",
        "ax.imshow(stacked_img.reshape(28,28), cmap=plt.get_cmap('gray'))\n",
        "ax.axis(\"off\")\n",
        "ax.set_title('#'+str(wish)+\" : \"+str(np.argmax(testY[wish]))+\" ? \"+str(np.argmax(predictions)))\n",
        "\n",
        "for i in range(2,13):\n",
        "  ax = f.add_subplot(3,4,i)\n",
        "  op=\"auto\"\n",
        "  new_img=data_aug.random_transform(stacked_img)\n",
        "  predictions = new_model(new_img.reshape(1,28,28,1))\n",
        "  ax.imshow(new_img.reshape(28,28), cmap=plt.get_cmap('gray'))\n",
        "  ax.axis(\"off\")\n",
        "  ax.set_title('#'+str(wish)+\" : \"+str(np.argmax(testY[wish]))+\" ? \"+str(np.argmax(predictions))+'\\n'+op)\n"
      ],
      "execution_count": null,
      "outputs": [
        {
          "output_type": "display_data",
          "data": {
            "image/png": "[encoded data removed]",
            "text/plain": [
              "<Figure size 1080x1080 with 12 Axes>"
            ]
          },
          "metadata": {
            "tags": [],
            "needs_background": "light"
          }
        }
      ]
    },
    {
      "cell_type": "markdown",
      "metadata": {
        "id": "CXMY5k-7Atm2"
      },
      "source": [
        "## Deployment\n",
        "\n",
        "[GRADIO](https://www.gradio.app/) is a flsk server, which has legal input and output interfaces for ML models, hello world example: "
      ]
    },
    {
      "cell_type": "code",
      "metadata": {
        "colab": {
          "base_uri": "https://localhost:8080/"
        },
        "id": "f1cedM9VA1ZO",
        "outputId": "4c3dba50-f422-426a-990e-9b9699bcec73"
      },
      "source": [
        "!pip install gradio"
      ],
      "execution_count": null,
      "outputs": [
        {
          "output_type": "stream",
          "text": [
            "Collecting gradio\n",
            "\u001b[?25l  Downloading https://files.pythonhosted.org/packages/a4/45/0f2d4b4b55c1bccadd1983cfac35788ddadc0e0f70722b90b557088c634b/gradio-1.7.7-py3-none-any.whl (1.1MB)\n",
            "\u001b[K     |████████████████████████████████| 1.1MB 8.1MB/s \n",
            "\u001b[?25hCollecting markdown2\n",
            "  Downloading https://files.pythonhosted.org/packages/5d/be/3924cc1c0e12030b5225de2b4521f1dc729730773861475de26be64a0d2b/markdown2-2.4.0-py2.py3-none-any.whl\n",
            "Requirement already satisfied: requests in /usr/local/lib/python3.7/dist-packages (from gradio) (2.23.0)\n",
            "Collecting flask-cachebuster\n",
            "  Downloading https://files.pythonhosted.org/packages/74/47/f3e1fedfaad965c81c2f17234636d72f71450f1b4522ca26d2b7eb4a0a74/Flask-CacheBuster-1.0.0.tar.gz\n",
            "Requirement already satisfied: matplotlib in /usr/local/lib/python3.7/dist-packages (from gradio) (3.2.2)\n",
            "Collecting Flask-Login\n",
            "  Downloading https://files.pythonhosted.org/packages/2b/83/ac5bf3279f969704fc1e63f050c50e10985e50fd340e6069ec7e09df5442/Flask_Login-0.5.0-py2.py3-none-any.whl\n",
            "Requirement already satisfied: pandas in /usr/local/lib/python3.7/dist-packages (from gradio) (1.1.5)\n",
            "Collecting ffmpy\n",
            "  Downloading https://files.pythonhosted.org/packages/bf/e2/947df4b3d666bfdd2b0c6355d215c45d2d40f929451cb29a8a2995b29788/ffmpy-0.3.0.tar.gz\n",
            "Collecting pycryptodome\n",
            "\u001b[?25l  Downloading https://files.pythonhosted.org/packages/ad/16/9627ab0493894a11c68e46000dbcc82f578c8ff06bc2980dcd016aea9bd3/pycryptodome-3.10.1-cp35-abi3-manylinux2010_x86_64.whl (1.9MB)\n",
            "\u001b[K     |████████████████████████████████| 1.9MB 27.2MB/s \n",
            "\u001b[?25hRequirement already satisfied: Flask>=1.1.1 in /usr/local/lib/python3.7/dist-packages (from gradio) (1.1.2)\n",
            "Requirement already satisfied: scipy in /usr/local/lib/python3.7/dist-packages (from gradio) (1.4.1)\n",
            "Collecting Flask-Cors>=3.0.8\n",
            "  Downloading https://files.pythonhosted.org/packages/db/84/901e700de86604b1c4ef4b57110d4e947c218b9997adf5d38fa7da493bce/Flask_Cors-3.0.10-py2.py3-none-any.whl\n",
            "Collecting paramiko\n",
            "\u001b[?25l  Downloading https://files.pythonhosted.org/packages/95/19/124e9287b43e6ff3ebb9cdea3e5e8e88475a873c05ccdf8b7e20d2c4201e/paramiko-2.7.2-py2.py3-none-any.whl (206kB)\n",
            "\u001b[K     |████████████████████████████████| 215kB 53.1MB/s \n",
            "\u001b[?25hCollecting analytics-python\n",
            "  Downloading https://files.pythonhosted.org/packages/d3/37/c49d052f88655cd96445c36979fb63f69ef859e167eaff5706ca7c8a8ee3/analytics_python-1.2.9-py2.py3-none-any.whl\n",
            "Requirement already satisfied: pillow in /usr/local/lib/python3.7/dist-packages (from gradio) (7.1.2)\n",
            "Requirement already satisfied: numpy in /usr/local/lib/python3.7/dist-packages (from gradio) (1.19.5)\n",
            "Requirement already satisfied: chardet<4,>=3.0.2 in /usr/local/lib/python3.7/dist-packages (from requests->gradio) (3.0.4)\n",
            "Requirement already satisfied: idna<3,>=2.5 in /usr/local/lib/python3.7/dist-packages (from requests->gradio) (2.10)\n",
            "Requirement already satisfied: certifi>=2017.4.17 in /usr/local/lib/python3.7/dist-packages (from requests->gradio) (2020.12.5)\n",
            "Requirement already satisfied: urllib3!=1.25.0,!=1.25.1,<1.26,>=1.21.1 in /usr/local/lib/python3.7/dist-packages (from requests->gradio) (1.24.3)\n",
            "Requirement already satisfied: cycler>=0.10 in /usr/local/lib/python3.7/dist-packages (from matplotlib->gradio) (0.10.0)\n",
            "Requirement already satisfied: pyparsing!=2.0.4,!=2.1.2,!=2.1.6,>=2.0.1 in /usr/local/lib/python3.7/dist-packages (from matplotlib->gradio) (2.4.7)\n",
            "Requirement already satisfied: kiwisolver>=1.0.1 in /usr/local/lib/python3.7/dist-packages (from matplotlib->gradio) (1.3.1)\n",
            "Requirement already satisfied: python-dateutil>=2.1 in /usr/local/lib/python3.7/dist-packages (from matplotlib->gradio) (2.8.1)\n",
            "Requirement already satisfied: pytz>=2017.2 in /usr/local/lib/python3.7/dist-packages (from pandas->gradio) (2018.9)\n",
            "Requirement already satisfied: itsdangerous>=0.24 in /usr/local/lib/python3.7/dist-packages (from Flask>=1.1.1->gradio) (1.1.0)\n",
            "Requirement already satisfied: Werkzeug>=0.15 in /usr/local/lib/python3.7/dist-packages (from Flask>=1.1.1->gradio) (1.0.1)\n",
            "Requirement already satisfied: click>=5.1 in /usr/local/lib/python3.7/dist-packages (from Flask>=1.1.1->gradio) (7.1.2)\n",
            "Requirement already satisfied: Jinja2>=2.10.1 in /usr/local/lib/python3.7/dist-packages (from Flask>=1.1.1->gradio) (2.11.3)\n",
            "Requirement already satisfied: Six in /usr/local/lib/python3.7/dist-packages (from Flask-Cors>=3.0.8->gradio) (1.15.0)\n",
            "Collecting bcrypt>=3.1.3\n",
            "\u001b[?25l  Downloading https://files.pythonhosted.org/packages/26/70/6d218afbe4c73538053c1016dd631e8f25fffc10cd01f5c272d7acf3c03d/bcrypt-3.2.0-cp36-abi3-manylinux2010_x86_64.whl (63kB)\n",
            "\u001b[K     |████████████████████████████████| 71kB 10.6MB/s \n",
            "\u001b[?25hCollecting pynacl>=1.0.1\n",
            "\u001b[?25l  Downloading https://files.pythonhosted.org/packages/9d/57/2f5e6226a674b2bcb6db531e8b383079b678df5b10cdaa610d6cf20d77ba/PyNaCl-1.4.0-cp35-abi3-manylinux1_x86_64.whl (961kB)\n",
            "\u001b[K     |████████████████████████████████| 962kB 48.1MB/s \n",
            "\u001b[?25hCollecting cryptography>=2.5\n",
            "\u001b[?25l  Downloading https://files.pythonhosted.org/packages/b2/26/7af637e6a7e87258b963f1731c5982fb31cd507f0d90d91836e446955d02/cryptography-3.4.7-cp36-abi3-manylinux2014_x86_64.whl (3.2MB)\n",
            "\u001b[K     |████████████████████████████████| 3.2MB 52.8MB/s \n",
            "\u001b[?25hRequirement already satisfied: MarkupSafe>=0.23 in /usr/local/lib/python3.7/dist-packages (from Jinja2>=2.10.1->Flask>=1.1.1->gradio) (1.1.1)\n",
            "Requirement already satisfied: cffi>=1.1 in /usr/local/lib/python3.7/dist-packages (from bcrypt>=3.1.3->paramiko->gradio) (1.14.5)\n",
            "Requirement already satisfied: pycparser in /usr/local/lib/python3.7/dist-packages (from cffi>=1.1->bcrypt>=3.1.3->paramiko->gradio) (2.20)\n",
            "Building wheels for collected packages: flask-cachebuster, ffmpy\n",
            "  Building wheel for flask-cachebuster (setup.py) ... \u001b[?25l\u001b[?25hdone\n",
            "  Created wheel for flask-cachebuster: filename=Flask_CacheBuster-1.0.0-cp37-none-any.whl size=3372 sha256=403e6c1b0c8f2e0f6f513b73bc4509778f65e2966ce06bdfcffad2fc3b9cd179\n",
            "  Stored in directory: /root/.cache/pip/wheels/9f/fc/a7/ab5712c3ace9a8f97276465cc2937316ab8063c1fea488ea77\n",
            "  Building wheel for ffmpy (setup.py) ... \u001b[?25l\u001b[?25hdone\n",
            "  Created wheel for ffmpy: filename=ffmpy-0.3.0-cp37-none-any.whl size=4710 sha256=f9af75f9da978c193a3353968a05846cafffce440c37f46a49564f4ea431261b\n",
            "  Stored in directory: /root/.cache/pip/wheels/cc/ac/c4/bef572cb7e52bfca170046f567e64858632daf77e0f34e5a74\n",
            "Successfully built flask-cachebuster ffmpy\n",
            "Installing collected packages: markdown2, flask-cachebuster, Flask-Login, ffmpy, pycryptodome, Flask-Cors, bcrypt, pynacl, cryptography, paramiko, analytics-python, gradio\n",
            "Successfully installed Flask-Cors-3.0.10 Flask-Login-0.5.0 analytics-python-1.2.9 bcrypt-3.2.0 cryptography-3.4.7 ffmpy-0.3.0 flask-cachebuster-1.0.0 gradio-1.7.7 markdown2-2.4.0 paramiko-2.7.2 pycryptodome-3.10.1 pynacl-1.4.0\n"
          ],
          "name": "stdout"
        }
      ]
    },
    {
      "cell_type": "markdown",
      "metadata": {
        "id": "iOg4VSehWUI9"
      },
      "source": [
        "Our exercise"
      ]
    },
    {
      "cell_type": "code",
      "metadata": {
        "colab": {
          "base_uri": "https://localhost:8080/",
          "height": 888
        },
        "id": "IohNk-pUBVCo",
        "outputId": "8bd163c1-291d-4255-e2c6-ba5023a16ef5"
      },
      "source": [
        "import gradio as gr\n",
        "\n",
        "from tensorflow.keras.models import load_model\n",
        "\n",
        "new_model=load_model('final_model.h5')\n",
        "\n",
        "\n",
        "def recognize_digit(img): \n",
        "  # resize image to has the same input of trained model   \n",
        "    new_img = cv2.resize(img/255.0,(28, 28), interpolation = cv2.INTER_CUBIC)\n",
        "    \n",
        "    predictions = new_model(new_img.reshape(1,28,28,1))\n",
        "    #n=np.argmax(predictions) \n",
        "    # ... return dictionary of labels and confidences\n",
        "    predictions=predictions.numpy().tolist()[0]\n",
        "    return {str(i): predictions[i] for i in range(10)}\n",
        "\n",
        "#wish=np.random.randint(testX.shape[0])\n",
        "#stacked_img=testX[wish].reshape(28,28,1)\n",
        "#print(recognize_digit(stacked_img),testY[wish])\n",
        "\n",
        "im = gr.inputs.Image(shape=(28, 28), image_mode='L', invert_colors=True, source=\"canvas\")\n",
        "\n",
        "gr.Interface(fn=recognize_digit, inputs=im, outputs=\"label\").launch(debug=True)"
      ],
      "execution_count": null,
      "outputs": [
        {
          "output_type": "stream",
          "text": [
            "Colab notebook detected. This cell will run indefinitely so that you can see errors and logs. To turn off, set debug=False in launch().\n",
            "This share link will expire in 24 hours. If you need a permanent link, visit: https://gradio.app/introducing-hosted (NEW!)\n",
            "Running on External URL: https://14536.gradio.app\n",
            "Interface loading below...\n"
          ],
          "name": "stdout"
        },
        {
          "output_type": "display_data",
          "data": {
            "text/html": [
              "\n",
              "        <iframe\n",
              "            width=\"1000\"\n",
              "            height=\"500\"\n",
              "            src=\"https://14536.gradio.app\"\n",
              "            frameborder=\"0\"\n",
              "            allowfullscreen\n",
              "        ></iframe>\n",
              "        "
            ],
            "text/plain": [
              "<IPython.lib.display.IFrame at 0x7f697dc91d90>"
            ]
          },
          "metadata": {
            "tags": []
          }
        },
        {
          "output_type": "error",
          "ename": "KeyboardInterrupt",
          "evalue": "ignored",
          "traceback": [
            "\u001b[0;31m---------------------------------------------------------------------------\u001b[0m",
            "\u001b[0;31mKeyboardInterrupt\u001b[0m                         Traceback (most recent call last)",
            "\u001b[0;32m<ipython-input-48-f2213b6150d5>\u001b[0m in \u001b[0;36m<module>\u001b[0;34m()\u001b[0m\n\u001b[1;32m     22\u001b[0m \u001b[0mim\u001b[0m \u001b[0;34m=\u001b[0m \u001b[0mgr\u001b[0m\u001b[0;34m.\u001b[0m\u001b[0minputs\u001b[0m\u001b[0;34m.\u001b[0m\u001b[0mImage\u001b[0m\u001b[0;34m(\u001b[0m\u001b[0mshape\u001b[0m\u001b[0;34m=\u001b[0m\u001b[0;34m(\u001b[0m\u001b[0;36m28\u001b[0m\u001b[0;34m,\u001b[0m \u001b[0;36m28\u001b[0m\u001b[0;34m)\u001b[0m\u001b[0;34m,\u001b[0m \u001b[0mimage_mode\u001b[0m\u001b[0;34m=\u001b[0m\u001b[0;34m'L'\u001b[0m\u001b[0;34m,\u001b[0m \u001b[0minvert_colors\u001b[0m\u001b[0;34m=\u001b[0m\u001b[0;32mTrue\u001b[0m\u001b[0;34m,\u001b[0m \u001b[0msource\u001b[0m\u001b[0;34m=\u001b[0m\u001b[0;34m\"canvas\"\u001b[0m\u001b[0;34m)\u001b[0m\u001b[0;34m\u001b[0m\u001b[0;34m\u001b[0m\u001b[0m\n\u001b[1;32m     23\u001b[0m \u001b[0;34m\u001b[0m\u001b[0m\n\u001b[0;32m---> 24\u001b[0;31m \u001b[0mgr\u001b[0m\u001b[0;34m.\u001b[0m\u001b[0mInterface\u001b[0m\u001b[0;34m(\u001b[0m\u001b[0mfn\u001b[0m\u001b[0;34m=\u001b[0m\u001b[0mrecognize_digit\u001b[0m\u001b[0;34m,\u001b[0m \u001b[0minputs\u001b[0m\u001b[0;34m=\u001b[0m\u001b[0mim\u001b[0m\u001b[0;34m,\u001b[0m \u001b[0moutputs\u001b[0m\u001b[0;34m=\u001b[0m\u001b[0;34m\"label\"\u001b[0m\u001b[0;34m)\u001b[0m\u001b[0;34m.\u001b[0m\u001b[0mlaunch\u001b[0m\u001b[0;34m(\u001b[0m\u001b[0mdebug\u001b[0m\u001b[0;34m=\u001b[0m\u001b[0;32mTrue\u001b[0m\u001b[0;34m)\u001b[0m\u001b[0;34m\u001b[0m\u001b[0;34m\u001b[0m\u001b[0m\n\u001b[0m",
            "\u001b[0;32m/usr/local/lib/python3.7/dist-packages/gradio/interface.py\u001b[0m in \u001b[0;36mlaunch\u001b[0;34m(self, inline, inbrowser, share, debug, auth, auth_message, private_endpoint)\u001b[0m\n\u001b[1;32m    479\u001b[0m             \u001b[0;32mwhile\u001b[0m \u001b[0;32mTrue\u001b[0m\u001b[0;34m:\u001b[0m\u001b[0;34m\u001b[0m\u001b[0;34m\u001b[0m\u001b[0m\n\u001b[1;32m    480\u001b[0m                 \u001b[0msys\u001b[0m\u001b[0;34m.\u001b[0m\u001b[0mstdout\u001b[0m\u001b[0;34m.\u001b[0m\u001b[0mflush\u001b[0m\u001b[0;34m(\u001b[0m\u001b[0;34m)\u001b[0m\u001b[0;34m\u001b[0m\u001b[0;34m\u001b[0m\u001b[0m\n\u001b[0;32m--> 481\u001b[0;31m                 \u001b[0mtime\u001b[0m\u001b[0;34m.\u001b[0m\u001b[0msleep\u001b[0m\u001b[0;34m(\u001b[0m\u001b[0;36m0.1\u001b[0m\u001b[0;34m)\u001b[0m\u001b[0;34m\u001b[0m\u001b[0;34m\u001b[0m\u001b[0m\n\u001b[0m\u001b[1;32m    482\u001b[0m         \u001b[0mis_in_interactive_mode\u001b[0m \u001b[0;34m=\u001b[0m \u001b[0mbool\u001b[0m\u001b[0;34m(\u001b[0m\u001b[0mgetattr\u001b[0m\u001b[0;34m(\u001b[0m\u001b[0msys\u001b[0m\u001b[0;34m,\u001b[0m \u001b[0;34m'ps1'\u001b[0m\u001b[0;34m,\u001b[0m \u001b[0msys\u001b[0m\u001b[0;34m.\u001b[0m\u001b[0mflags\u001b[0m\u001b[0;34m.\u001b[0m\u001b[0minteractive\u001b[0m\u001b[0;34m)\u001b[0m\u001b[0;34m)\u001b[0m\u001b[0;34m\u001b[0m\u001b[0;34m\u001b[0m\u001b[0m\n\u001b[1;32m    483\u001b[0m         \u001b[0;32mif\u001b[0m \u001b[0;32mnot\u001b[0m \u001b[0mis_in_interactive_mode\u001b[0m\u001b[0;34m:\u001b[0m\u001b[0;34m\u001b[0m\u001b[0;34m\u001b[0m\u001b[0m\n",
            "\u001b[0;31mKeyboardInterrupt\u001b[0m: "
          ]
        }
      ]
    }
  ]
}
