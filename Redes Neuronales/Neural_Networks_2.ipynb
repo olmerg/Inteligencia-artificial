{
  "nbformat": 4,
  "nbformat_minor": 0,
  "metadata": {
    "colab": {
      "name": "_Neural Networks_2.ipynb",
      "provenance": [],
      "collapsed_sections": []
    },
    "kernelspec": {
      "name": "python3",
      "display_name": "Python 3"
    },
    "accelerator": "GPU"
  },
  "cells": [
    {
      "cell_type": "markdown",
      "metadata": {
        "id": "XHZY8Zu0npYI"
      },
      "source": [
        "## Testing Tensorflow  (2.0)\n",
        "\n",
        "Installing with anaconda [tensorflow](https://www.tensorflow.org/install/install_linux#InstallingAnaconda)\n"
      ]
    },
    {
      "cell_type": "code",
      "metadata": {
        "id": "h3OnYc9lnpYK",
        "colab": {
          "base_uri": "https://localhost:8080/"
        },
        "outputId": "18ba6869-49e8-4312-b170-2cd77d0b3228"
      },
      "source": [
        "import tensorflow as tf\n",
        "msg = tf.constant('TensorFlow 2.0 Hello World')\n",
        "tf.print(msg)"
      ],
      "execution_count": null,
      "outputs": [
        {
          "output_type": "stream",
          "name": "stdout",
          "text": [
            "TensorFlow 2.0 Hello World\n"
          ]
        }
      ]
    },
    {
      "cell_type": "code",
      "source": [
        "tf.__version__"
      ],
      "metadata": {
        "colab": {
          "base_uri": "https://localhost:8080/",
          "height": 35
        },
        "id": "lx-T9opH_HFf",
        "outputId": "127c4ff1-ed87-47c9-f6b8-2995b214cc18"
      },
      "execution_count": null,
      "outputs": [
        {
          "output_type": "execute_result",
          "data": {
            "text/plain": [
              "'2.8.0'"
            ],
            "application/vnd.google.colaboratory.intrinsic+json": {
              "type": "string"
            }
          },
          "metadata": {},
          "execution_count": 2
        }
      ]
    },
    {
      "cell_type": "markdown",
      "metadata": {
        "id": "GpilgDPanpYb"
      },
      "source": [
        "## [LeNet-5  in TensorFlow with NMIST dataset]\n",
        "\n",
        "Based in [tensorflow sample](https://www.tensorflow.org/tutorials/layers) and [UDACITY](htttp://www.udacity.com) deep learning classes.\n",
        "\n",
        "A Guide to TF Layers: Building a Convolutional Neural Network\n",
        "\n",
        "The TensorFlow layers module provides a high-level API that makes it easy to construct a neural network. It provides methods that facilitate the creation of dense (fully connected) layers and convolutional layers, adding activation functions, and applying dropout regularization. In this tutorial, we gonna build a convolutional neural network model to recognize the handwritten digits in the MNIST data set.\n",
        "\n",
        "handwritten digits 0–9 from the MNIST data set\n",
        "\n",
        "The MNIST dataset comprises 60,000 training examples and 10,000 test examples of the handwritten digits 0–9, formatted as 28x28-pixel monochrome images.\n",
        "\n",
        "\n",
        "\n",
        "\n",
        "\n",
        "### Load data"
      ]
    },
    {
      "cell_type": "code",
      "metadata": {
        "scrolled": true,
        "id": "trXE4uBPnpYh",
        "colab": {
          "base_uri": "https://localhost:8080/",
          "height": 355
        },
        "outputId": "bdee0c64-19c7-40c8-c6d0-7fe4a2403065"
      },
      "source": [
        "\n",
        "from keras.datasets import mnist\n",
        "import matplotlib.pyplot as plt\n",
        "# load dataset\n",
        "(trainX, trainy), (testX, testy) = mnist.load_data()\n",
        "# summarize loaded dataset\n",
        "print('Train data: X=%s, y=%s' % (trainX.shape, trainy.shape))\n",
        "print('Test data: X=%s, y=%s' % (testX.shape, testy.shape))\n",
        "# plot first few images\n",
        "for i in range(9):\n",
        "\t# define subplot\n",
        "\tplt.subplot(330 + 1 + i)\n",
        "\t# plot raw pixel data\n",
        "\tplt.imshow(trainX[i], cmap=plt.get_cmap('gray'))\n",
        "# show the figure\n",
        "plt.show()"
      ],
      "execution_count": null,
      "outputs": [
        {
          "output_type": "stream",
          "name": "stdout",
          "text": [
            "Downloading data from https://storage.googleapis.com/tensorflow/tf-keras-datasets/mnist.npz\n",
            "11493376/11490434 [==============================] - 0s 0us/step\n",
            "11501568/11490434 [==============================] - 0s 0us/step\n",
            "Train data: X=(60000, 28, 28), y=(60000,)\n",
            "Test data: X=(10000, 28, 28), y=(10000,)\n"
          ]
        },
        {
          "output_type": "display_data",
          "data": {
            "text/plain": [
              "<Figure size 432x288 with 9 Axes>"
            ],
            "image/png": "[encoded data removed]"
          },
          "metadata": {
            "needs_background": "light"
          }
        }
      ]
    },
    {
      "cell_type": "code",
      "source": [
        "trainy[:9]"
      ],
      "metadata": {
        "colab": {
          "base_uri": "https://localhost:8080/"
        },
        "id": "L0_v5JAbAFmX",
        "outputId": "61fa99e8-aabd-4be2-fd0b-b3c3966d0976"
      },
      "execution_count": null,
      "outputs": [
        {
          "output_type": "execute_result",
          "data": {
            "text/plain": [
              "array([5, 0, 4, 1, 9, 2, 1, 3, 1], dtype=uint8)"
            ]
          },
          "metadata": {},
          "execution_count": 7
        }
      ]
    },
    {
      "cell_type": "markdown",
      "metadata": {
        "id": "1_ZmlsxeW_JC"
      },
      "source": [
        "### Prepare data\n"
      ]
    },
    {
      "cell_type": "code",
      "metadata": {
        "id": "PqJScmkXW-sR"
      },
      "source": [
        "from tensorflow.keras.utils import to_categorical\n",
        "\n",
        "\n",
        "def load_dataset():\n",
        "\t# load dataset\n",
        "\t(trainX, trainY), (testX, testY) = mnist.load_data()\n",
        "\t# reshape dataset to have a single channel\n",
        "\ttrainX = trainX.reshape((trainX.shape[0], 28, 28, 1))\n",
        "\ttestX = testX.reshape((testX.shape[0], 28, 28, 1))\n",
        "\t# one hot encode target values\n",
        "\ttrainY = to_categorical(trainY)\n",
        "\ttestY = to_categorical(testY)\n",
        "\treturn trainX, trainY, testX, testY\n",
        "\n",
        "# scale pixels\n",
        "def prep_pixels(train):\n",
        "\t# convert from integers to floats\n",
        "\ttrain_norm = train.astype('float32')\n",
        "\t# normalize to range 0-1\n",
        "\tnorm_image = train_norm / 255.0\n",
        "\t# quisiera pasarla a blanco y negro o cambiar la representacion de color\n",
        "\t# filtro previo (ecualizador de histrograma)\n",
        "\t# return normalized images\n",
        "\treturn norm_image\n",
        "\n",
        "\t# load dataset\n",
        "trainX, trainY, testX, testY = load_dataset()\n",
        "\n",
        "\n",
        "\t# prepare pixel data\n",
        "trainX = prep_pixels(trainX)\n",
        "testX = prep_pixels(testX)\n",
        "\n",
        "# Reserve 10,000 samples for validation\n",
        "x_val = trainX[-10000:]  \n",
        "y_val = trainY[-10000:]\n",
        "x_train = trainX[:-10000]\n",
        "y_train = trainY[:-10000]"
      ],
      "execution_count": null,
      "outputs": []
    },
    {
      "cell_type": "code",
      "metadata": {
        "colab": {
          "base_uri": "https://localhost:8080/"
        },
        "id": "Z7G_Y8vzVI0J",
        "outputId": "edf05945-d88b-4122-a131-8fc2cba8b534"
      },
      "source": [
        "testY[1]"
      ],
      "execution_count": null,
      "outputs": [
        {
          "output_type": "execute_result",
          "data": {
            "text/plain": [
              "array([0., 0., 1., 0., 0., 0., 0., 0., 0., 0.], dtype=float32)"
            ]
          },
          "metadata": {},
          "execution_count": 4
        }
      ]
    },
    {
      "cell_type": "markdown",
      "metadata": {
        "id": "9I_sU6FwnpYs"
      },
      "source": [
        "### Model\n",
        "\n",
        "\n",
        "Building the CNN MNIST Classifier\n",
        "\n",
        "Let's build a model to classify the images in the MNIST dataset using the following CNN architecture:\n",
        "\n",
        "- Convolutional Layer #1: Applies 32 5x5 filters (extracting 5x5-pixel subregions), with ReLU activation function\n",
        "- Pooling Layer #1: Performs max pooling with a 2x2 filter and stride of 2 (which specifies that pooled regions do not overlap)\n",
        "- Convolutional Layer #2: Applies 16 5x5 filters, with ReLU activation function\n",
        "- Pooling Layer #2: Again, performs max pooling with a 2x2 filter and stride of 2\n",
        "- Dense Layer #1: 1,024 neurons, with dropout regularization (probability that any given element will be dropped during training)\n",
        "- Dense Layer #2 (Logits Layer): 10 neurons, one for each digit target class (0–9).\n",
        "\n",
        "\n",
        "![texto alternativo](https://https://miro.medium.com/max/1400/0*H9_eGAtkQXJXtkoK)\n"
      ]
    },
    {
      "cell_type": "code",
      "metadata": {
        "id": "09c6DQY9WqNH"
      },
      "source": [
        "# Parameters\n",
        "learning_rate = 0.00001  # alpha de algoritmo del gradiente\n",
        "\n",
        "# Network Parameters\n",
        "input_shape=(28, 28, 1)\n",
        "n_classes = 10  # MNIST total classes (0-9 digits)\n"
      ],
      "execution_count": null,
      "outputs": []
    },
    {
      "cell_type": "code",
      "metadata": {
        "id": "29T3PVo7npYx",
        "colab": {
          "base_uri": "https://localhost:8080/"
        },
        "outputId": "8583f00f-95e9-407c-ddf8-8efd45fef68e"
      },
      "source": [
        "from tensorflow.keras import Model\n",
        "from tensorflow.keras.models import Sequential\n",
        "from tensorflow.keras.losses import categorical_crossentropy\n",
        "from tensorflow.keras.layers import Dense, Flatten, Conv2D, MaxPooling2D\n",
        "from tensorflow.keras.optimizers import SGD\n",
        "\n",
        "# define cnn model\n",
        "def define_model():\n",
        "  model = Sequential()\n",
        "  model.add(Conv2D(32, (5, 5),padding='same', activation='relu', kernel_initializer='he_uniform', input_shape=input_shape))\n",
        "  model.add(MaxPooling2D(pool_size=(2, 2), strides=(2, 2), padding='valid'))\n",
        "  model.add(Conv2D(16, kernel_size=(5, 5), padding='same', activation='relu'))\n",
        "  model.add(MaxPooling2D(pool_size=(2, 2), strides=(2, 2),padding='same'))\n",
        "  model.add(Flatten())\n",
        "  model.add(Dense(units=120, activation='relu', kernel_initializer='he_uniform'))\n",
        "  model.add(Dense(units=84, activation='relu', kernel_initializer='he_uniform'))\n",
        "  model.add(Dense(n_classes, activation='softmax'))\n",
        "\t# compile model\n",
        "  # cual algoritmo del gradiente utilizar\n",
        "  opt = SGD(lr=learning_rate, momentum=0.9)\n",
        "  model.compile(optimizer=opt, loss='categorical_crossentropy', metrics=['accuracy'])\n",
        "  return model\n",
        "\n",
        "model=define_model()\n",
        "print(model.summary())"
      ],
      "execution_count": null,
      "outputs": [
        {
          "output_type": "stream",
          "name": "stdout",
          "text": [
            "Model: \"sequential_3\"\n",
            "_________________________________________________________________\n",
            " Layer (type)                Output Shape              Param #   \n",
            "=================================================================\n",
            " conv2d_6 (Conv2D)           (None, 28, 28, 32)        832       \n",
            "                                                                 \n",
            " max_pooling2d_6 (MaxPooling  (None, 14, 14, 32)       0         \n",
            " 2D)                                                             \n",
            "                                                                 \n",
            " conv2d_7 (Conv2D)           (None, 14, 14, 16)        12816     \n",
            "                                                                 \n",
            " max_pooling2d_7 (MaxPooling  (None, 7, 7, 16)         0         \n",
            " 2D)                                                             \n",
            "                                                                 \n",
            " flatten_3 (Flatten)         (None, 784)               0         \n",
            "                                                                 \n",
            " dense_9 (Dense)             (None, 120)               94200     \n",
            "                                                                 \n",
            " dense_10 (Dense)            (None, 84)                10164     \n",
            "                                                                 \n",
            " dense_11 (Dense)            (None, 10)                850       \n",
            "                                                                 \n",
            "=================================================================\n",
            "Total params: 118,862\n",
            "Trainable params: 118,862\n",
            "Non-trainable params: 0\n",
            "_________________________________________________________________\n",
            "None\n"
          ]
        },
        {
          "output_type": "stream",
          "name": "stderr",
          "text": [
            "/usr/local/lib/python3.7/dist-packages/keras/optimizer_v2/gradient_descent.py:102: UserWarning: The `lr` argument is deprecated, use `learning_rate` instead.\n",
            "  super(SGD, self).__init__(name, **kwargs)\n"
          ]
        }
      ]
    },
    {
      "cell_type": "code",
      "metadata": {
        "id": "vx7Caq1sJVL6",
        "colab": {
          "base_uri": "https://localhost:8080/",
          "height": 856
        },
        "outputId": "ae3b4705-bf10-43d4-aa5e-89351bd6fe40"
      },
      "source": [
        "from tensorflow.keras.utils import plot_model\n",
        "plot_model(model, to_file='model.png')"
      ],
      "execution_count": null,
      "outputs": [
        {
          "output_type": "execute_result",
          "data": {
            "text/plain": [
              "<IPython.core.display.Image object>"
            ],
            "image/png": "[encoded data removed]"
          },
          "metadata": {},
          "execution_count": 15
        }
      ]
    },
    {
      "cell_type": "markdown",
      "metadata": {
        "id": "nSR_YHLd6fHA"
      },
      "source": [
        "You are invited to draw a better representation [StackExchange](https://datascience.stackexchange.com/questions/14899/how-to-draw-deep-learning-network-architecture-diagrams)"
      ]
    },
    {
      "cell_type": "code",
      "metadata": {
        "colab": {
          "base_uri": "https://localhost:8080/"
        },
        "id": "drZQ8_pi7J1H",
        "outputId": "bc245d24-1439-42d7-fd76-a3c7cdaa3eda"
      },
      "source": [
        "!pip3 install keras-visualizer"
      ],
      "execution_count": null,
      "outputs": [
        {
          "output_type": "stream",
          "name": "stdout",
          "text": [
            "Collecting keras-visualizer\n",
            "  Downloading keras_visualizer-2.4-py3-none-any.whl (5.4 kB)\n",
            "Installing collected packages: keras-visualizer\n",
            "Successfully installed keras-visualizer-2.4\n"
          ]
        }
      ]
    },
    {
      "cell_type": "code",
      "metadata": {
        "id": "XLoyB9vf7LMP"
      },
      "source": [
        "from keras_visualizer import visualizer \n",
        "visualizer(model, format='png', view=True)"
      ],
      "execution_count": null,
      "outputs": []
    },
    {
      "cell_type": "markdown",
      "metadata": {
        "id": "DekssW-OnpY8"
      },
      "source": [
        "### Training variables"
      ]
    },
    {
      "cell_type": "code",
      "metadata": {
        "id": "uxqi_8UynpY9",
        "colab": {
          "base_uri": "https://localhost:8080/"
        },
        "outputId": "30798598-fca5-4631-86c6-8479129a943c"
      },
      "source": [
        "epochs = 50  # more epochs better\n",
        "batch_size =128 # normally in 2^n values\n",
        "# fit model\n",
        "history = model.fit(x_train, y_train, epochs=epochs, batch_size=batch_size, verbose=1,validation_data=(x_val, y_val))\n",
        "print('\\nhistory dict:', history.history)"
      ],
      "execution_count": null,
      "outputs": [
        {
          "output_type": "stream",
          "name": "stdout",
          "text": [
            "Epoch 1/50\n",
            "391/391 [==============================] - 6s 14ms/step - loss: 1.1242 - accuracy: 0.7281 - val_loss: 1.0404 - val_accuracy: 0.7569\n",
            "Epoch 2/50\n",
            "391/391 [==============================] - 4s 11ms/step - loss: 1.0414 - accuracy: 0.7459 - val_loss: 0.9611 - val_accuracy: 0.7768\n",
            "Epoch 3/50\n",
            "391/391 [==============================] - 4s 11ms/step - loss: 0.9689 - accuracy: 0.7633 - val_loss: 0.8923 - val_accuracy: 0.7950\n",
            "Epoch 4/50\n",
            "391/391 [==============================] - 4s 11ms/step - loss: 0.9052 - accuracy: 0.7780 - val_loss: 0.8317 - val_accuracy: 0.8092\n",
            "Epoch 5/50\n",
            "391/391 [==============================] - 4s 11ms/step - loss: 0.8492 - accuracy: 0.7908 - val_loss: 0.7787 - val_accuracy: 0.8199\n",
            "Epoch 6/50\n",
            "391/391 [==============================] - 4s 11ms/step - loss: 0.8000 - accuracy: 0.8028 - val_loss: 0.7322 - val_accuracy: 0.8305\n",
            "Epoch 7/50\n",
            "391/391 [==============================] - 4s 11ms/step - loss: 0.7566 - accuracy: 0.8113 - val_loss: 0.6913 - val_accuracy: 0.8393\n",
            "Epoch 8/50\n",
            "391/391 [==============================] - 4s 11ms/step - loss: 0.7183 - accuracy: 0.8208 - val_loss: 0.6550 - val_accuracy: 0.8461\n",
            "Epoch 9/50\n",
            "391/391 [==============================] - 4s 11ms/step - loss: 0.6841 - accuracy: 0.8290 - val_loss: 0.6227 - val_accuracy: 0.8543\n",
            "Epoch 10/50\n",
            "391/391 [==============================] - 4s 11ms/step - loss: 0.6537 - accuracy: 0.8364 - val_loss: 0.5941 - val_accuracy: 0.8597\n",
            "Epoch 11/50\n",
            "391/391 [==============================] - 4s 11ms/step - loss: 0.6266 - accuracy: 0.8423 - val_loss: 0.5683 - val_accuracy: 0.8653\n",
            "Epoch 12/50\n",
            "391/391 [==============================] - 4s 11ms/step - loss: 0.6022 - accuracy: 0.8483 - val_loss: 0.5456 - val_accuracy: 0.8708\n",
            "Epoch 13/50\n",
            "391/391 [==============================] - 4s 11ms/step - loss: 0.5802 - accuracy: 0.8529 - val_loss: 0.5246 - val_accuracy: 0.8740\n",
            "Epoch 14/50\n",
            "391/391 [==============================] - 4s 11ms/step - loss: 0.5602 - accuracy: 0.8572 - val_loss: 0.5058 - val_accuracy: 0.8784\n",
            "Epoch 15/50\n",
            "391/391 [==============================] - 4s 11ms/step - loss: 0.5419 - accuracy: 0.8620 - val_loss: 0.4889 - val_accuracy: 0.8818\n",
            "Epoch 16/50\n",
            "391/391 [==============================] - 5s 12ms/step - loss: 0.5252 - accuracy: 0.8652 - val_loss: 0.4733 - val_accuracy: 0.8840\n",
            "Epoch 17/50\n",
            "391/391 [==============================] - 4s 11ms/step - loss: 0.5100 - accuracy: 0.8688 - val_loss: 0.4591 - val_accuracy: 0.8861\n",
            "Epoch 18/50\n",
            "391/391 [==============================] - 5s 12ms/step - loss: 0.4958 - accuracy: 0.8714 - val_loss: 0.4457 - val_accuracy: 0.8890\n",
            "Epoch 19/50\n",
            "391/391 [==============================] - 4s 11ms/step - loss: 0.4828 - accuracy: 0.8744 - val_loss: 0.4334 - val_accuracy: 0.8916\n",
            "Epoch 20/50\n",
            "391/391 [==============================] - 4s 11ms/step - loss: 0.4706 - accuracy: 0.8768 - val_loss: 0.4224 - val_accuracy: 0.8931\n",
            "Epoch 21/50\n",
            "391/391 [==============================] - 4s 11ms/step - loss: 0.4594 - accuracy: 0.8796 - val_loss: 0.4117 - val_accuracy: 0.8957\n",
            "Epoch 22/50\n",
            "391/391 [==============================] - 5s 12ms/step - loss: 0.4490 - accuracy: 0.8818 - val_loss: 0.4023 - val_accuracy: 0.8962\n",
            "Epoch 23/50\n",
            "391/391 [==============================] - 4s 11ms/step - loss: 0.4393 - accuracy: 0.8834 - val_loss: 0.3933 - val_accuracy: 0.8986\n",
            "Epoch 24/50\n",
            "391/391 [==============================] - 4s 11ms/step - loss: 0.4302 - accuracy: 0.8859 - val_loss: 0.3849 - val_accuracy: 0.8996\n",
            "Epoch 25/50\n",
            "391/391 [==============================] - 4s 11ms/step - loss: 0.4216 - accuracy: 0.8872 - val_loss: 0.3769 - val_accuracy: 0.9016\n",
            "Epoch 26/50\n",
            "391/391 [==============================] - 4s 11ms/step - loss: 0.4136 - accuracy: 0.8889 - val_loss: 0.3695 - val_accuracy: 0.9035\n",
            "Epoch 27/50\n",
            "391/391 [==============================] - 4s 11ms/step - loss: 0.4060 - accuracy: 0.8903 - val_loss: 0.3626 - val_accuracy: 0.9064\n",
            "Epoch 28/50\n",
            "391/391 [==============================] - 4s 11ms/step - loss: 0.3988 - accuracy: 0.8923 - val_loss: 0.3559 - val_accuracy: 0.9070\n",
            "Epoch 29/50\n",
            "391/391 [==============================] - 4s 11ms/step - loss: 0.3922 - accuracy: 0.8932 - val_loss: 0.3498 - val_accuracy: 0.9083\n",
            "Epoch 30/50\n",
            "391/391 [==============================] - 4s 11ms/step - loss: 0.3858 - accuracy: 0.8949 - val_loss: 0.3440 - val_accuracy: 0.9099\n",
            "Epoch 31/50\n",
            "391/391 [==============================] - 4s 11ms/step - loss: 0.3797 - accuracy: 0.8959 - val_loss: 0.3383 - val_accuracy: 0.9120\n",
            "Epoch 32/50\n",
            "391/391 [==============================] - 4s 11ms/step - loss: 0.3739 - accuracy: 0.8971 - val_loss: 0.3335 - val_accuracy: 0.9121\n",
            "Epoch 33/50\n",
            "391/391 [==============================] - 4s 11ms/step - loss: 0.3684 - accuracy: 0.8984 - val_loss: 0.3282 - val_accuracy: 0.9136\n",
            "Epoch 34/50\n",
            "391/391 [==============================] - 4s 11ms/step - loss: 0.3632 - accuracy: 0.8995 - val_loss: 0.3238 - val_accuracy: 0.9135\n",
            "Epoch 35/50\n",
            "391/391 [==============================] - 4s 11ms/step - loss: 0.3582 - accuracy: 0.9009 - val_loss: 0.3190 - val_accuracy: 0.9149\n",
            "Epoch 36/50\n",
            "391/391 [==============================] - 4s 11ms/step - loss: 0.3534 - accuracy: 0.9022 - val_loss: 0.3150 - val_accuracy: 0.9151\n",
            "Epoch 37/50\n",
            "391/391 [==============================] - 4s 11ms/step - loss: 0.3488 - accuracy: 0.9031 - val_loss: 0.3109 - val_accuracy: 0.9167\n",
            "Epoch 38/50\n",
            "391/391 [==============================] - 4s 11ms/step - loss: 0.3445 - accuracy: 0.9042 - val_loss: 0.3068 - val_accuracy: 0.9163\n",
            "Epoch 39/50\n",
            "391/391 [==============================] - 5s 12ms/step - loss: 0.3403 - accuracy: 0.9044 - val_loss: 0.3032 - val_accuracy: 0.9168\n",
            "Epoch 40/50\n",
            "391/391 [==============================] - 4s 11ms/step - loss: 0.3363 - accuracy: 0.9056 - val_loss: 0.2996 - val_accuracy: 0.9181\n",
            "Epoch 41/50\n",
            "391/391 [==============================] - 4s 11ms/step - loss: 0.3324 - accuracy: 0.9069 - val_loss: 0.2963 - val_accuracy: 0.9182\n",
            "Epoch 42/50\n",
            "391/391 [==============================] - 4s 11ms/step - loss: 0.3286 - accuracy: 0.9077 - val_loss: 0.2928 - val_accuracy: 0.9193\n",
            "Epoch 43/50\n",
            "391/391 [==============================] - 4s 11ms/step - loss: 0.3251 - accuracy: 0.9087 - val_loss: 0.2897 - val_accuracy: 0.9192\n",
            "Epoch 44/50\n",
            "391/391 [==============================] - 4s 11ms/step - loss: 0.3216 - accuracy: 0.9098 - val_loss: 0.2867 - val_accuracy: 0.9202\n",
            "Epoch 45/50\n",
            "391/391 [==============================] - 4s 11ms/step - loss: 0.3183 - accuracy: 0.9102 - val_loss: 0.2835 - val_accuracy: 0.9206\n",
            "Epoch 46/50\n",
            "391/391 [==============================] - 4s 11ms/step - loss: 0.3150 - accuracy: 0.9111 - val_loss: 0.2808 - val_accuracy: 0.9216\n",
            "Epoch 47/50\n",
            "391/391 [==============================] - 4s 11ms/step - loss: 0.3119 - accuracy: 0.9120 - val_loss: 0.2779 - val_accuracy: 0.9220\n",
            "Epoch 48/50\n",
            "391/391 [==============================] - 4s 11ms/step - loss: 0.3088 - accuracy: 0.9126 - val_loss: 0.2755 - val_accuracy: 0.9228\n",
            "Epoch 49/50\n",
            "391/391 [==============================] - 4s 11ms/step - loss: 0.3060 - accuracy: 0.9132 - val_loss: 0.2728 - val_accuracy: 0.9225\n",
            "Epoch 50/50\n",
            "391/391 [==============================] - 4s 11ms/step - loss: 0.3031 - accuracy: 0.9140 - val_loss: 0.2701 - val_accuracy: 0.9227\n",
            "\n",
            "history dict: {'loss': [1.124153971672058, 1.041425347328186, 0.9689251780509949, 0.9052480459213257, 0.8492420315742493, 0.7999885678291321, 0.7565762996673584, 0.7182540893554688, 0.6841421723365784, 0.6537070870399475, 0.6265859603881836, 0.602229654788971, 0.580182671546936, 0.5601947903633118, 0.5419104099273682, 0.5252485275268555, 0.5099704265594482, 0.495829701423645, 0.4827877879142761, 0.470645546913147, 0.4594462811946869, 0.4489537179470062, 0.43931034207344055, 0.43015652894973755, 0.42157676815986633, 0.4135544002056122, 0.4060171842575073, 0.3988444209098816, 0.3921973705291748, 0.3857748806476593, 0.37968432903289795, 0.37387385964393616, 0.36843711137771606, 0.3631759285926819, 0.35816699266433716, 0.3534039855003357, 0.34881284832954407, 0.3445180058479309, 0.34031781554222107, 0.3362562358379364, 0.3324485123157501, 0.3286353051662445, 0.32512012124061584, 0.32158371806144714, 0.318281352519989, 0.31501415371894836, 0.311903178691864, 0.30880847573280334, 0.30597782135009766, 0.3030952215194702], 'accuracy': [0.7281200289726257, 0.7458800077438354, 0.7633200287818909, 0.7779800295829773, 0.7908400297164917, 0.8027600049972534, 0.8112800121307373, 0.8207600116729736, 0.8289600014686584, 0.836359977722168, 0.8423200249671936, 0.8482599854469299, 0.8528800010681152, 0.8572400212287903, 0.8619599938392639, 0.8651999831199646, 0.8687800168991089, 0.871399998664856, 0.8744000196456909, 0.8768399953842163, 0.8796200156211853, 0.8817800283432007, 0.8834199905395508, 0.8859000205993652, 0.8872399926185608, 0.8888800144195557, 0.8902599811553955, 0.892300009727478, 0.8932200074195862, 0.894860029220581, 0.8959400057792664, 0.8970800042152405, 0.8984400033950806, 0.8994799852371216, 0.9009000062942505, 0.902180016040802, 0.9031000137329102, 0.9041600227355957, 0.9044399857521057, 0.9056000113487244, 0.9068999886512756, 0.9076600074768066, 0.9086599946022034, 0.9097800254821777, 0.9102200269699097, 0.9110999703407288, 0.9119600057601929, 0.9125999808311462, 0.9131600260734558, 0.9140200018882751], 'val_loss': [1.0403550863265991, 0.9611178636550903, 0.8923007845878601, 0.8317100405693054, 0.7787019610404968, 0.7321845889091492, 0.6913307905197144, 0.6549898982048035, 0.6227173209190369, 0.5940817594528198, 0.5683354735374451, 0.5456141233444214, 0.5245997905731201, 0.5058354735374451, 0.48893892765045166, 0.4733027219772339, 0.4590696394443512, 0.44572049379348755, 0.4333537518978119, 0.42235615849494934, 0.41174378991127014, 0.4022828936576843, 0.39332324266433716, 0.38488397002220154, 0.3769257962703705, 0.3695213198661804, 0.3626267910003662, 0.35593998432159424, 0.3498304784297943, 0.3440380096435547, 0.3383321166038513, 0.33354049921035767, 0.3282071053981781, 0.3237585425376892, 0.31904059648513794, 0.31504321098327637, 0.31087031960487366, 0.30679455399513245, 0.30315616726875305, 0.29963043332099915, 0.29629603028297424, 0.2927703559398651, 0.2896796762943268, 0.28666865825653076, 0.28349384665489197, 0.2808491885662079, 0.2778788208961487, 0.27546757459640503, 0.27281874418258667, 0.27011722326278687], 'val_accuracy': [0.7569000124931335, 0.7767999768257141, 0.7950000166893005, 0.8091999888420105, 0.8198999762535095, 0.8305000066757202, 0.8392999768257141, 0.8460999727249146, 0.8543000221252441, 0.8597000241279602, 0.8652999997138977, 0.8708000183105469, 0.8740000128746033, 0.8784000277519226, 0.8817999958992004, 0.8840000033378601, 0.8860999941825867, 0.8889999985694885, 0.8916000127792358, 0.8931000232696533, 0.8956999778747559, 0.8962000012397766, 0.8985999822616577, 0.8996000289916992, 0.9016000032424927, 0.9035000205039978, 0.9064000248908997, 0.9070000052452087, 0.90829998254776, 0.9099000096321106, 0.9120000004768372, 0.9121000170707703, 0.9136000275611877, 0.9135000109672546, 0.914900004863739, 0.9150999784469604, 0.916700005531311, 0.9162999987602234, 0.9168000221252441, 0.9180999994277954, 0.9182000160217285, 0.9193000197410583, 0.9192000031471252, 0.920199990272522, 0.9205999970436096, 0.9215999841690063, 0.921999990940094, 0.9228000044822693, 0.9225000143051147, 0.9226999878883362]}\n"
          ]
        }
      ]
    },
    {
      "cell_type": "markdown",
      "metadata": {
        "id": "TXebnSJZUmxp"
      },
      "source": [
        "We use a loss function to determine how far the predicted values deviate from the actual values in the training data"
      ]
    },
    {
      "cell_type": "code",
      "metadata": {
        "id": "kLOl5HBUnztn",
        "colab": {
          "base_uri": "https://localhost:8080/",
          "height": 283
        },
        "outputId": "dd3e7529-31b4-450f-b843-8dc9ee564c30"
      },
      "source": [
        "import matplotlib.pyplot as plt\n",
        "plt.plot(history.history['accuracy'])\n"
      ],
      "execution_count": null,
      "outputs": [
        {
          "output_type": "execute_result",
          "data": {
            "text/plain": [
              "[<matplotlib.lines.Line2D at 0x7f19bedd0310>]"
            ]
          },
          "metadata": {},
          "execution_count": 20
        },
        {
          "output_type": "display_data",
          "data": {
            "text/plain": [
              "<Figure size 432x288 with 1 Axes>"
            ],
            "image/png": "[encoded data removed]"
          },
          "metadata": {
            "needs_background": "light"
          }
        }
      ]
    },
    {
      "cell_type": "markdown",
      "metadata": {
        "id": "xlGrz6fcpFWJ"
      },
      "source": [
        "### validate the model\n"
      ]
    },
    {
      "cell_type": "code",
      "metadata": {
        "id": "qnRHdkD3hmNL",
        "colab": {
          "base_uri": "https://localhost:8080/"
        },
        "outputId": "aa6fd273-a42a-4681-aa51-005bfc6509bd"
      },
      "source": [
        "model.save('final_model.h5')\n",
        "results = model.evaluate(testX, testY)\n",
        "\n",
        "print('test loss, test acc:', results)\n",
        "\n",
        "predictY=model.predict(testX)\n"
      ],
      "execution_count": null,
      "outputs": [
        {
          "output_type": "stream",
          "name": "stdout",
          "text": [
            "313/313 [==============================] - 1s 4ms/step - loss: 0.2824 - accuracy: 0.9179\n",
            "test loss, test acc: [0.2824491858482361, 0.917900025844574]\n"
          ]
        }
      ]
    },
    {
      "cell_type": "code",
      "metadata": {
        "colab": {
          "base_uri": "https://localhost:8080/"
        },
        "id": "uw_KboDNvd25",
        "outputId": "414137b9-cd13-418f-c616-57096c3ff27a"
      },
      "source": [
        "import numpy as np\n",
        "from sklearn.metrics import  classification_report\n",
        "\n",
        "print(classification_report(np.argmax(testY,axis=1),np.argmax(predictY,axis=1)))"
      ],
      "execution_count": null,
      "outputs": [
        {
          "output_type": "stream",
          "name": "stdout",
          "text": [
            "              precision    recall  f1-score   support\n",
            "\n",
            "           0       0.68      0.93      0.78       980\n",
            "           1       0.81      0.95      0.88      1135\n",
            "           2       0.69      0.55      0.61      1032\n",
            "           3       0.59      0.80      0.68      1010\n",
            "           4       0.68      0.38      0.48       982\n",
            "           5       0.59      0.34      0.43       892\n",
            "           6       0.57      0.71      0.63       958\n",
            "           7       0.71      0.75      0.73      1028\n",
            "           8       0.38      0.44      0.41       974\n",
            "           9       0.42      0.27      0.33      1009\n",
            "\n",
            "    accuracy                           0.62     10000\n",
            "   macro avg       0.61      0.61      0.60     10000\n",
            "weighted avg       0.61      0.62      0.60     10000\n",
            "\n"
          ]
        }
      ]
    },
    {
      "cell_type": "markdown",
      "metadata": {
        "id": "-Tr0Rer-svk2"
      },
      "source": [
        "### Predict a value"
      ]
    },
    {
      "cell_type": "code",
      "metadata": {
        "id": "L6SQr8P7qISE",
        "colab": {
          "base_uri": "https://localhost:8080/",
          "height": 368
        },
        "outputId": "a0b2364b-fc5d-4941-8f0c-e91ba974a184"
      },
      "source": [
        "import numpy as np\n",
        "\n",
        "np.set_printoptions(1)\n",
        "# select a random sample of the test data\n",
        "num=np.random.randint(testX.shape[0])\n",
        "\n",
        "\n",
        "\n",
        "predictions = model.predict(testX[num].reshape(1,28,28,1))\n",
        "print(predictions)\n",
        "print(\"predicted value\",np.argmax(predictions))\n",
        "\n",
        "# comparing the result\n",
        "print(\"expected value\",np.argmax(testY[num]))\n",
        "\n",
        "plt.imshow(testX[num].reshape(28,28), cmap=plt.get_cmap('gray'))\n",
        "plt.title('image #'+str(num)+\" : \"+str(np.argmax(testY[num])))"
      ],
      "execution_count": null,
      "outputs": [
        {
          "output_type": "stream",
          "name": "stdout",
          "text": [
            "[[2.8e-04 1.4e-05 2.7e-04 9.7e-01 7.7e-06 2.8e-02 4.2e-06 4.0e-04 3.7e-03\n",
            "  3.3e-04]]\n",
            "predicted value 3\n",
            "expected value 3\n"
          ]
        },
        {
          "output_type": "execute_result",
          "data": {
            "text/plain": [
              "Text(0.5, 1.0, 'image #4770 : 3')"
            ]
          },
          "metadata": {},
          "execution_count": 31
        },
        {
          "output_type": "display_data",
          "data": {
            "text/plain": [
              "<Figure size 432x288 with 1 Axes>"
            ],
            "image/png": "[encoded data removed]"
          },
          "metadata": {
            "needs_background": "light"
          }
        }
      ]
    },
    {
      "cell_type": "markdown",
      "metadata": {
        "id": "uisaGcgrnpZD"
      },
      "source": [
        "### load the model and predict"
      ]
    },
    {
      "cell_type": "code",
      "metadata": {
        "id": "Axx13bD_npZN"
      },
      "source": [
        "\n",
        "from tensorflow.keras.models import load_model\n",
        "\n",
        "new_model=load_model('final_model.h5')\n",
        "\n"
      ],
      "execution_count": null,
      "outputs": []
    },
    {
      "cell_type": "code",
      "metadata": {
        "id": "hWs-SpfnAsXp"
      },
      "source": [
        ""
      ],
      "execution_count": null,
      "outputs": []
    },
    {
      "cell_type": "markdown",
      "metadata": {
        "id": "1k76pvUXnpZc"
      },
      "source": [
        "### Testing"
      ]
    },
    {
      "cell_type": "markdown",
      "metadata": {
        "id": "UUVGCWfaW7Dr"
      },
      "source": [
        "We are going to augment the data translating the image form center,rotating or applying a zoom.\n",
        "\n",
        "This can be made by hand with [opencv](https://opencv-python-tutroals.readthedocs.io/en/latest/py_tutorials/py_tutorials.html)\n",
        "\n"
      ]
    },
    {
      "cell_type": "code",
      "metadata": {
        "id": "BBjGcUuhxzJC"
      },
      "source": [
        "import numpy as np\n",
        "import cv2\n",
        "import random\n",
        "def play_with_image(img):\n",
        "            op=['trans -','trans +','rot -','rot +','zoom +']\n",
        "            rows,cols,c = img.shape\n",
        "            l=random.randint(0, 4)\n",
        "            if(l==0): # translate between -5 -1\n",
        "                x=random.randint(-5, -1)\n",
        "                y=random.randint(-5, -1)\n",
        "                M = np.float32([[1,0,x],[0,1,y]])\n",
        "                new_img = cv2.warpAffine(img,M,(cols,rows))\n",
        "            elif(l==1): # translate between 1 5\n",
        "                x=random.randint(1, 5)\n",
        "                y=random.randint(1, 5)\n",
        "                M = np.float32([[1,0,x],[0,1,y]])\n",
        "                new_img = cv2.warpAffine(img,M,(cols,rows))\n",
        "            elif(l==2): # rotate between -20 -3\n",
        "                r=random.randint(-20, -3)\n",
        "                M = cv2.getRotationMatrix2D((cols/2,rows/2),r,1)\n",
        "                new_img  = cv2.warpAffine(img,M,(cols,rows))\n",
        "            elif(l==3): # rotate between 3 20\n",
        "                r=random.randint(3, 20)\n",
        "                #print(r)\n",
        "                M = cv2.getRotationMatrix2D((cols/2,rows/2),r,1)\n",
        "                new_img  = cv2.warpAffine(img,M,(cols,rows))\n",
        "            elif(l==4): # zoom the image\n",
        "                x=random.randint(1, 6)*2\n",
        "                y=random.randint(1, 6)*2\n",
        "                new_img = cv2.resize(img,(rows+x, cols+y), interpolation = cv2.INTER_CUBIC)\n",
        "                #new_img = new_img[int(x/2.):-int(x/2.),int(y/2.):-int(y/2.)]\n",
        "                #new_img.reshape(28,28)\n",
        "                #print(new_img.shape)\n",
        "                new_img = new_img[:28,-28:]\n",
        "            return (new_img,op[l])"
      ],
      "execution_count": null,
      "outputs": []
    },
    {
      "cell_type": "code",
      "metadata": {
        "id": "wnNVa5lOopu-",
        "colab": {
          "base_uri": "https://localhost:8080/",
          "height": 707
        },
        "outputId": "f9df28a0-2c21-4b77-f6ec-dd8ff14a3317"
      },
      "source": [
        "import matplotlib.pyplot as plt\n",
        "import matplotlib.image as mpimg\n",
        "import numpy as np\n",
        "import cv2\n",
        "f = plt.figure(figsize=(15,15))\n",
        "wish=np.random.randint(testX.shape[0])\n",
        "\n",
        "\n",
        "#add noise\n",
        "\n",
        "stacked_img=testX[wish].reshape(28,28,1)\n",
        "#stacked_img = np.stack((trainX[wish].reshape(28,28),)*3,2).reshape((28,28,3))\n",
        "predictions = new_model.predict(stacked_img.reshape(1,28,28,1))\n",
        "ax = f.add_subplot(3,4,1)\n",
        "ax.imshow(stacked_img.reshape(28,28), cmap=plt.get_cmap('gray'))\n",
        "ax.axis(\"off\")\n",
        "ax.set_title('#'+str(wish)+\" : \"+str(np.argmax(testY[wish]))+\" ? \"+str(np.argmax(predictions)))\n",
        "\n",
        "for i in range(2,13):\n",
        "  ax = f.add_subplot(3,4,i)\n",
        "  new_img,op=play_with_image(stacked_img)\n",
        "  predictions = new_model.predict(new_img.reshape(1,28,28,1))\n",
        "  ax.imshow(new_img.reshape(28,28), cmap=plt.get_cmap('gray'))\n",
        "  ax.axis(\"off\")\n",
        "  ax.set_title('#'+str(wish)+\" : \"+str(np.argmax(testY[wish]))+\" ? \"+str(np.argmax(predictions))+'\\n'+op)\n"
      ],
      "execution_count": null,
      "outputs": [
        {
          "output_type": "display_data",
          "data": {
            "text/plain": [
              "<Figure size 1080x1080 with 12 Axes>"
            ],
            "image/png": "[encoded data removed]"
          },
          "metadata": {
            "needs_background": "light"
          }
        }
      ]
    },
    {
      "cell_type": "markdown",
      "metadata": {
        "id": "4ZsHmlVMWtsS"
      },
      "source": [
        "Keras has an automatic class to make augmentation\n",
        "[Preprocessing](https://keras.io/preprocessing/image/)"
      ]
    },
    {
      "cell_type": "code",
      "metadata": {
        "id": "MmSdX4vynpZl"
      },
      "source": [
        "from tensorflow.keras.preprocessing.image import ImageDataGenerator\n",
        "\n",
        "\n",
        "data_aug = ImageDataGenerator(\n",
        "rotation_range=10,\n",
        "zoom_range=0.15,\n",
        "width_shift_range=0.1,\n",
        "height_shift_range=0.1,\n",
        "shear_range=0.15,\n",
        "horizontal_flip=False,\n",
        "vertical_flip=False)\n",
        "\n",
        "\n",
        "# compute quantities required for featurewise normalization\n",
        "# (std, mean, and principal components if ZCA whitening is applied)\n",
        "data_aug.fit(testX)"
      ],
      "execution_count": null,
      "outputs": []
    },
    {
      "cell_type": "code",
      "metadata": {
        "id": "bnDqICXYUeIc",
        "colab": {
          "base_uri": "https://localhost:8080/",
          "height": 707
        },
        "outputId": "4701bea3-5fe6-499a-cf9d-f986299c709e"
      },
      "source": [
        "import matplotlib.pyplot as plt\n",
        "import matplotlib.image as mpimg\n",
        "import numpy as np\n",
        "\n",
        "\n",
        "\n",
        "f = plt.figure(figsize=(15,15))\n",
        "wish=np.random.randint(testX.shape[0])\n",
        "\n",
        "\n",
        "\n",
        "stacked_img=testX[wish].reshape(28,28,1)\n",
        "#stacked_img = np.stack((trainX[wish].reshape(28,28),)*3,2).reshape((28,28,3))\n",
        "predictions = new_model(stacked_img.reshape(1,28,28,1))\n",
        "ax = f.add_subplot(3,4,1)\n",
        "ax.imshow(stacked_img.reshape(28,28), cmap=plt.get_cmap('gray'))\n",
        "ax.axis(\"off\")\n",
        "ax.set_title('#'+str(wish)+\" : \"+str(np.argmax(testY[wish]))+\" ? \"+str(np.argmax(predictions)))\n",
        "\n",
        "for i in range(2,13):\n",
        "  ax = f.add_subplot(3,4,i)\n",
        "  op=\"auto\"\n",
        "  new_img=data_aug.random_transform(stacked_img)\n",
        "  predictions = new_model(new_img.reshape(1,28,28,1))\n",
        "  ax.imshow(new_img.reshape(28,28), cmap=plt.get_cmap('gray'))\n",
        "  ax.axis(\"off\")\n",
        "  ax.set_title('#'+str(wish)+\" : \"+str(np.argmax(testY[wish]))+\" ? \"+str(np.argmax(predictions))+'\\n'+op)\n"
      ],
      "execution_count": null,
      "outputs": [
        {
          "output_type": "display_data",
          "data": {
            "text/plain": [
              "<Figure size 1080x1080 with 12 Axes>"
            ],
            "image/png": "[encoded data removed]"
          },
          "metadata": {
            "needs_background": "light"
          }
        }
      ]
    },
    {
      "cell_type": "markdown",
      "metadata": {
        "id": "CXMY5k-7Atm2"
      },
      "source": [
        "## Deployment\n",
        "\n",
        "[GRADIO](https://www.gradio.app/) is a fastAPI, which has legal input and output interfaces for ML models, hello world example: "
      ]
    },
    {
      "cell_type": "code",
      "metadata": {
        "colab": {
          "base_uri": "https://localhost:8080/"
        },
        "id": "f1cedM9VA1ZO",
        "outputId": "3896f008-15da-404f-b71a-da09031875e5"
      },
      "source": [
        "!pip install gradio"
      ],
      "execution_count": null,
      "outputs": [
        {
          "output_type": "stream",
          "name": "stdout",
          "text": [
            "Collecting gradio\n",
            "  Downloading gradio-2.9.1-py3-none-any.whl (1.7 MB)\n",
            "\u001b[?25l\r\u001b[K     |▏                               | 10 kB 23.2 MB/s eta 0:00:01\r\u001b[K     |▍                               | 20 kB 28.5 MB/s eta 0:00:01\r\u001b[K     |▋                               | 30 kB 23.5 MB/s eta 0:00:01\r\u001b[K     |▊                               | 40 kB 12.1 MB/s eta 0:00:01\r\u001b[K     |█                               | 51 kB 10.4 MB/s eta 0:00:01\r\u001b[K     |█▏                              | 61 kB 11.9 MB/s eta 0:00:01\r\u001b[K     |█▎                              | 71 kB 12.7 MB/s eta 0:00:01\r\u001b[K     |█▌                              | 81 kB 12.5 MB/s eta 0:00:01\r\u001b[K     |█▊                              | 92 kB 13.7 MB/s eta 0:00:01\r\u001b[K     |█▉                              | 102 kB 12.3 MB/s eta 0:00:01\r\u001b[K     |██                              | 112 kB 12.3 MB/s eta 0:00:01\r\u001b[K     |██▎                             | 122 kB 12.3 MB/s eta 0:00:01\r\u001b[K     |██▍                             | 133 kB 12.3 MB/s eta 0:00:01\r\u001b[K     |██▋                             | 143 kB 12.3 MB/s eta 0:00:01\r\u001b[K     |██▉                             | 153 kB 12.3 MB/s eta 0:00:01\r\u001b[K     |███                             | 163 kB 12.3 MB/s eta 0:00:01\r\u001b[K     |███▏                            | 174 kB 12.3 MB/s eta 0:00:01\r\u001b[K     |███▍                            | 184 kB 12.3 MB/s eta 0:00:01\r\u001b[K     |███▋                            | 194 kB 12.3 MB/s eta 0:00:01\r\u001b[K     |███▊                            | 204 kB 12.3 MB/s eta 0:00:01\r\u001b[K     |████                            | 215 kB 12.3 MB/s eta 0:00:01\r\u001b[K     |████▏                           | 225 kB 12.3 MB/s eta 0:00:01\r\u001b[K     |████▎                           | 235 kB 12.3 MB/s eta 0:00:01\r\u001b[K     |████▌                           | 245 kB 12.3 MB/s eta 0:00:01\r\u001b[K     |████▊                           | 256 kB 12.3 MB/s eta 0:00:01\r\u001b[K     |████▉                           | 266 kB 12.3 MB/s eta 0:00:01\r\u001b[K     |█████                           | 276 kB 12.3 MB/s eta 0:00:01\r\u001b[K     |█████▎                          | 286 kB 12.3 MB/s eta 0:00:01\r\u001b[K     |█████▍                          | 296 kB 12.3 MB/s eta 0:00:01\r\u001b[K     |█████▋                          | 307 kB 12.3 MB/s eta 0:00:01\r\u001b[K     |█████▉                          | 317 kB 12.3 MB/s eta 0:00:01\r\u001b[K     |██████                          | 327 kB 12.3 MB/s eta 0:00:01\r\u001b[K     |██████▏                         | 337 kB 12.3 MB/s eta 0:00:01\r\u001b[K     |██████▍                         | 348 kB 12.3 MB/s eta 0:00:01\r\u001b[K     |██████▌                         | 358 kB 12.3 MB/s eta 0:00:01\r\u001b[K     |██████▊                         | 368 kB 12.3 MB/s eta 0:00:01\r\u001b[K     |███████                         | 378 kB 12.3 MB/s eta 0:00:01\r\u001b[K     |███████▏                        | 389 kB 12.3 MB/s eta 0:00:01\r\u001b[K     |███████▎                        | 399 kB 12.3 MB/s eta 0:00:01\r\u001b[K     |███████▌                        | 409 kB 12.3 MB/s eta 0:00:01\r\u001b[K     |███████▊                        | 419 kB 12.3 MB/s eta 0:00:01\r\u001b[K     |███████▉                        | 430 kB 12.3 MB/s eta 0:00:01\r\u001b[K     |████████                        | 440 kB 12.3 MB/s eta 0:00:01\r\u001b[K     |████████▎                       | 450 kB 12.3 MB/s eta 0:00:01\r\u001b[K     |████████▍                       | 460 kB 12.3 MB/s eta 0:00:01\r\u001b[K     |████████▋                       | 471 kB 12.3 MB/s eta 0:00:01\r\u001b[K     |████████▉                       | 481 kB 12.3 MB/s eta 0:00:01\r\u001b[K     |█████████                       | 491 kB 12.3 MB/s eta 0:00:01\r\u001b[K     |█████████▏                      | 501 kB 12.3 MB/s eta 0:00:01\r\u001b[K     |█████████▍                      | 512 kB 12.3 MB/s eta 0:00:01\r\u001b[K     |█████████▌                      | 522 kB 12.3 MB/s eta 0:00:01\r\u001b[K     |█████████▊                      | 532 kB 12.3 MB/s eta 0:00:01\r\u001b[K     |██████████                      | 542 kB 12.3 MB/s eta 0:00:01\r\u001b[K     |██████████▏                     | 552 kB 12.3 MB/s eta 0:00:01\r\u001b[K     |██████████▎                     | 563 kB 12.3 MB/s eta 0:00:01\r\u001b[K     |██████████▌                     | 573 kB 12.3 MB/s eta 0:00:01\r\u001b[K     |██████████▊                     | 583 kB 12.3 MB/s eta 0:00:01\r\u001b[K     |██████████▉                     | 593 kB 12.3 MB/s eta 0:00:01\r\u001b[K     |███████████                     | 604 kB 12.3 MB/s eta 0:00:01\r\u001b[K     |███████████▎                    | 614 kB 12.3 MB/s eta 0:00:01\r\u001b[K     |███████████▍                    | 624 kB 12.3 MB/s eta 0:00:01\r\u001b[K     |███████████▋                    | 634 kB 12.3 MB/s eta 0:00:01\r\u001b[K     |███████████▉                    | 645 kB 12.3 MB/s eta 0:00:01\r\u001b[K     |████████████                    | 655 kB 12.3 MB/s eta 0:00:01\r\u001b[K     |████████████▏                   | 665 kB 12.3 MB/s eta 0:00:01\r\u001b[K     |████████████▍                   | 675 kB 12.3 MB/s eta 0:00:01\r\u001b[K     |████████████▌                   | 686 kB 12.3 MB/s eta 0:00:01\r\u001b[K     |████████████▊                   | 696 kB 12.3 MB/s eta 0:00:01\r\u001b[K     |█████████████                   | 706 kB 12.3 MB/s eta 0:00:01\r\u001b[K     |█████████████                   | 716 kB 12.3 MB/s eta 0:00:01\r\u001b[K     |█████████████▎                  | 727 kB 12.3 MB/s eta 0:00:01\r\u001b[K     |█████████████▌                  | 737 kB 12.3 MB/s eta 0:00:01\r\u001b[K     |█████████████▊                  | 747 kB 12.3 MB/s eta 0:00:01\r\u001b[K     |█████████████▉                  | 757 kB 12.3 MB/s eta 0:00:01\r\u001b[K     |██████████████                  | 768 kB 12.3 MB/s eta 0:00:01\r\u001b[K     |██████████████▎                 | 778 kB 12.3 MB/s eta 0:00:01\r\u001b[K     |██████████████▍                 | 788 kB 12.3 MB/s eta 0:00:01\r\u001b[K     |██████████████▋                 | 798 kB 12.3 MB/s eta 0:00:01\r\u001b[K     |██████████████▉                 | 808 kB 12.3 MB/s eta 0:00:01\r\u001b[K     |███████████████                 | 819 kB 12.3 MB/s eta 0:00:01\r\u001b[K     |███████████████▏                | 829 kB 12.3 MB/s eta 0:00:01\r\u001b[K     |███████████████▍                | 839 kB 12.3 MB/s eta 0:00:01\r\u001b[K     |███████████████▌                | 849 kB 12.3 MB/s eta 0:00:01\r\u001b[K     |███████████████▊                | 860 kB 12.3 MB/s eta 0:00:01\r\u001b[K     |████████████████                | 870 kB 12.3 MB/s eta 0:00:01\r\u001b[K     |████████████████                | 880 kB 12.3 MB/s eta 0:00:01\r\u001b[K     |████████████████▎               | 890 kB 12.3 MB/s eta 0:00:01\r\u001b[K     |████████████████▌               | 901 kB 12.3 MB/s eta 0:00:01\r\u001b[K     |████████████████▋               | 911 kB 12.3 MB/s eta 0:00:01\r\u001b[K     |████████████████▉               | 921 kB 12.3 MB/s eta 0:00:01\r\u001b[K     |█████████████████               | 931 kB 12.3 MB/s eta 0:00:01\r\u001b[K     |█████████████████▎              | 942 kB 12.3 MB/s eta 0:00:01\r\u001b[K     |█████████████████▍              | 952 kB 12.3 MB/s eta 0:00:01\r\u001b[K     |█████████████████▋              | 962 kB 12.3 MB/s eta 0:00:01\r\u001b[K     |█████████████████▉              | 972 kB 12.3 MB/s eta 0:00:01\r\u001b[K     |██████████████████              | 983 kB 12.3 MB/s eta 0:00:01\r\u001b[K     |██████████████████▏             | 993 kB 12.3 MB/s eta 0:00:01\r\u001b[K     |██████████████████▍             | 1.0 MB 12.3 MB/s eta 0:00:01\r\u001b[K     |██████████████████▌             | 1.0 MB 12.3 MB/s eta 0:00:01\r\u001b[K     |██████████████████▊             | 1.0 MB 12.3 MB/s eta 0:00:01\r\u001b[K     |███████████████████             | 1.0 MB 12.3 MB/s eta 0:00:01\r\u001b[K     |███████████████████             | 1.0 MB 12.3 MB/s eta 0:00:01\r\u001b[K     |███████████████████▎            | 1.1 MB 12.3 MB/s eta 0:00:01\r\u001b[K     |███████████████████▌            | 1.1 MB 12.3 MB/s eta 0:00:01\r\u001b[K     |███████████████████▋            | 1.1 MB 12.3 MB/s eta 0:00:01\r\u001b[K     |███████████████████▉            | 1.1 MB 12.3 MB/s eta 0:00:01\r\u001b[K     |████████████████████            | 1.1 MB 12.3 MB/s eta 0:00:01\r\u001b[K     |████████████████████▎           | 1.1 MB 12.3 MB/s eta 0:00:01\r\u001b[K     |████████████████████▍           | 1.1 MB 12.3 MB/s eta 0:00:01\r\u001b[K     |████████████████████▋           | 1.1 MB 12.3 MB/s eta 0:00:01\r\u001b[K     |████████████████████▉           | 1.1 MB 12.3 MB/s eta 0:00:01\r\u001b[K     |█████████████████████           | 1.1 MB 12.3 MB/s eta 0:00:01\r\u001b[K     |█████████████████████▏          | 1.2 MB 12.3 MB/s eta 0:00:01\r\u001b[K     |█████████████████████▍          | 1.2 MB 12.3 MB/s eta 0:00:01\r\u001b[K     |█████████████████████▌          | 1.2 MB 12.3 MB/s eta 0:00:01\r\u001b[K     |█████████████████████▊          | 1.2 MB 12.3 MB/s eta 0:00:01\r\u001b[K     |██████████████████████          | 1.2 MB 12.3 MB/s eta 0:00:01\r\u001b[K     |██████████████████████          | 1.2 MB 12.3 MB/s eta 0:00:01\r\u001b[K     |██████████████████████▎         | 1.2 MB 12.3 MB/s eta 0:00:01\r\u001b[K     |██████████████████████▌         | 1.2 MB 12.3 MB/s eta 0:00:01\r\u001b[K     |██████████████████████▋         | 1.2 MB 12.3 MB/s eta 0:00:01\r\u001b[K     |██████████████████████▉         | 1.2 MB 12.3 MB/s eta 0:00:01\r\u001b[K     |███████████████████████         | 1.3 MB 12.3 MB/s eta 0:00:01\r\u001b[K     |███████████████████████▏        | 1.3 MB 12.3 MB/s eta 0:00:01\r\u001b[K     |███████████████████████▍        | 1.3 MB 12.3 MB/s eta 0:00:01\r\u001b[K     |███████████████████████▋        | 1.3 MB 12.3 MB/s eta 0:00:01\r\u001b[K     |███████████████████████▉        | 1.3 MB 12.3 MB/s eta 0:00:01\r\u001b[K     |████████████████████████        | 1.3 MB 12.3 MB/s eta 0:00:01\r\u001b[K     |████████████████████████▏       | 1.3 MB 12.3 MB/s eta 0:00:01\r\u001b[K     |████████████████████████▍       | 1.3 MB 12.3 MB/s eta 0:00:01\r\u001b[K     |████████████████████████▌       | 1.3 MB 12.3 MB/s eta 0:00:01\r\u001b[K     |████████████████████████▊       | 1.4 MB 12.3 MB/s eta 0:00:01\r\u001b[K     |█████████████████████████       | 1.4 MB 12.3 MB/s eta 0:00:01\r\u001b[K     |█████████████████████████       | 1.4 MB 12.3 MB/s eta 0:00:01\r\u001b[K     |█████████████████████████▎      | 1.4 MB 12.3 MB/s eta 0:00:01\r\u001b[K     |█████████████████████████▌      | 1.4 MB 12.3 MB/s eta 0:00:01\r\u001b[K     |█████████████████████████▋      | 1.4 MB 12.3 MB/s eta 0:00:01\r\u001b[K     |█████████████████████████▉      | 1.4 MB 12.3 MB/s eta 0:00:01\r\u001b[K     |██████████████████████████      | 1.4 MB 12.3 MB/s eta 0:00:01\r\u001b[K     |██████████████████████████▏     | 1.4 MB 12.3 MB/s eta 0:00:01\r\u001b[K     |██████████████████████████▍     | 1.4 MB 12.3 MB/s eta 0:00:01\r\u001b[K     |██████████████████████████▋     | 1.5 MB 12.3 MB/s eta 0:00:01\r\u001b[K     |██████████████████████████▊     | 1.5 MB 12.3 MB/s eta 0:00:01\r\u001b[K     |███████████████████████████     | 1.5 MB 12.3 MB/s eta 0:00:01\r\u001b[K     |███████████████████████████▏    | 1.5 MB 12.3 MB/s eta 0:00:01\r\u001b[K     |███████████████████████████▍    | 1.5 MB 12.3 MB/s eta 0:00:01\r\u001b[K     |███████████████████████████▌    | 1.5 MB 12.3 MB/s eta 0:00:01\r\u001b[K     |███████████████████████████▊    | 1.5 MB 12.3 MB/s eta 0:00:01\r\u001b[K     |████████████████████████████    | 1.5 MB 12.3 MB/s eta 0:00:01\r\u001b[K     |████████████████████████████    | 1.5 MB 12.3 MB/s eta 0:00:01\r\u001b[K     |████████████████████████████▎   | 1.5 MB 12.3 MB/s eta 0:00:01\r\u001b[K     |████████████████████████████▌   | 1.6 MB 12.3 MB/s eta 0:00:01\r\u001b[K     |████████████████████████████▋   | 1.6 MB 12.3 MB/s eta 0:00:01\r\u001b[K     |████████████████████████████▉   | 1.6 MB 12.3 MB/s eta 0:00:01\r\u001b[K     |█████████████████████████████   | 1.6 MB 12.3 MB/s eta 0:00:01\r\u001b[K     |█████████████████████████████▏  | 1.6 MB 12.3 MB/s eta 0:00:01\r\u001b[K     |█████████████████████████████▍  | 1.6 MB 12.3 MB/s eta 0:00:01\r\u001b[K     |█████████████████████████████▋  | 1.6 MB 12.3 MB/s eta 0:00:01\r\u001b[K     |█████████████████████████████▊  | 1.6 MB 12.3 MB/s eta 0:00:01\r\u001b[K     |██████████████████████████████  | 1.6 MB 12.3 MB/s eta 0:00:01\r\u001b[K     |██████████████████████████████▏ | 1.6 MB 12.3 MB/s eta 0:00:01\r\u001b[K     |██████████████████████████████▍ | 1.7 MB 12.3 MB/s eta 0:00:01\r\u001b[K     |██████████████████████████████▌ | 1.7 MB 12.3 MB/s eta 0:00:01\r\u001b[K     |██████████████████████████████▊ | 1.7 MB 12.3 MB/s eta 0:00:01\r\u001b[K     |███████████████████████████████ | 1.7 MB 12.3 MB/s eta 0:00:01\r\u001b[K     |███████████████████████████████ | 1.7 MB 12.3 MB/s eta 0:00:01\r\u001b[K     |███████████████████████████████▎| 1.7 MB 12.3 MB/s eta 0:00:01\r\u001b[K     |███████████████████████████████▌| 1.7 MB 12.3 MB/s eta 0:00:01\r\u001b[K     |███████████████████████████████▋| 1.7 MB 12.3 MB/s eta 0:00:01\r\u001b[K     |███████████████████████████████▉| 1.7 MB 12.3 MB/s eta 0:00:01\r\u001b[K     |████████████████████████████████| 1.7 MB 12.3 MB/s \n",
            "\u001b[?25hCollecting pydub\n",
            "  Downloading pydub-0.25.1-py2.py3-none-any.whl (32 kB)\n",
            "Collecting fastapi\n",
            "  Downloading fastapi-0.75.1-py3-none-any.whl (54 kB)\n",
            "\u001b[K     |████████████████████████████████| 54 kB 2.5 MB/s \n",
            "\u001b[?25hRequirement already satisfied: numpy in /usr/local/lib/python3.7/dist-packages (from gradio) (1.21.5)\n",
            "Requirement already satisfied: pillow in /usr/local/lib/python3.7/dist-packages (from gradio) (7.1.2)\n",
            "Collecting analytics-python\n",
            "  Downloading analytics_python-1.4.0-py2.py3-none-any.whl (15 kB)\n",
            "Requirement already satisfied: pandas in /usr/local/lib/python3.7/dist-packages (from gradio) (1.3.5)\n",
            "Requirement already satisfied: matplotlib in /usr/local/lib/python3.7/dist-packages (from gradio) (3.2.2)\n",
            "Collecting orjson\n",
            "  Downloading orjson-3.6.7-cp37-cp37m-manylinux_2_24_x86_64.whl (255 kB)\n",
            "\u001b[K     |████████████████████████████████| 255 kB 55.9 MB/s \n",
            "\u001b[?25hCollecting paramiko\n",
            "  Downloading paramiko-2.10.3-py2.py3-none-any.whl (211 kB)\n",
            "\u001b[K     |████████████████████████████████| 211 kB 52.7 MB/s \n",
            "\u001b[?25hCollecting uvicorn\n",
            "  Downloading uvicorn-0.17.6-py3-none-any.whl (53 kB)\n",
            "\u001b[K     |████████████████████████████████| 53 kB 2.0 MB/s \n",
            "\u001b[?25hCollecting python-multipart\n",
            "  Downloading python-multipart-0.0.5.tar.gz (32 kB)\n",
            "Collecting aiohttp\n",
            "  Downloading aiohttp-3.8.1-cp37-cp37m-manylinux_2_5_x86_64.manylinux1_x86_64.manylinux_2_12_x86_64.manylinux2010_x86_64.whl (1.1 MB)\n",
            "\u001b[K     |████████████████████████████████| 1.1 MB 44.3 MB/s \n",
            "\u001b[?25hCollecting pycryptodome\n",
            "  Downloading pycryptodome-3.14.1-cp35-abi3-manylinux2010_x86_64.whl (2.0 MB)\n",
            "\u001b[K     |████████████████████████████████| 2.0 MB 43.1 MB/s \n",
            "\u001b[?25hRequirement already satisfied: requests in /usr/local/lib/python3.7/dist-packages (from gradio) (2.23.0)\n",
            "Collecting ffmpy\n",
            "  Downloading ffmpy-0.3.0.tar.gz (4.8 kB)\n",
            "Collecting markdown-it-py[linkify,plugins]\n",
            "  Downloading markdown_it_py-2.0.1-py3-none-any.whl (84 kB)\n",
            "\u001b[K     |████████████████████████████████| 84 kB 2.0 MB/s \n",
            "\u001b[?25hCollecting asynctest==0.13.0\n",
            "  Downloading asynctest-0.13.0-py3-none-any.whl (26 kB)\n",
            "Collecting multidict<7.0,>=4.5\n",
            "  Downloading multidict-6.0.2-cp37-cp37m-manylinux_2_17_x86_64.manylinux2014_x86_64.whl (94 kB)\n",
            "\u001b[K     |████████████████████████████████| 94 kB 3.3 MB/s \n",
            "\u001b[?25hRequirement already satisfied: charset-normalizer<3.0,>=2.0 in /usr/local/lib/python3.7/dist-packages (from aiohttp->gradio) (2.0.12)\n",
            "Requirement already satisfied: typing-extensions>=3.7.4 in /usr/local/lib/python3.7/dist-packages (from aiohttp->gradio) (3.10.0.2)\n",
            "Requirement already satisfied: attrs>=17.3.0 in /usr/local/lib/python3.7/dist-packages (from aiohttp->gradio) (21.4.0)\n",
            "Collecting async-timeout<5.0,>=4.0.0a3\n",
            "  Downloading async_timeout-4.0.2-py3-none-any.whl (5.8 kB)\n",
            "Collecting yarl<2.0,>=1.0\n",
            "  Downloading yarl-1.7.2-cp37-cp37m-manylinux_2_5_x86_64.manylinux1_x86_64.manylinux_2_12_x86_64.manylinux2010_x86_64.whl (271 kB)\n",
            "\u001b[K     |████████████████████████████████| 271 kB 53.5 MB/s \n",
            "\u001b[?25hCollecting frozenlist>=1.1.1\n",
            "  Downloading frozenlist-1.3.0-cp37-cp37m-manylinux_2_5_x86_64.manylinux1_x86_64.manylinux_2_17_x86_64.manylinux2014_x86_64.whl (144 kB)\n",
            "\u001b[K     |████████████████████████████████| 144 kB 55.3 MB/s \n",
            "\u001b[?25hCollecting aiosignal>=1.1.2\n",
            "  Downloading aiosignal-1.2.0-py3-none-any.whl (8.2 kB)\n",
            "Requirement already satisfied: idna>=2.0 in /usr/local/lib/python3.7/dist-packages (from yarl<2.0,>=1.0->aiohttp->gradio) (2.10)\n",
            "Collecting backoff==1.10.0\n",
            "  Downloading backoff-1.10.0-py2.py3-none-any.whl (31 kB)\n",
            "Requirement already satisfied: six>=1.5 in /usr/local/lib/python3.7/dist-packages (from analytics-python->gradio) (1.15.0)\n",
            "Collecting monotonic>=1.5\n",
            "  Downloading monotonic-1.6-py2.py3-none-any.whl (8.2 kB)\n",
            "Requirement already satisfied: python-dateutil>2.1 in /usr/local/lib/python3.7/dist-packages (from analytics-python->gradio) (2.8.2)\n",
            "Requirement already satisfied: urllib3!=1.25.0,!=1.25.1,<1.26,>=1.21.1 in /usr/local/lib/python3.7/dist-packages (from requests->gradio) (1.24.3)\n",
            "Requirement already satisfied: certifi>=2017.4.17 in /usr/local/lib/python3.7/dist-packages (from requests->gradio) (2021.10.8)\n",
            "Requirement already satisfied: chardet<4,>=3.0.2 in /usr/local/lib/python3.7/dist-packages (from requests->gradio) (3.0.4)\n",
            "Collecting starlette==0.17.1\n",
            "  Downloading starlette-0.17.1-py3-none-any.whl (58 kB)\n",
            "\u001b[K     |████████████████████████████████| 58 kB 5.6 MB/s \n",
            "\u001b[?25hCollecting pydantic!=1.7,!=1.7.1,!=1.7.2,!=1.7.3,!=1.8,!=1.8.1,<2.0.0,>=1.6.2\n",
            "  Downloading pydantic-1.9.0-cp37-cp37m-manylinux_2_17_x86_64.manylinux2014_x86_64.whl (10.9 MB)\n",
            "\u001b[K     |████████████████████████████████| 10.9 MB 45.5 MB/s \n",
            "\u001b[?25hCollecting anyio<4,>=3.0.0\n",
            "  Downloading anyio-3.5.0-py3-none-any.whl (79 kB)\n",
            "\u001b[K     |████████████████████████████████| 79 kB 7.5 MB/s \n",
            "\u001b[?25hCollecting sniffio>=1.1\n",
            "  Downloading sniffio-1.2.0-py3-none-any.whl (10 kB)\n",
            "Collecting mdurl~=0.1\n",
            "  Downloading mdurl-0.1.0-py3-none-any.whl (11 kB)\n",
            "Collecting linkify-it-py~=1.0\n",
            "  Downloading linkify_it_py-1.0.3-py3-none-any.whl (19 kB)\n",
            "Collecting mdit-py-plugins\n",
            "  Downloading mdit_py_plugins-0.3.0-py3-none-any.whl (43 kB)\n",
            "\u001b[K     |████████████████████████████████| 43 kB 2.1 MB/s \n",
            "\u001b[?25hCollecting uc-micro-py\n",
            "  Downloading uc_micro_py-1.0.1-py3-none-any.whl (6.2 kB)\n",
            "Requirement already satisfied: pyparsing!=2.0.4,!=2.1.2,!=2.1.6,>=2.0.1 in /usr/local/lib/python3.7/dist-packages (from matplotlib->gradio) (3.0.7)\n",
            "Requirement already satisfied: kiwisolver>=1.0.1 in /usr/local/lib/python3.7/dist-packages (from matplotlib->gradio) (1.4.0)\n",
            "Requirement already satisfied: cycler>=0.10 in /usr/local/lib/python3.7/dist-packages (from matplotlib->gradio) (0.11.0)\n",
            "Requirement already satisfied: pytz>=2017.3 in /usr/local/lib/python3.7/dist-packages (from pandas->gradio) (2018.9)\n",
            "Collecting bcrypt>=3.1.3\n",
            "  Downloading bcrypt-3.2.0-cp36-abi3-manylinux_2_17_x86_64.manylinux2014_x86_64.manylinux_2_24_x86_64.whl (61 kB)\n",
            "\u001b[K     |████████████████████████████████| 61 kB 382 kB/s \n",
            "\u001b[?25hCollecting pynacl>=1.0.1\n",
            "  Downloading PyNaCl-1.5.0-cp36-abi3-manylinux_2_17_x86_64.manylinux2014_x86_64.manylinux_2_24_x86_64.whl (856 kB)\n",
            "\u001b[K     |████████████████████████████████| 856 kB 43.0 MB/s \n",
            "\u001b[?25hCollecting cryptography>=2.5\n",
            "  Downloading cryptography-36.0.2-cp36-abi3-manylinux_2_24_x86_64.whl (3.6 MB)\n",
            "\u001b[K     |████████████████████████████████| 3.6 MB 39.9 MB/s \n",
            "\u001b[?25hRequirement already satisfied: cffi>=1.1 in /usr/local/lib/python3.7/dist-packages (from bcrypt>=3.1.3->paramiko->gradio) (1.15.0)\n",
            "Requirement already satisfied: pycparser in /usr/local/lib/python3.7/dist-packages (from cffi>=1.1->bcrypt>=3.1.3->paramiko->gradio) (2.21)\n",
            "Requirement already satisfied: click>=7.0 in /usr/local/lib/python3.7/dist-packages (from uvicorn->gradio) (7.1.2)\n",
            "Collecting h11>=0.8\n",
            "  Downloading h11-0.13.0-py3-none-any.whl (58 kB)\n",
            "\u001b[K     |████████████████████████████████| 58 kB 6.0 MB/s \n",
            "\u001b[?25hCollecting asgiref>=3.4.0\n",
            "  Downloading asgiref-3.5.0-py3-none-any.whl (22 kB)\n",
            "Building wheels for collected packages: ffmpy, python-multipart\n",
            "  Building wheel for ffmpy (setup.py) ... \u001b[?25l\u001b[?25hdone\n",
            "  Created wheel for ffmpy: filename=ffmpy-0.3.0-py3-none-any.whl size=4712 sha256=5855536b6516acf0ae78dfd1a5fb1c5f26b8653cb3e8adb7e572656268694828\n",
            "  Stored in directory: /root/.cache/pip/wheels/13/e4/6c/e8059816e86796a597c6e6b0d4c880630f51a1fcfa0befd5e6\n",
            "  Building wheel for python-multipart (setup.py) ... \u001b[?25l\u001b[?25hdone\n",
            "  Created wheel for python-multipart: filename=python_multipart-0.0.5-py3-none-any.whl size=31678 sha256=0f19a6846f17495cf89a32d20a25d52c53403be170c10640ef99646c55e87e4f\n",
            "  Stored in directory: /root/.cache/pip/wheels/2c/41/7c/bfd1c180534ffdcc0972f78c5758f89881602175d48a8bcd2c\n",
            "Successfully built ffmpy python-multipart\n",
            "Installing collected packages: sniffio, mdurl, uc-micro-py, multidict, markdown-it-py, frozenlist, anyio, yarl, starlette, pynacl, pydantic, monotonic, mdit-py-plugins, linkify-it-py, h11, cryptography, bcrypt, backoff, asynctest, async-timeout, asgiref, aiosignal, uvicorn, python-multipart, pydub, pycryptodome, paramiko, orjson, ffmpy, fastapi, analytics-python, aiohttp, gradio\n",
            "Successfully installed aiohttp-3.8.1 aiosignal-1.2.0 analytics-python-1.4.0 anyio-3.5.0 asgiref-3.5.0 async-timeout-4.0.2 asynctest-0.13.0 backoff-1.10.0 bcrypt-3.2.0 cryptography-36.0.2 fastapi-0.75.1 ffmpy-0.3.0 frozenlist-1.3.0 gradio-2.9.1 h11-0.13.0 linkify-it-py-1.0.3 markdown-it-py-2.0.1 mdit-py-plugins-0.3.0 mdurl-0.1.0 monotonic-1.6 multidict-6.0.2 orjson-3.6.7 paramiko-2.10.3 pycryptodome-3.14.1 pydantic-1.9.0 pydub-0.25.1 pynacl-1.5.0 python-multipart-0.0.5 sniffio-1.2.0 starlette-0.17.1 uc-micro-py-1.0.1 uvicorn-0.17.6 yarl-1.7.2\n"
          ]
        }
      ]
    },
    {
      "cell_type": "markdown",
      "metadata": {
        "id": "iOg4VSehWUI9"
      },
      "source": [
        "Our exercise"
      ]
    },
    {
      "cell_type": "code",
      "metadata": {
        "colab": {
          "base_uri": "https://localhost:8080/",
          "height": 680
        },
        "id": "IohNk-pUBVCo",
        "outputId": "75296b5c-691f-4a6b-a4e7-7e1099d3714c"
      },
      "source": [
        "import gradio as gr\n",
        "\n",
        "from tensorflow.keras.models import load_model\n",
        "\n",
        "new_model=load_model('final_model.h5')\n",
        "\n",
        "\n",
        "def recognize_digit(img): \n",
        "  # resize image to has the same input of trained model   \n",
        "    new_img = cv2.resize(img/255.0,(28, 28), interpolation = cv2.INTER_CUBIC)\n",
        "    \n",
        "    predictions = new_model(new_img.reshape(1,28,28,1))\n",
        "    #n=np.argmax(predictions) \n",
        "    # ... return dictionary of labels and confidences\n",
        "    predictions=predictions.numpy().tolist()[0]\n",
        "    return {str(i): predictions[i] for i in range(10)}\n",
        "\n",
        "#wish=np.random.randint(testX.shape[0])\n",
        "#stacked_img=testX[wish].reshape(28,28,1)\n",
        "#print(recognize_digit(stacked_img),testY[wish])\n",
        "\n",
        "im = gr.inputs.Image(shape=(28, 28), image_mode='L', invert_colors=True, source=\"canvas\")\n",
        "\n",
        "gr.Interface(fn=recognize_digit, inputs=im, outputs=\"label\").launch(debug=True)"
      ],
      "execution_count": null,
      "outputs": [
        {
          "output_type": "stream",
          "name": "stdout",
          "text": [
            "Colab notebook detected. This cell will run indefinitely so that you can see errors and logs. To turn off, set debug=False in launch().\n",
            "Running on public URL: https://15574.gradio.app\n",
            "\n",
            "This share link expires in 72 hours. For free permanent hosting, check out Spaces (https://huggingface.co/spaces)\n"
          ]
        },
        {
          "output_type": "display_data",
          "data": {
            "text/plain": [
              "<IPython.lib.display.IFrame at 0x7f19353a9cd0>"
            ],
            "text/html": [
              "\n",
              "        <iframe\n",
              "            width=\"900\"\n",
              "            height=\"500\"\n",
              "            src=\"https://15574.gradio.app\"\n",
              "            frameborder=\"0\"\n",
              "            allowfullscreen\n",
              "        ></iframe>\n",
              "        "
            ]
          },
          "metadata": {}
        },
        {
          "output_type": "stream",
          "name": "stdout",
          "text": [
            "Keyboard interruption in main thread... closing server.\n"
          ]
        },
        {
          "output_type": "execute_result",
          "data": {
            "text/plain": [
              "(<fastapi.applications.FastAPI at 0x7f1937052cd0>,\n",
              " 'http://127.0.0.1:7860/',\n",
              " 'https://15574.gradio.app')"
            ]
          },
          "metadata": {},
          "execution_count": 38
        }
      ]
    },
    {
      "cell_type": "markdown",
      "source": [
        ""
      ],
      "metadata": {
        "id": "-G4CTYDnmEca"
      }
    },
    {
      "cell_type": "code",
      "source": [
        "import requests\n",
        "import tensorflow as tf\n",
        "\n",
        "import gradio as gr\n",
        "\n",
        "inception_net = tf.keras.applications.MobileNetV2()  # load the model\n",
        "\n",
        "# Download human-readable labels for ImageNet.\n",
        "response = requests.get(\"https://git.io/JJkYN\")\n",
        "labels = response.text.split(\"\\n\")\n",
        "def classify_image(inp):\n",
        "    #print(inp.shape)\n",
        "    #new_img = cv2.resize(inp,(224, 224,3), interpolation = cv2.INTER_CUBIC)\n",
        "    inp = inp.reshape((-1, 224, 224, 3))\n",
        "    inp = tf.keras.applications.mobilenet_v2.preprocess_input(inp)\n",
        "    prediction = inception_net.predict(inp).flatten()\n",
        "    return {labels[i]: float(prediction[i]) for i in range(1000)}\n",
        "\n",
        "image = gr.inputs.Image(shape=(224, 224), source=\"webcam\")\n",
        "label = gr.outputs.Label(num_top_classes=3)\n",
        "\n",
        "gr.Interface(\n",
        "    fn=classify_image, inputs=image, outputs=label, interpretation=\"default\"\n",
        ").launch(debug=True)\n"
      ],
      "metadata": {
        "colab": {
          "base_uri": "https://localhost:8080/",
          "height": 749
        },
        "id": "x2gpznBLmEpy",
        "outputId": "e4d8d986-c75c-47a7-8e67-bca8884c2475"
      },
      "execution_count": null,
      "outputs": [
        {
          "output_type": "stream",
          "name": "stdout",
          "text": [
            "Downloading data from https://storage.googleapis.com/tensorflow/keras-applications/mobilenet_v2/mobilenet_v2_weights_tf_dim_ordering_tf_kernels_1.0_224.h5\n",
            "14540800/14536120 [==============================] - 1s 0us/step\n",
            "14548992/14536120 [==============================] - 1s 0us/step\n",
            "Colab notebook detected. This cell will run indefinitely so that you can see errors and logs. To turn off, set debug=False in launch().\n",
            "Your interface requires microphone or webcam permissions - this may cause issues in Colab. Use the External URL in case of issues.\n",
            "Running on public URL: https://51387.gradio.app\n",
            "\n",
            "This share link expires in 72 hours. For free permanent hosting, check out Spaces (https://huggingface.co/spaces)\n"
          ]
        },
        {
          "output_type": "display_data",
          "data": {
            "text/plain": [
              "<IPython.lib.display.IFrame at 0x7f193536dd50>"
            ],
            "text/html": [
              "\n",
              "        <iframe\n",
              "            width=\"900\"\n",
              "            height=\"500\"\n",
              "            src=\"https://51387.gradio.app\"\n",
              "            frameborder=\"0\"\n",
              "            allowfullscreen\n",
              "        ></iframe>\n",
              "        "
            ]
          },
          "metadata": {}
        },
        {
          "output_type": "stream",
          "name": "stdout",
          "text": [
            "Keyboard interruption in main thread... closing server.\n"
          ]
        },
        {
          "output_type": "execute_result",
          "data": {
            "text/plain": [
              "(<fastapi.applications.FastAPI at 0x7f1937052cd0>,\n",
              " 'http://127.0.0.1:7860/',\n",
              " 'https://51387.gradio.app')"
            ]
          },
          "metadata": {},
          "execution_count": 39
        }
      ]
    }
  ]
}