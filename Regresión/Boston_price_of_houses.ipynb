{
  "nbformat": 4,
  "nbformat_minor": 0,
  "metadata": {
    "colab": {
      "name": "-Boston_price_of houses-2021_blank.ipynb",
      "provenance": [],
      "collapsed_sections": []
    },
    "kernelspec": {
      "display_name": "Python 3",
      "language": "python",
      "name": "python3"
    }
  },
  "cells": [
    {
      "cell_type": "code",
      "metadata": {
        "id": "M6npwLt4pbGw"
      },
      "source": [
        "import pandas as pd\n",
        "import numpy as np\n",
        "from matplotlib import pyplot as plt\n",
        "from IPython.display import display, HTML\n",
        "import matplotlib\n",
        "matplotlib.rcParams.update({'font.size': 12})\n",
        "from sklearn.datasets import load_boston\n",
        "from sklearn.model_selection import train_test_split\n",
        "from sklearn.linear_model import LinearRegression\n",
        "from sklearn.linear_model import Ridge\n",
        "from sklearn.linear_model import Lasso"
      ],
      "execution_count": null,
      "outputs": []
    },
    {
      "cell_type": "markdown",
      "metadata": {
        "collapsed": true,
        "id": "JWK6I16_4wp7"
      },
      "source": [
        "#  Linear Regression\n",
        "\n",
        "\n",
        "## Exercise \n",
        "\n",
        "This dataset contains information collected by the U.S Census Service concerning housing in the area of Boston Mass. It was obtained from the StatLib archive (http://lib.stat.cmu.edu/datasets/boston), and has been used extensively throughout the literature to benchmark algorithms. However, these comparisons were primarily done outside of Delve and are thus somewhat suspect. The dataset is small in size with only 506 cases.\n",
        "\n",
        "Utilizar [LinearRegression](http://scikit-learn.org/stable/modules/generated/sklearn.linear_model.LinearRegression.html)\n",
        "\n",
        "\n",
        "\n"
      ]
    },
    {
      "cell_type": "markdown",
      "metadata": {
        "id": "bxrdul7J15v8"
      },
      "source": [
        "### Understanding Data\n",
        "\n",
        "- CRIM - per capita crime rate by town\n",
        "- ZN - proportion of residential land zoned for lots over 25,000 sq.ft.\n",
        "- INDUS - proportion of non-retail business acres per town.\n",
        "- CHAS - Charles River dummy variable (1 if tract bounds river; 0 otherwise)\n",
        "- NOX - nitric oxides concentration (parts per 10 million)\n",
        "- RM - average number of rooms per dwelling\n",
        "- AGE - proportion of owner-occupied units built prior to 1940\n",
        "- DIS - weighted distances to five Boston employment centres\n",
        "- RAD - index of accessibility to radial highways\n",
        "- TAX - full-value property-tax rate per us\\$10,000\n",
        "- PTRATIO - pupil-teacher ratio by town\n",
        "- B  $1000(Bk - 0.63)^2$ where Bk is the proportion of blacks by town\n",
        "- LSTAT - % lower status of the population\n",
        "- MEDV - Median value of owner-occupied homes in us\\$1000's\n",
        "\n",
        "Descriptive analytics\n",
        "\n",
        "- What questions would you ask to understand the data?\n",
        "- What visualization tools to use?"
      ]
    },
    {
      "cell_type": "code",
      "metadata": {
        "id": "b_97qoUWkLte",
        "colab": {
          "base_uri": "https://localhost:8080/",
          "height": 1000
        },
        "outputId": "08265d3a-3813-4356-bcae-ef323bf0621a"
      },
      "source": [
        "\n",
        "boston=load_boston()\n",
        "boston_df=pd.DataFrame(boston.data,columns=boston.feature_names)\n",
        "\n",
        "print(boston.data.shape) #get (numer of rows, number of columns or 'features')\n",
        "print(boston.DESCR) #get a description of the dataset\n",
        "boston_df.describe()"
      ],
      "execution_count": null,
      "outputs": [
        {
          "output_type": "stream",
          "text": [
            "(506, 13)\n",
            ".. _boston_dataset:\n",
            "\n",
            "Boston house prices dataset\n",
            "---------------------------\n",
            "\n",
            "**Data Set Characteristics:**  \n",
            "\n",
            "    :Number of Instances: 506 \n",
            "\n",
            "    :Number of Attributes: 13 numeric/categorical predictive. Median Value (attribute 14) is usually the target.\n",
            "\n",
            "    :Attribute Information (in order):\n",
            "        - CRIM     per capita crime rate by town\n",
            "        - ZN       proportion of residential land zoned for lots over 25,000 sq.ft.\n",
            "        - INDUS    proportion of non-retail business acres per town\n",
            "        - CHAS     Charles River dummy variable (= 1 if tract bounds river; 0 otherwise)\n",
            "        - NOX      nitric oxides concentration (parts per 10 million)\n",
            "        - RM       average number of rooms per dwelling\n",
            "        - AGE      proportion of owner-occupied units built prior to 1940\n",
            "        - DIS      weighted distances to five Boston employment centres\n",
            "        - RAD      index of accessibility to radial highways\n",
            "        - TAX      full-value property-tax rate per $10,000\n",
            "        - PTRATIO  pupil-teacher ratio by town\n",
            "        - B        1000(Bk - 0.63)^2 where Bk is the proportion of blacks by town\n",
            "        - LSTAT    % lower status of the population\n",
            "        - MEDV     Median value of owner-occupied homes in $1000's\n",
            "\n",
            "    :Missing Attribute Values: None\n",
            "\n",
            "    :Creator: Harrison, D. and Rubinfeld, D.L.\n",
            "\n",
            "This is a copy of UCI ML housing dataset.\n",
            "https://archive.ics.uci.edu/ml/machine-learning-databases/housing/\n",
            "\n",
            "\n",
            "This dataset was taken from the StatLib library which is maintained at Carnegie Mellon University.\n",
            "\n",
            "The Boston house-price data of Harrison, D. and Rubinfeld, D.L. 'Hedonic\n",
            "prices and the demand for clean air', J. Environ. Economics & Management,\n",
            "vol.5, 81-102, 1978.   Used in Belsley, Kuh & Welsch, 'Regression diagnostics\n",
            "...', Wiley, 1980.   N.B. Various transformations are used in the table on\n",
            "pages 244-261 of the latter.\n",
            "\n",
            "The Boston house-price data has been used in many machine learning papers that address regression\n",
            "problems.   \n",
            "     \n",
            ".. topic:: References\n",
            "\n",
            "   - Belsley, Kuh & Welsch, 'Regression diagnostics: Identifying Influential Data and Sources of Collinearity', Wiley, 1980. 244-261.\n",
            "   - Quinlan,R. (1993). Combining Instance-Based and Model-Based Learning. In Proceedings on the Tenth International Conference of Machine Learning, 236-243, University of Massachusetts, Amherst. Morgan Kaufmann.\n",
            "\n"
          ],
          "name": "stdout"
        },
        {
          "output_type": "execute_result",
          "data": {
            "text/html": [
              "<div>\n",
              "<style scoped>\n",
              "    .dataframe tbody tr th:only-of-type {\n",
              "        vertical-align: middle;\n",
              "    }\n",
              "\n",
              "    .dataframe tbody tr th {\n",
              "        vertical-align: top;\n",
              "    }\n",
              "\n",
              "    .dataframe thead th {\n",
              "        text-align: right;\n",
              "    }\n",
              "</style>\n",
              "<table border=\"1\" class=\"dataframe\">\n",
              "  <thead>\n",
              "    <tr style=\"text-align: right;\">\n",
              "      <th></th>\n",
              "      <th>CRIM</th>\n",
              "      <th>ZN</th>\n",
              "      <th>INDUS</th>\n",
              "      <th>CHAS</th>\n",
              "      <th>NOX</th>\n",
              "      <th>RM</th>\n",
              "      <th>AGE</th>\n",
              "      <th>DIS</th>\n",
              "      <th>RAD</th>\n",
              "      <th>TAX</th>\n",
              "      <th>PTRATIO</th>\n",
              "      <th>B</th>\n",
              "      <th>LSTAT</th>\n",
              "    </tr>\n",
              "  </thead>\n",
              "  <tbody>\n",
              "    <tr>\n",
              "      <th>count</th>\n",
              "      <td>506.000000</td>\n",
              "      <td>506.000000</td>\n",
              "      <td>506.000000</td>\n",
              "      <td>506.000000</td>\n",
              "      <td>506.000000</td>\n",
              "      <td>506.000000</td>\n",
              "      <td>506.000000</td>\n",
              "      <td>506.000000</td>\n",
              "      <td>506.000000</td>\n",
              "      <td>506.000000</td>\n",
              "      <td>506.000000</td>\n",
              "      <td>506.000000</td>\n",
              "      <td>506.000000</td>\n",
              "    </tr>\n",
              "    <tr>\n",
              "      <th>mean</th>\n",
              "      <td>3.613524</td>\n",
              "      <td>11.363636</td>\n",
              "      <td>11.136779</td>\n",
              "      <td>0.069170</td>\n",
              "      <td>0.554695</td>\n",
              "      <td>6.284634</td>\n",
              "      <td>68.574901</td>\n",
              "      <td>3.795043</td>\n",
              "      <td>9.549407</td>\n",
              "      <td>408.237154</td>\n",
              "      <td>18.455534</td>\n",
              "      <td>356.674032</td>\n",
              "      <td>12.653063</td>\n",
              "    </tr>\n",
              "    <tr>\n",
              "      <th>std</th>\n",
              "      <td>8.601545</td>\n",
              "      <td>23.322453</td>\n",
              "      <td>6.860353</td>\n",
              "      <td>0.253994</td>\n",
              "      <td>0.115878</td>\n",
              "      <td>0.702617</td>\n",
              "      <td>28.148861</td>\n",
              "      <td>2.105710</td>\n",
              "      <td>8.707259</td>\n",
              "      <td>168.537116</td>\n",
              "      <td>2.164946</td>\n",
              "      <td>91.294864</td>\n",
              "      <td>7.141062</td>\n",
              "    </tr>\n",
              "    <tr>\n",
              "      <th>min</th>\n",
              "      <td>0.006320</td>\n",
              "      <td>0.000000</td>\n",
              "      <td>0.460000</td>\n",
              "      <td>0.000000</td>\n",
              "      <td>0.385000</td>\n",
              "      <td>3.561000</td>\n",
              "      <td>2.900000</td>\n",
              "      <td>1.129600</td>\n",
              "      <td>1.000000</td>\n",
              "      <td>187.000000</td>\n",
              "      <td>12.600000</td>\n",
              "      <td>0.320000</td>\n",
              "      <td>1.730000</td>\n",
              "    </tr>\n",
              "    <tr>\n",
              "      <th>25%</th>\n",
              "      <td>0.082045</td>\n",
              "      <td>0.000000</td>\n",
              "      <td>5.190000</td>\n",
              "      <td>0.000000</td>\n",
              "      <td>0.449000</td>\n",
              "      <td>5.885500</td>\n",
              "      <td>45.025000</td>\n",
              "      <td>2.100175</td>\n",
              "      <td>4.000000</td>\n",
              "      <td>279.000000</td>\n",
              "      <td>17.400000</td>\n",
              "      <td>375.377500</td>\n",
              "      <td>6.950000</td>\n",
              "    </tr>\n",
              "    <tr>\n",
              "      <th>50%</th>\n",
              "      <td>0.256510</td>\n",
              "      <td>0.000000</td>\n",
              "      <td>9.690000</td>\n",
              "      <td>0.000000</td>\n",
              "      <td>0.538000</td>\n",
              "      <td>6.208500</td>\n",
              "      <td>77.500000</td>\n",
              "      <td>3.207450</td>\n",
              "      <td>5.000000</td>\n",
              "      <td>330.000000</td>\n",
              "      <td>19.050000</td>\n",
              "      <td>391.440000</td>\n",
              "      <td>11.360000</td>\n",
              "    </tr>\n",
              "    <tr>\n",
              "      <th>75%</th>\n",
              "      <td>3.677083</td>\n",
              "      <td>12.500000</td>\n",
              "      <td>18.100000</td>\n",
              "      <td>0.000000</td>\n",
              "      <td>0.624000</td>\n",
              "      <td>6.623500</td>\n",
              "      <td>94.075000</td>\n",
              "      <td>5.188425</td>\n",
              "      <td>24.000000</td>\n",
              "      <td>666.000000</td>\n",
              "      <td>20.200000</td>\n",
              "      <td>396.225000</td>\n",
              "      <td>16.955000</td>\n",
              "    </tr>\n",
              "    <tr>\n",
              "      <th>max</th>\n",
              "      <td>88.976200</td>\n",
              "      <td>100.000000</td>\n",
              "      <td>27.740000</td>\n",
              "      <td>1.000000</td>\n",
              "      <td>0.871000</td>\n",
              "      <td>8.780000</td>\n",
              "      <td>100.000000</td>\n",
              "      <td>12.126500</td>\n",
              "      <td>24.000000</td>\n",
              "      <td>711.000000</td>\n",
              "      <td>22.000000</td>\n",
              "      <td>396.900000</td>\n",
              "      <td>37.970000</td>\n",
              "    </tr>\n",
              "  </tbody>\n",
              "</table>\n",
              "</div>"
            ],
            "text/plain": [
              "             CRIM          ZN       INDUS  ...     PTRATIO           B       LSTAT\n",
              "count  506.000000  506.000000  506.000000  ...  506.000000  506.000000  506.000000\n",
              "mean     3.613524   11.363636   11.136779  ...   18.455534  356.674032   12.653063\n",
              "std      8.601545   23.322453    6.860353  ...    2.164946   91.294864    7.141062\n",
              "min      0.006320    0.000000    0.460000  ...   12.600000    0.320000    1.730000\n",
              "25%      0.082045    0.000000    5.190000  ...   17.400000  375.377500    6.950000\n",
              "50%      0.256510    0.000000    9.690000  ...   19.050000  391.440000   11.360000\n",
              "75%      3.677083   12.500000   18.100000  ...   20.200000  396.225000   16.955000\n",
              "max     88.976200  100.000000   27.740000  ...   22.000000  396.900000   37.970000\n",
              "\n",
              "[8 rows x 13 columns]"
            ]
          },
          "metadata": {
            "tags": []
          },
          "execution_count": 11
        }
      ]
    },
    {
      "cell_type": "code",
      "metadata": {
        "id": "OcAjwW9vzCvp",
        "colab": {
          "base_uri": "https://localhost:8080/",
          "height": 633
        },
        "outputId": "b8251d9f-4f61-486c-e965-6159bded38c6"
      },
      "source": [
        "boston_df.plot.box(figsize=(20,10))"
      ],
      "execution_count": null,
      "outputs": [
        {
          "output_type": "execute_result",
          "data": {
            "text/plain": [
              "<matplotlib.axes._subplots.AxesSubplot at 0x7fc6fc912d30>"
            ]
          },
          "metadata": {
            "tags": []
          },
          "execution_count": 3
        },
        {
          "output_type": "display_data",
          "data": {
            "image/png": "[encoded data removed]",
            "text/plain": [
              "<Figure size 1440x720 with 1 Axes>"
            ]
          },
          "metadata": {
            "tags": []
          }
        }
      ]
    },
    {
      "cell_type": "markdown",
      "metadata": {
        "id": "d8SVLsT_g4vY"
      },
      "source": [
        "### Preparing the data\n",
        "\n"
      ]
    },
    {
      "cell_type": "code",
      "metadata": {
        "id": "v2bUqh9Vg4Dh",
        "colab": {
          "base_uri": "https://localhost:8080/",
          "height": 161
        },
        "outputId": "a98fa42d-2d43-46d7-fd5d-650cd2a6906b"
      },
      "source": [
        "# add another column that contains the house prices which in scikit learn datasets are considered as target\n",
        "boston_df['Price']=boston.target\n",
        "boston_df.head(3)"
      ],
      "execution_count": null,
      "outputs": [
        {
          "output_type": "execute_result",
          "data": {
            "text/html": [
              "<div>\n",
              "<style scoped>\n",
              "    .dataframe tbody tr th:only-of-type {\n",
              "        vertical-align: middle;\n",
              "    }\n",
              "\n",
              "    .dataframe tbody tr th {\n",
              "        vertical-align: top;\n",
              "    }\n",
              "\n",
              "    .dataframe thead th {\n",
              "        text-align: right;\n",
              "    }\n",
              "</style>\n",
              "<table border=\"1\" class=\"dataframe\">\n",
              "  <thead>\n",
              "    <tr style=\"text-align: right;\">\n",
              "      <th></th>\n",
              "      <th>CRIM</th>\n",
              "      <th>ZN</th>\n",
              "      <th>INDUS</th>\n",
              "      <th>CHAS</th>\n",
              "      <th>NOX</th>\n",
              "      <th>RM</th>\n",
              "      <th>AGE</th>\n",
              "      <th>DIS</th>\n",
              "      <th>RAD</th>\n",
              "      <th>TAX</th>\n",
              "      <th>PTRATIO</th>\n",
              "      <th>B</th>\n",
              "      <th>LSTAT</th>\n",
              "      <th>Price</th>\n",
              "    </tr>\n",
              "  </thead>\n",
              "  <tbody>\n",
              "    <tr>\n",
              "      <th>0</th>\n",
              "      <td>0.00632</td>\n",
              "      <td>18.0</td>\n",
              "      <td>2.31</td>\n",
              "      <td>0.0</td>\n",
              "      <td>0.538</td>\n",
              "      <td>6.575</td>\n",
              "      <td>65.2</td>\n",
              "      <td>4.0900</td>\n",
              "      <td>1.0</td>\n",
              "      <td>296.0</td>\n",
              "      <td>15.3</td>\n",
              "      <td>396.90</td>\n",
              "      <td>4.98</td>\n",
              "      <td>24.0</td>\n",
              "    </tr>\n",
              "    <tr>\n",
              "      <th>1</th>\n",
              "      <td>0.02731</td>\n",
              "      <td>0.0</td>\n",
              "      <td>7.07</td>\n",
              "      <td>0.0</td>\n",
              "      <td>0.469</td>\n",
              "      <td>6.421</td>\n",
              "      <td>78.9</td>\n",
              "      <td>4.9671</td>\n",
              "      <td>2.0</td>\n",
              "      <td>242.0</td>\n",
              "      <td>17.8</td>\n",
              "      <td>396.90</td>\n",
              "      <td>9.14</td>\n",
              "      <td>21.6</td>\n",
              "    </tr>\n",
              "    <tr>\n",
              "      <th>2</th>\n",
              "      <td>0.02729</td>\n",
              "      <td>0.0</td>\n",
              "      <td>7.07</td>\n",
              "      <td>0.0</td>\n",
              "      <td>0.469</td>\n",
              "      <td>7.185</td>\n",
              "      <td>61.1</td>\n",
              "      <td>4.9671</td>\n",
              "      <td>2.0</td>\n",
              "      <td>242.0</td>\n",
              "      <td>17.8</td>\n",
              "      <td>392.83</td>\n",
              "      <td>4.03</td>\n",
              "      <td>34.7</td>\n",
              "    </tr>\n",
              "  </tbody>\n",
              "</table>\n",
              "</div>"
            ],
            "text/plain": [
              "      CRIM    ZN  INDUS  CHAS    NOX  ...    TAX  PTRATIO       B  LSTAT  Price\n",
              "0  0.00632  18.0   2.31   0.0  0.538  ...  296.0     15.3  396.90   4.98   24.0\n",
              "1  0.02731   0.0   7.07   0.0  0.469  ...  242.0     17.8  396.90   9.14   21.6\n",
              "2  0.02729   0.0   7.07   0.0  0.469  ...  242.0     17.8  392.83   4.03   34.7\n",
              "\n",
              "[3 rows x 14 columns]"
            ]
          },
          "metadata": {
            "tags": []
          },
          "execution_count": 12
        }
      ]
    },
    {
      "cell_type": "markdown",
      "metadata": {
        "id": "8fYJ96VUyKpj"
      },
      "source": [
        "#### Split training and text data\n",
        "\n",
        "Learning the parameters of a prediction function and testing it on the same data is a methodological mistake: a model that would just repeat the labels of the samples that it has just seen would have a perfect score but would fail to predict anything useful on yet-unseen data. This situation is called overfitting. To avoid it, it is common practice when performing a (supervised) machine learning experiment to hold out part of the available data as a test set X_test, y_test. Note that the word “experiment” is not intended to denote academic use only, because even in commercial settings machine learning usually starts out experimentally."
      ]
    },
    {
      "cell_type": "code",
      "metadata": {
        "id": "W2gK7DuPwJ58"
      },
      "source": [
        "\n",
        "# split training and text data\n",
        "X=boston_df.drop('Price',axis=1)\n",
        "y=boston_df['Price']\n",
        "\n",
        "X_train, X_test, y_train, y_test = train_test_split(X, y, test_size=0.25, random_state=1212)"
      ],
      "execution_count": null,
      "outputs": []
    },
    {
      "cell_type": "markdown",
      "metadata": {
        "id": "gfB6jO5ByV80"
      },
      "source": [
        "### Modeling\n",
        "\n",
        "#### Train the model\n",
        "\n",
        "Train the models consist in  make  the optimization to obtain the long memory paramters of the model."
      ]
    },
    {
      "cell_type": "code",
      "metadata": {
        "id": "JXRybOtixmsV",
        "colab": {
          "base_uri": "https://localhost:8080/",
          "height": 442
        },
        "outputId": "78327462-c1ca-426b-c92c-88218d522cc7"
      },
      "source": [
        "# Create linear regressor object (in an array to train all)\n",
        "\n",
        "#TODO: add Lasso Models:$\\alpha = 100$',r'Lasso, $\\alpha = 0.001$',r'Lasso, $\\alpha = 0.7$'\n",
        "names=['Linear Regression',r'Ridge; $\\alpha = 0.01$',r'Ridge; $\\alpha = 100$',r'Lasso, $\\alpha = 0.001$',r'Lasso, $\\alpha = 0.7$']\n",
        "models = [LinearRegression(),Ridge(alpha=0.01),Ridge(alpha=100)]\n",
        "\n",
        "\n",
        "for regr,names in zip(models,names):\n",
        "  regr.fit(X_train, y_train)\n",
        "  # The coefficients\n",
        "  print('model ',name)\n",
        "  print('Coefficients: ', regr.coef_)\n",
        "  print('Intercept: ', regr.intercept_)\n",
        "\n"
      ],
      "execution_count": null,
      "outputs": [
        {
          "output_type": "stream",
          "text": [
            "Coefficients:  [-9.71690750e-02  4.40216888e-02  5.99318110e-02  2.81326767e+00\n",
            " -1.73330120e+01  3.51862631e+00  2.71366690e-03 -1.42521321e+00\n",
            "  3.20482276e-01 -1.44230960e-02 -9.73203538e-01  6.69087758e-03\n",
            " -5.80727844e-01]\n",
            "Intercept:  39.97772554872658\n",
            "Coefficients:  [-9.70964229e-02  4.40379114e-02  5.92963044e-02  2.81097291e+00\n",
            " -1.71879712e+01  3.52060509e+00  2.57075374e-03 -1.42309630e+00\n",
            "  3.20223898e-01 -1.44370238e-02 -9.71479573e-01  6.69450657e-03\n",
            " -5.80908916e-01]\n",
            "Intercept:  39.87013288728727\n",
            "Coefficients:  [-0.08687147  0.05223901 -0.00694598  0.55763387 -0.20509164  2.02124599\n",
            "  0.00556098 -1.0617979   0.34326505 -0.01855334 -0.82678013  0.00636268\n",
            " -0.73149656]\n",
            "Intercept:  39.805626811206196\n",
            "Coefficients:  [-9.69885059e-02  4.40574115e-02  5.85378810e-02  2.79544109e+00\n",
            " -1.70050782e+01  3.52108037e+00  2.43471934e-03 -1.42002823e+00\n",
            "  3.19921969e-01 -1.44563189e-02 -9.69402500e-01  6.70013046e-03\n",
            " -5.81320590e-01]\n",
            "Intercept:  39.747210740705015\n",
            "Coefficients:  [-0.06358425  0.04626833  0.          0.         -0.          1.76703816\n",
            "  0.0136127  -0.79350229  0.2743243  -0.01582701 -0.73572331  0.00622391\n",
            " -0.74797302]\n",
            "Intercept:  37.79602734100446\n"
          ],
          "name": "stdout"
        }
      ]
    },
    {
      "cell_type": "markdown",
      "metadata": {
        "id": "o-zXy7ydFvSI"
      },
      "source": [
        "Understanding the difference"
      ]
    },
    {
      "cell_type": "code",
      "metadata": {
        "id": "tsfMWH17FyM1",
        "colab": {
          "base_uri": "https://localhost:8080/",
          "height": 634
        },
        "outputId": "ce041861-9e86-4480-a4f8-f662e4cc5fd3"
      },
      "source": [
        "\n",
        "markers=['d','o','*','+','<','>']\n",
        "plt.figure(figsize=(20,10))\n",
        "for i in range(0,len(names)):\n",
        "  plt.plot(X.columns,models[i].coef_,alpha=0.7,linestyle='none',marker=markers[i],markersize=5,label=names[i])\n",
        "plt.xlabel('feature',fontsize=16)\n",
        "plt.ylabel('Coefficient Magnitude',fontsize=16)\n",
        "plt.legend(fontsize=13,loc=1)\n",
        "plt.show()\n"
      ],
      "execution_count": null,
      "outputs": [
        {
          "output_type": "display_data",
          "data": {
            "image/png": "[encoded data removed]",
            "text/plain": [
              "<Figure size 1440x720 with 1 Axes>"
            ]
          },
          "metadata": {
            "tags": []
          }
        }
      ]
    },
    {
      "cell_type": "markdown",
      "metadata": {
        "id": "AdUFbMvdsHBL"
      },
      "source": [
        "## Which is the best model?\n",
        "\n",
        "When evaluating different settings (“hyperparameters”) for estimators or differents models, there are the risk of overfitting on the test set because the selection of the model can be tweaked until the estimator performs optimally. This way, knowledge about the test set can “leak” into the model and evaluation metrics no longer report on generalization performance. To solve this problem, yet another part of the dataset can be held out as a so-called “validation set”: training proceeds on the training set, after which evaluation is done on the validation set, and when the experiment seems to be successful, final evaluation can be done on the test set.\n",
        "\n",
        "However, by partitioning the available data into three sets, we drastically reduce the number of samples which can be used for learning the model, and the results can depend on a particular random choice for the pair of (train, validation) sets.\n",
        "\n",
        "A solution to this problem is a procedure called cross-validation (CV for short). A test set should still be held out for final evaluation, but the validation set is no longer needed when doing CV. In the basic approach, called k-fold CV, the training set is split into k smaller sets (other approaches are described below, but generally follow the same principles). "
      ]
    },
    {
      "cell_type": "markdown",
      "metadata": {
        "id": "0dKX5-VwCo9k"
      },
      "source": [
        "Hyper-parameters are parameters that are not directly learnt within estimators. In scikit-learn they are passed as arguments to the constructor of the estimator classes. Typical examples include gamma for Ridge, alpha for Lasso, etc.  It is possible and recommended to search the hyper-parameter space for the best cross validation score.\n",
        "\n",
        "Any parameter provided when constructing an estimator may be optimized in this manner. Specifically, to find the names and current values for all parameters for a given estimator, use:\n",
        "\n",
        "estimator.get_params()\n",
        "\n",
        "Two generic approaches to sampling search candidates are provided in scikit-learn: for given values, [GridSearchCV](https://scikit-learn.org/stable/modules/generated/sklearn.model_selection.GridSearchCV.html#sklearn.model_selection.GridSearchCV) exhaustively considers all parameter combinations, while [RandomizedSearchCV](https://scikit-learn.org/stable/modules/generated/sklearn.model_selection.RandomizedSearchCV.html#sklearn.model_selection.RandomizedSearchCV) can sample a given number of candidates from a parameter space with a specified distribution.\n",
        "\n",
        "[More information](https://scikit-learn.org/stable/modules/grid_search.html)"
      ]
    },
    {
      "cell_type": "code",
      "metadata": {
        "id": "eMi2iioer25q",
        "colab": {
          "base_uri": "https://localhost:8080/",
          "height": 281
        },
        "outputId": "95c70d41-0fac-40dd-e263-f04e70e1268c"
      },
      "source": [
        "\n",
        "from sklearn.model_selection import cross_val_score\n",
        "\n",
        "#from https://scikit-learn.org/stable/modules/model_evaluation.html#scoring-parameter\n",
        "scoring =['explained_variance',\n",
        "          'neg_mean_absolute_error',\n",
        "          'neg_mean_squared_error',\n",
        "          'neg_mean_squared_log_error',\n",
        "          'neg_median_absolute_error',\n",
        "          'r2']\n",
        "\n",
        "#TODO: try differents score, whyis the best?\n",
        "#score?\n",
        "for reg,name in zip(models,names):\n",
        "    scores = cross_val_score(reg, X_train, y_train.ravel(), scoring=score,\n",
        "                            cv=5)\n",
        "    print('--------------------------------------')\n",
        "    print('model {0:20} | score {1:20}'.format(name,score))\n",
        "    print('mean {0:22.2f}| std   {1:<22.2f}'.format(scores.mean(),scores.std()))"
      ],
      "execution_count": null,
      "outputs": [
        {
          "output_type": "stream",
          "text": [
            "--------------------------------------\n",
            "model Linear Regression    | score r2                  \n",
            "mean                   0.71| std   0.04                  \n",
            "--------------------------------------\n",
            "model Ridge; $\\alpha = 0.01$ | score r2                  \n",
            "mean                   0.71| std   0.04                  \n",
            "--------------------------------------\n",
            "model Ridge; $\\alpha = 100$ | score r2                  \n",
            "mean                   0.69| std   0.04                  \n",
            "--------------------------------------\n",
            "model Lasso, $\\alpha = 0.001$ | score r2                  \n",
            "mean                   0.71| std   0.04                  \n",
            "--------------------------------------\n",
            "model Lasso, $\\alpha = 0.7$ | score r2                  \n",
            "mean                   0.68| std   0.04                  \n"
          ],
          "name": "stdout"
        }
      ]
    },
    {
      "cell_type": "markdown",
      "metadata": {
        "id": "y8qPwbu5HJhL"
      },
      "source": [
        "## Exercise (try other models)\n",
        "\n",
        "Try to use [Elastic-NET](https://scikit-learn.org/stable/modules/generated/sklearn.linear_model.ElasticNet.html), [RANSAC](https://scikit-learn.org/stable/modules/generated/sklearn.linear_model.RANSACRegressor.html) and [MLPRegressor](https://scikit-learn.org/stable/modules/generated/sklearn.neural_network.MLPRegressor.html)\n"
      ]
    },
    {
      "cell_type": "code",
      "metadata": {
        "id": "bHb5ZFVGhLOI"
      },
      "source": [
        ""
      ],
      "execution_count": null,
      "outputs": []
    },
    {
      "cell_type": "markdown",
      "metadata": {
        "id": "eYWTnue2yaU-"
      },
      "source": [
        "### Test the Model\n",
        "\n",
        "Can we generalize our model to work good with other data?"
      ]
    },
    {
      "cell_type": "code",
      "metadata": {
        "id": "kYMgc9rEx7_R"
      },
      "source": [
        "from sklearn.metrics import accuracy_score,median_absolute_error\n",
        "from sklearn.metrics import mean_squared_error, mean_absolute_error\n",
        "from sklearn.metrics import r2_score,mean_squared_log_error,explained_variance_score\n",
        "\n",
        "\n",
        "def test_model(X,y_test,regr):\n",
        "  #prediction\n",
        "  y_pred=regr.predict(X)\n",
        "  ##graficas\n",
        "  plt.scatter(y_pred, y_test,  color='black')\n",
        "  plt.xlabel('expected value')\n",
        "  plt.ylabel('Predicted value')\n",
        "  plt.title(\"Predicted Price vs Actual Price: $Y_i$ vs $\\hat{Y}_i$\")\n",
        "  plt.grid(True)\n",
        "  # https://scikit-learn.org/stable/modules/model_evaluation.html#regression-metrics\n",
        "  print('{0:30} | {1:9.2f}'.format('regressor score', regr.score(X,y_test)))\n",
        "  print('{0:30} | {1:9.2f}'.format('Mean squared error', np.mean((y_pred - y_test) ** 2)))\n",
        "  print('{0:30} | {1:9.2f}'.format('mean_squared_error', mean_squared_error(y_test,y_pred)))\n",
        "  print('{0:30} | {1:9.2f}'.format('mean_absolute_error', mean_absolute_error(y_test,y_pred)))\n",
        "  print('{0:30} | {1:9.2f}'.format('median_absolute_error', median_absolute_error(y_test,y_pred)))\n",
        "  print('{0:30} | {1:9.2f}'.format('explained_variance_score', explained_variance_score(y_test,y_pred)))\n",
        "  print('{0:30} | {1:9.2f}'.format('r ^ 2 score', r2_score(y_test,y_pred)))\n",
        "\n",
        "#TODO:  \n",
        "# test_model(X_test,y_test,best_model)"
      ],
      "execution_count": null,
      "outputs": []
    },
    {
      "cell_type": "markdown",
      "metadata": {
        "id": "qjrdArTyy7Wj"
      },
      "source": [
        "### Implementation\n",
        "\n",
        "\n",
        "How it is going to work inside the process and organization?"
      ]
    },
    {
      "cell_type": "code",
      "metadata": {
        "id": "hPxNDlH3y-Z1"
      },
      "source": [
        "\n"
      ],
      "execution_count": null,
      "outputs": []
    },
    {
      "cell_type": "markdown",
      "metadata": {
        "id": "EQsLLexCHb_d"
      },
      "source": [
        "## Ejercicio \n",
        "\n",
        "A partir de la comprensión inicial de los datos de Fasecolda (ejercicio 1) o otro dataset de su elección\n",
        "\n",
        "- ¿cuales serian las mejores variables de entrada para hacer la regresión y porque?\n",
        "- ¿Que otras fuentes de información utilizaría para para mejorar la predicción realizada?\n",
        "\n",
        "- Que transformaciones requiere realizar sobre los datos\n",
        "\n",
        "- Que ejercicio de regresión realizaria ?\n",
        "\n",
        "- Seria util realizar una regresión de Lasso? por que?\n",
        "\n",
        "- ¿que técnicas de visualización o muestra de resultados aplicaría?\n",
        "\n",
        "\n",
        "\n",
        "\n",
        "\n",
        "\n",
        "\n",
        "\n"
      ]
    },
    {
      "cell_type": "code",
      "metadata": {
        "id": "b53rncTcHfLt"
      },
      "source": [
        "# Load CSV using Pandas from URL\n",
        "import pandas as pd\n",
        "from IPython.display import display, HTML\n",
        "\n",
        "data = pd.read_csv('guia_fasecolda.csv')"
      ],
      "execution_count": null,
      "outputs": []
    },
    {
      "cell_type": "markdown",
      "metadata": {
        "id": "Au2IvAlaL8_k"
      },
      "source": [
        "## Presente sus conclusiones sobre regresiones\n",
        "\n",
        "\n",
        "\n",
        "Se recomienda subir el notebook a github\n"
      ]
    }
  ]
}