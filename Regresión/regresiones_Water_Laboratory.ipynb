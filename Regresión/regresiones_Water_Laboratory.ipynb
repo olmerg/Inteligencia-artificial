{
  "nbformat": 4,
  "nbformat_minor": 0,
  "metadata": {
    "colab": {
      "name": "regresiones_Water_Laboratory.ipynb",
      "provenance": [],
      "collapsed_sections": []
    },
    "kernelspec": {
      "display_name": "Python 3",
      "language": "python",
      "name": "python3"
    }
  },
  "cells": [
    {
      "cell_type": "markdown",
      "metadata": {
        "collapsed": true,
        "id": "JWK6I16_4wp7"
      },
      "source": [
        "#  Linear Regression\n",
        "\n",
        "\n",
        "## Exercise (fictitious)\n",
        "\n",
        "Se tiene una serie de mediciones ($x$) de un conductímetro sobre un fluido y las mediciones ($y$) del mismo fluido que al ser analizadas por un espectrómetro de masas en un laboratorio genera la concentración de un elemento químico que determina la calidad del agua. Realizar un algoritmo un programa de ML capaz de estimar la concentración del elemento químico en nuevas muestras.\n",
        "\n",
        "Utilizar [LinearRegression](http://scikit-learn.org/stable/modules/generated/sklearn.linear_model.LinearRegression.html)\n",
        "\n",
        "\n",
        "\n"
      ]
    },
    {
      "cell_type": "markdown",
      "metadata": {
        "id": "bxrdul7J15v8"
      },
      "source": [
        "### Understanding Data\n",
        "\n",
        "Descriptive analytics\n",
        "\n",
        "- What questions would you ask to understand the data?\n",
        "- What visualization tools to use?"
      ]
    },
    {
      "cell_type": "code",
      "metadata": {
        "id": "b_97qoUWkLte",
        "colab": {
          "base_uri": "https://localhost:8080/",
          "height": 807
        },
        "outputId": "93b8ccfe-6e9c-456e-f6bd-166e2f28fd90"
      },
      "source": [
        "import pandas as pd\n",
        "import numpy as np\n",
        "from matplotlib import pyplot as plt\n",
        "from IPython.display import display, HTML\n",
        "\n",
        "\n",
        "# Analisis preliminar de datos\n",
        "\n",
        "df=pd.read_csv('https://docs.google.com/spreadsheets/d/1jWSsUNYeuokmw03_WH2_paQ_o_eo589l5CJ68H2ZJ7o/gviz/tq?tqx=out:csv&sheet=laboratorio_aguas')\n",
        "\n",
        "\n",
        "df[['X','y']].plot.box()\n",
        "df.plot.scatter(x='X',y='y')\n",
        "df.describe()\n",
        "#plt.savefig('scatter.pdf',format='pdf')\n"
      ],
      "execution_count": null,
      "outputs": [
        {
          "output_type": "execute_result",
          "data": {
            "text/html": [
              "<div>\n",
              "<style scoped>\n",
              "    .dataframe tbody tr th:only-of-type {\n",
              "        vertical-align: middle;\n",
              "    }\n",
              "\n",
              "    .dataframe tbody tr th {\n",
              "        vertical-align: top;\n",
              "    }\n",
              "\n",
              "    .dataframe thead th {\n",
              "        text-align: right;\n",
              "    }\n",
              "</style>\n",
              "<table border=\"1\" class=\"dataframe\">\n",
              "  <thead>\n",
              "    <tr style=\"text-align: right;\">\n",
              "      <th></th>\n",
              "      <th>sample</th>\n",
              "      <th>X</th>\n",
              "      <th>y</th>\n",
              "    </tr>\n",
              "  </thead>\n",
              "  <tbody>\n",
              "    <tr>\n",
              "      <th>count</th>\n",
              "      <td>4000.000000</td>\n",
              "      <td>4000.000000</td>\n",
              "      <td>4000.000000</td>\n",
              "    </tr>\n",
              "    <tr>\n",
              "      <th>mean</th>\n",
              "      <td>1999.500000</td>\n",
              "      <td>-0.005000</td>\n",
              "      <td>32.158520</td>\n",
              "    </tr>\n",
              "    <tr>\n",
              "      <th>std</th>\n",
              "      <td>1154.844867</td>\n",
              "      <td>11.548449</td>\n",
              "      <td>22.767042</td>\n",
              "    </tr>\n",
              "    <tr>\n",
              "      <th>min</th>\n",
              "      <td>0.000000</td>\n",
              "      <td>-20.000000</td>\n",
              "      <td>-150.000000</td>\n",
              "    </tr>\n",
              "    <tr>\n",
              "      <th>25%</th>\n",
              "      <td>999.750000</td>\n",
              "      <td>-10.002500</td>\n",
              "      <td>14.446465</td>\n",
              "    </tr>\n",
              "    <tr>\n",
              "      <th>50%</th>\n",
              "      <td>1999.500000</td>\n",
              "      <td>-0.005000</td>\n",
              "      <td>31.890758</td>\n",
              "    </tr>\n",
              "    <tr>\n",
              "      <th>75%</th>\n",
              "      <td>2999.250000</td>\n",
              "      <td>9.992500</td>\n",
              "      <td>50.354628</td>\n",
              "    </tr>\n",
              "    <tr>\n",
              "      <th>max</th>\n",
              "      <td>3999.000000</td>\n",
              "      <td>19.990000</td>\n",
              "      <td>73.684404</td>\n",
              "    </tr>\n",
              "  </tbody>\n",
              "</table>\n",
              "</div>"
            ],
            "text/plain": [
              "            sample            X            y\n",
              "count  4000.000000  4000.000000  4000.000000\n",
              "mean   1999.500000    -0.005000    32.158520\n",
              "std    1154.844867    11.548449    22.767042\n",
              "min       0.000000   -20.000000  -150.000000\n",
              "25%     999.750000   -10.002500    14.446465\n",
              "50%    1999.500000    -0.005000    31.890758\n",
              "75%    2999.250000     9.992500    50.354628\n",
              "max    3999.000000    19.990000    73.684404"
            ]
          },
          "metadata": {
            "tags": []
          },
          "execution_count": 2
        },
        {
          "output_type": "display_data",
          "data": {
            "image/png": "[encoded data removed]",
            "text/plain": [
              "<Figure size 432x288 with 1 Axes>"
            ]
          },
          "metadata": {
            "tags": [],
            "needs_background": "light"
          }
        },
        {
          "output_type": "display_data",
          "data": {
            "image/png": "[encoded data removed]",
            "text/plain": [
              "<Figure size 432x288 with 1 Axes>"
            ]
          },
          "metadata": {
            "tags": [],
            "needs_background": "light"
          }
        }
      ]
    },
    {
      "cell_type": "markdown",
      "metadata": {
        "id": "d8SVLsT_g4vY"
      },
      "source": [
        "### Preparing the data\n",
        "\n",
        "\n",
        "**Clean Data**\n",
        "\n",
        "What Happen with the Outlier at -150?\n",
        "\n",
        "When machine give  -150.0 is because there occur some problem over the experiment"
      ]
    },
    {
      "cell_type": "code",
      "metadata": {
        "id": "v2bUqh9Vg4Dh",
        "colab": {
          "base_uri": "https://localhost:8080/",
          "height": 296
        },
        "outputId": "f2c1c0b2-fea6-454d-d02c-f7e9db96bce0"
      },
      "source": [
        "\n",
        "#TODO: remove the outlier\n",
        "new_data=df\n",
        "new_data.plot.scatter(x='X',y='y')\n"
      ],
      "execution_count": null,
      "outputs": [
        {
          "output_type": "execute_result",
          "data": {
            "text/plain": [
              "<matplotlib.axes._subplots.AxesSubplot at 0x7f042061d2e8>"
            ]
          },
          "metadata": {
            "tags": []
          },
          "execution_count": 3
        },
        {
          "output_type": "display_data",
          "data": {
            "image/png": "[encoded data removed]",
            "text/plain": [
              "<Figure size 432x288 with 1 Axes>"
            ]
          },
          "metadata": {
            "tags": [],
            "needs_background": "light"
          }
        }
      ]
    },
    {
      "cell_type": "markdown",
      "metadata": {
        "id": "8fYJ96VUyKpj"
      },
      "source": [
        "#### Split training and text data\n",
        "\n",
        "Learning the parameters of a prediction function and testing it on the same data is a methodological mistake: a model that would just repeat the labels of the samples that it has just seen would have a perfect score but would fail to predict anything useful on yet-unseen data. This situation is called overfitting. To avoid it, it is common practice when performing a (supervised) machine learning experiment to hold out part of the available data as a test set X_test, y_test. Note that the word “experiment” is not intended to denote academic use only, because even in commercial settings machine learning usually starts out experimentally."
      ]
    },
    {
      "cell_type": "code",
      "metadata": {
        "id": "W2gK7DuPwJ58"
      },
      "source": [
        "from sklearn import linear_model\n",
        "from sklearn.model_selection import train_test_split\n",
        "# split training and text data\n",
        "X=new_data['X'].values.reshape(-1,1)\n",
        "y=new_data['y'].values.reshape(-1,1)\n",
        "#TODO: use train_test_split\n",
        "X_train, X_test, y_train, y_test = 0,0,0,0\n",
        "\n"
      ],
      "execution_count": null,
      "outputs": []
    },
    {
      "cell_type": "code",
      "metadata": {
        "colab": {
          "base_uri": "https://localhost:8080/"
        },
        "id": "bm4tjdh6smV7",
        "outputId": "e1febfcf-2ced-40e6-dcde-6c97d12d193d"
      },
      "source": [
        "X_train.shape"
      ],
      "execution_count": null,
      "outputs": [
        {
          "output_type": "execute_result",
          "data": {
            "text/plain": [
              "(3192, 1)"
            ]
          },
          "metadata": {
            "tags": []
          },
          "execution_count": 7
        }
      ]
    },
    {
      "cell_type": "markdown",
      "metadata": {
        "id": "gfB6jO5ByV80"
      },
      "source": [
        "### Modeling\n",
        "\n"
      ]
    },
    {
      "cell_type": "markdown",
      "metadata": {
        "id": "WpZz3MRDH1Gq"
      },
      "source": [
        "First we are going to do the algorithm by numpy and then we will review the libraries\n",
        "\n",
        "#### Train the model (numpy analytical)\n",
        "\n"
      ]
    },
    {
      "cell_type": "code",
      "metadata": {
        "id": "QZVFGMDuI3P0"
      },
      "source": [
        "n=X_train.shape[0]\n",
        "uno=np.ones((n,1))\n",
        "Phi=np.concatenate((X_train,uno), axis=1)"
      ],
      "execution_count": null,
      "outputs": []
    },
    {
      "cell_type": "markdown",
      "metadata": {
        "id": "o6DwSI8jtBTd"
      },
      "source": [
        "$$\\theta=(\\Phi^T \\Phi )^{-1}\\Phi^T y$$"
      ]
    },
    {
      "cell_type": "code",
      "metadata": {
        "colab": {
          "base_uri": "https://localhost:8080/"
        },
        "id": "v6N9XjNpH1ad",
        "outputId": "bfd19e12-cf9e-4bb2-a008-c7d0da5a1ea7"
      },
      "source": [
        "##TODO use np.matmul,np.linalg.inv and the formula (\\Phi'\\Phi)^-1\\Phi'y_train\n",
        "theta= 0\n",
        "theta"
      ],
      "execution_count": null,
      "outputs": [
        {
          "output_type": "execute_result",
          "data": {
            "text/plain": [
              "array([[ 1.80357831],\n",
              "       [32.59926942]])"
            ]
          },
          "metadata": {
            "tags": []
          },
          "execution_count": 8
        }
      ]
    },
    {
      "cell_type": "markdown",
      "metadata": {
        "id": "rGVxa9OMonQ_"
      },
      "source": [
        "#### Train the model (Numerical approximaton)\n",
        "\n",
        "Normally the optimization process (Learning process) is does not have analytical solution, so numerical methods should be used to obtain the minimum or maxima of the cost function. The first approximation is the gradient descent algorithm, which change the estimated parameters $\\theta$ proportional to the gradient of the cost function\n",
        "\n",
        "\n",
        "![graphic](https://alykhantejani.github.io/images/gradient_descent_line_graph.gif) \n",
        "\n",
        "\n",
        "[texto del vínculo](https://)\n",
        "\n",
        "---\n",
        "**for** *i* in range(max_iterations)<br/>\n",
        "&nbsp;&nbsp;  $c_i=cost(\\Phi,\\hat{\\theta},y)$<br/>\n",
        "&nbsp;&nbsp;  **if** $c_i-c_{i-1}<$tolerance<br/>\n",
        "&nbsp;&nbsp;&nbsp;&nbsp;&nbsp;&nbsp;    exit<br/>\n",
        "&nbsp;&nbsp;  **else**<br/>\n",
        "&nbsp;&nbsp;&nbsp;&nbsp;&nbsp;&nbsp;   $\\hat{\\theta}-=\\alpha.gradient(\\Phi,\\hat{\\theta},y$) \n",
        "\n",
        "---\n",
        "\n",
        "Like  our function is a **Linear Function**\n",
        "$$ \\hat{\\mathbf{y}}=\\Phi\\hat{\\theta} $$\n",
        "The functions are:\n",
        "\n",
        "**Cost Function**\n",
        "$$ Cost=\\mathbf{V}=\\frac{1}{n}\\left(\\mathbf{y}-\\hat{\\mathbf{y}}\\right)^{T}\\left(\\mathbf{y}-\\hat{\\mathbf{y}}\\right)$$\n",
        "**Gradient cost function**\n",
        "\n",
        "$$Gradient=\\frac{d\\mathbf{V}}{d\\theta}=\\frac{2}{n}\\Phi^{T}\\left(\\hat{\\mathbf{y}}-\\mathbf{y}\\right)$$\n",
        "\n",
        "*max_iterations*, *tolerance* and $alpha$ are hyperparameters.\n"
      ]
    },
    {
      "cell_type": "code",
      "metadata": {
        "id": "F6BS6Rm6PtOv"
      },
      "source": [
        "import numpy as np\n",
        "def linear_regressor(Phi,theta):\n",
        "  return np.matmul(Phi,theta)"
      ],
      "execution_count": null,
      "outputs": []
    },
    {
      "cell_type": "code",
      "metadata": {
        "id": "7rGSuKkTRNFW"
      },
      "source": [
        "def fit_params(Phi, y, theta,learning_rate = 0.5e-2,tol=1e-5,max_iterations=10000):\n",
        "    #TODO: implement the cost and gradient functions\n",
        "    costs = [np.inf]\n",
        "    n=Phi.shape[0]\n",
        "    for i in range(0, max_iterations):\n",
        "        y_hat=linear_regressor(Phi,theta)  \n",
        "        my_cost = 0    \n",
        "        if abs(my_cost - costs[-1]) < tol:\n",
        "            break\n",
        "        else:\n",
        "            my_gradient = 0\n",
        "            theta = theta - learning_rate * my_gradient\n",
        "            costs.append(my_cost)           \n",
        "    return theta, costs"
      ],
      "execution_count": null,
      "outputs": []
    },
    {
      "cell_type": "code",
      "metadata": {
        "colab": {
          "base_uri": "https://localhost:8080/"
        },
        "id": "lZWwgY3TUGSq",
        "outputId": "66e9f8cd-de7b-45b4-e03b-bd915f165dad"
      },
      "source": [
        "new_t = np.random.normal(size=(2,1 )).astype(np.float32)\n",
        "print(new_t)\n",
        "theta_hat, outcost = fit_params(Phi,y_train,new_t,learning_rate = .5e-2)\n",
        "theta_hat"
      ],
      "execution_count": null,
      "outputs": [
        {
          "output_type": "stream",
          "text": [
            "[[1.6860559 ]\n",
            " [0.16799425]]\n"
          ],
          "name": "stdout"
        },
        {
          "output_type": "execute_result",
          "data": {
            "text/plain": [
              "array([[ 1.8035966 ],\n",
              "       [32.57727022]])"
            ]
          },
          "metadata": {
            "tags": []
          },
          "execution_count": 36
        }
      ]
    },
    {
      "cell_type": "code",
      "metadata": {
        "colab": {
          "base_uri": "https://localhost:8080/",
          "height": 298
        },
        "id": "Vn3KEFI8gBo3",
        "outputId": "28ad72b7-9141-47ee-9ed0-bd0b1feacbb6"
      },
      "source": [
        "import matplotlib.pyplot as plt\n",
        "\n",
        "plt.plot(outcost)\n",
        "plt.title('cost function')"
      ],
      "execution_count": null,
      "outputs": [
        {
          "output_type": "execute_result",
          "data": {
            "text/plain": [
              "Text(0.5, 1.0, 'cost function')"
            ]
          },
          "metadata": {
            "tags": []
          },
          "execution_count": 35
        },
        {
          "output_type": "display_data",
          "data": {
            "image/png": "[encoded data removed]",
            "text/plain": [
              "<Figure size 432x288 with 1 Axes>"
            ]
          },
          "metadata": {
            "tags": [],
            "needs_background": "light"
          }
        }
      ]
    },
    {
      "cell_type": "markdown",
      "metadata": {
        "id": "na__Fvx3H0Hp"
      },
      "source": [
        "#### Train the model (scikit-learn)\n",
        "\n",
        "Train the model consist in  make  the optimization to obtain the long memory paramters of the model."
      ]
    },
    {
      "cell_type": "code",
      "metadata": {
        "id": "JXRybOtixmsV",
        "colab": {
          "base_uri": "https://localhost:8080/"
        },
        "outputId": "fdec96a5-8eae-4cf6-f8a6-7248897c128b"
      },
      "source": [
        "# Create linear regression object\n",
        "regr = linear_model.LinearRegression()\n",
        "\n",
        "# Train the model using the training sets (function fit)\n",
        "\n",
        "\n",
        "# The coefficients\n",
        "print('Coefficients: ', regr.coef_)\n",
        "print('Intercept: ', regr.intercept_)"
      ],
      "execution_count": null,
      "outputs": [
        {
          "output_type": "stream",
          "text": [
            "Coefficients:  [[1.80357831]]\n",
            "Intercept:  [32.59926942]\n"
          ],
          "name": "stdout"
        }
      ]
    },
    {
      "cell_type": "markdown",
      "metadata": {
        "id": "eYWTnue2yaU-"
      },
      "source": [
        "#### Test the Model\n",
        "\n",
        "Can we generalize our model to work good with other data?"
      ]
    },
    {
      "cell_type": "code",
      "metadata": {
        "id": "kYMgc9rEx7_R",
        "colab": {
          "base_uri": "https://localhost:8080/",
          "height": 398
        },
        "outputId": "1941d2a9-6c74-4384-f6a1-369190a22f2f"
      },
      "source": [
        "from sklearn.metrics import accuracy_score,median_absolute_error\n",
        "from sklearn.metrics import mean_squared_error, mean_absolute_error\n",
        "from sklearn.metrics import r2_score,mean_squared_log_error,explained_variance_score\n",
        "\n",
        "\n",
        "def test_model(X,y_test,regr):\n",
        "  #prediction\n",
        "  y_pred=regr.predict(X)\n",
        "  ##graficas\n",
        "\n",
        "  plt.scatter(X, y_test,  color='black')\n",
        "  plt.plot(X, y_pred, color='blue',linewidth=3)\n",
        "  plt.xlabel('input')\n",
        "  plt.ylabel('output')\n",
        "\n",
        "\n",
        " \n",
        "  print('{0:30} | {1:9.2f}'.format('regressor score', regr.score(X,y_test)))\n",
        "  print('{0:30} | {1:9.2f}'.format('Mean squared error', np.mean((y_pred - y_test) ** 2)))\n",
        "  #TODO: use the regression metrics function to calculate the validity of the model\n",
        "  # https://scikit-learn.org/stable/modules/model_evaluation.html#regression-metrics\n",
        "\n",
        "  \n",
        "test_model(X_test,y_test,regr)"
      ],
      "execution_count": null,
      "outputs": [
        {
          "output_type": "stream",
          "text": [
            "regressor score                |      0.99\n",
            "Mean squared error             |      4.17\n",
            "mean_squared_error             |      4.17\n",
            "mean_absolute_error            |      1.63\n",
            "median_absolute_error          |      1.38\n",
            "explained_variance_score       |      0.99\n",
            "r ^ 2 score                    |      0.99\n"
          ],
          "name": "stdout"
        },
        {
          "output_type": "display_data",
          "data": {
            "image/png": "[encoded data removed]",
            "text/plain": [
              "<Figure size 432x288 with 1 Axes>"
            ]
          },
          "metadata": {
            "tags": [],
            "needs_background": "light"
          }
        }
      ]
    },
    {
      "cell_type": "markdown",
      "metadata": {
        "id": "qjrdArTyy7Wj"
      },
      "source": [
        "### Implementation\n",
        "\n",
        "\n",
        "How it is going to work inside the process and organization?"
      ]
    },
    {
      "cell_type": "code",
      "metadata": {
        "id": "hPxNDlH3y-Z1"
      },
      "source": [
        "def conversor(x):\n",
        "  return regr.predict(x)"
      ],
      "execution_count": null,
      "outputs": []
    },
    {
      "cell_type": "markdown",
      "metadata": {
        "id": "O1sjCSRm0Zu7"
      },
      "source": [
        "**Version 2** Using [persistence](https://scikit-learn.org/stable/tutorial/basic/tutorial.html#model-persistence).\n",
        "\n",
        "Other way to generate persistence is to send the parameters of the models ``regr.coef_`` and ``regr.intercept_``, but some models has many parameters."
      ]
    },
    {
      "cell_type": "code",
      "metadata": {
        "id": "Rn2Y2U760bv1"
      },
      "source": [
        "#saving the model (just one time after training)\n",
        "import pickle #for save the model\n",
        "\n",
        "name_file='water_lab.pkl'\n",
        "myfile = open(name_file, 'wb')\n",
        "pickle.dump(regr,myfile)\n",
        "myfile.close()\n"
      ],
      "execution_count": null,
      "outputs": []
    },
    {
      "cell_type": "code",
      "metadata": {
        "id": "nHyyXA8705aj",
        "colab": {
          "base_uri": "https://localhost:8080/"
        },
        "outputId": "2d080974-c051-4687-907e-bf4456faa589"
      },
      "source": [
        "import pickle #for save the model\n",
        "def conversor(x,model_file):\n",
        "  # load the model with the trained model \n",
        "  ## example, this function can be a web server in django \n",
        "  new_file = open(model_file, 'rb')\n",
        "  clf2 = pickle.load(new_file)\n",
        "  #TODO: use predict of the regressor\n",
        "  y_=0\n",
        "  return y_\n",
        "\n",
        "y_=conversor(np.array([5]).reshape(1,1),'water_lab.pkl')\n",
        "# after this point a lot of data engineering would be required...\n",
        "y_[0][0]"
      ],
      "execution_count": null,
      "outputs": [
        {
          "output_type": "execute_result",
          "data": {
            "text/plain": [
              "41.617160994774935"
            ]
          },
          "metadata": {
            "tags": []
          },
          "execution_count": 13
        }
      ]
    },
    {
      "cell_type": "code",
      "metadata": {
        "colab": {
          "base_uri": "https://localhost:8080/"
        },
        "id": "K9fJKdWd2Zwj",
        "outputId": "616365df-8ec2-41c9-948d-177101542162"
      },
      "source": [
        "!pip install flask-ngrok"
      ],
      "execution_count": null,
      "outputs": [
        {
          "output_type": "stream",
          "text": [
            "Collecting flask-ngrok\n",
            "  Downloading https://files.pythonhosted.org/packages/af/6c/f54cb686ad1129e27d125d182f90f52b32f284e6c8df58c1bae54fa1adbc/flask_ngrok-0.0.25-py3-none-any.whl\n",
            "Requirement already satisfied: requests in /usr/local/lib/python3.6/dist-packages (from flask-ngrok) (2.23.0)\n",
            "Requirement already satisfied: Flask>=0.8 in /usr/local/lib/python3.6/dist-packages (from flask-ngrok) (1.1.2)\n",
            "Requirement already satisfied: chardet<4,>=3.0.2 in /usr/local/lib/python3.6/dist-packages (from requests->flask-ngrok) (3.0.4)\n",
            "Requirement already satisfied: idna<3,>=2.5 in /usr/local/lib/python3.6/dist-packages (from requests->flask-ngrok) (2.10)\n",
            "Requirement already satisfied: urllib3!=1.25.0,!=1.25.1,<1.26,>=1.21.1 in /usr/local/lib/python3.6/dist-packages (from requests->flask-ngrok) (1.24.3)\n",
            "Requirement already satisfied: certifi>=2017.4.17 in /usr/local/lib/python3.6/dist-packages (from requests->flask-ngrok) (2020.12.5)\n",
            "Requirement already satisfied: click>=5.1 in /usr/local/lib/python3.6/dist-packages (from Flask>=0.8->flask-ngrok) (7.1.2)\n",
            "Requirement already satisfied: itsdangerous>=0.24 in /usr/local/lib/python3.6/dist-packages (from Flask>=0.8->flask-ngrok) (1.1.0)\n",
            "Requirement already satisfied: Werkzeug>=0.15 in /usr/local/lib/python3.6/dist-packages (from Flask>=0.8->flask-ngrok) (1.0.1)\n",
            "Requirement already satisfied: Jinja2>=2.10.1 in /usr/local/lib/python3.6/dist-packages (from Flask>=0.8->flask-ngrok) (2.11.3)\n",
            "Requirement already satisfied: MarkupSafe>=0.23 in /usr/local/lib/python3.6/dist-packages (from Jinja2>=2.10.1->Flask>=0.8->flask-ngrok) (1.1.1)\n",
            "Installing collected packages: flask-ngrok\n",
            "Successfully installed flask-ngrok-0.0.25\n"
          ],
          "name": "stdout"
        }
      ]
    },
    {
      "cell_type": "code",
      "metadata": {
        "colab": {
          "base_uri": "https://localhost:8080/"
        },
        "id": "P8xoQLvN2uny",
        "outputId": "27984f39-9a7e-44bc-f8a4-56c9c901f29b"
      },
      "source": [
        "from flask_ngrok import run_with_ngrok\n",
        "from flask import Flask\n",
        "from flask import request, jsonify\n",
        "import pickle\n",
        "\n",
        "model_file='water_lab.pkl'\n",
        "new_file = open(model_file, 'rb')\n",
        "clf2 = pickle.load(new_file)\n",
        "app = Flask(__name__)\n",
        "\n",
        "run_with_ngrok(app)   #starts ngrok when the app is run\n",
        "@app.route(\"/\")\n",
        "def home():\n",
        "    return '<h1>This is an api of our machine learning model!</h1> Try api/lab?x=5. <a href=\"api/lab?x=5\">example</a>'\n",
        "\n",
        "@app.route('/api/lab', methods=['GET'])\n",
        "def api_id():\n",
        "    # Check if an x was provided as part of the URL.\n",
        "    if 'x' in request.args:\n",
        "        x = int(request.args['x'])\n",
        "    else:\n",
        "        return \"Error: No id field provided. Please specify the value x.\"\n",
        "    a=clf2.predict(np.array([x]).reshape(1,1))[0][0]\n",
        "    return jsonify(a)\n",
        "app.run()"
      ],
      "execution_count": null,
      "outputs": [
        {
          "output_type": "stream",
          "text": [
            " * Serving Flask app \"__main__\" (lazy loading)\n",
            " * Environment: production\n",
            "\u001b[31m   WARNING: This is a development server. Do not use it in a production deployment.\u001b[0m\n",
            "\u001b[2m   Use a production WSGI server instead.\u001b[0m\n",
            " * Debug mode: off\n"
          ],
          "name": "stdout"
        },
        {
          "output_type": "stream",
          "text": [
            " * Running on http://127.0.0.1:5000/ (Press CTRL+C to quit)\n"
          ],
          "name": "stderr"
        },
        {
          "output_type": "stream",
          "text": [
            " * Running on http://0e764cfec22a.ngrok.io\n",
            " * Traffic stats available on http://127.0.0.1:4040\n"
          ],
          "name": "stdout"
        },
        {
          "output_type": "stream",
          "text": [
            "127.0.0.1 - - [17/Feb/2021 03:07:26] \"\u001b[37mGET / HTTP/1.1\u001b[0m\" 200 -\n",
            "127.0.0.1 - - [17/Feb/2021 03:07:26] \"\u001b[33mGET /favicon.ico HTTP/1.1\u001b[0m\" 404 -\n",
            "127.0.0.1 - - [17/Feb/2021 03:07:28] \"\u001b[37mGET /api/lab?x=5 HTTP/1.1\u001b[0m\" 200 -\n",
            "127.0.0.1 - - [17/Feb/2021 03:09:59] \"\u001b[37mGET / HTTP/1.1\u001b[0m\" 200 -\n",
            "127.0.0.1 - - [17/Feb/2021 03:10:01] \"\u001b[37mGET /api/lab?x=5 HTTP/1.1\u001b[0m\" 200 -\n"
          ],
          "name": "stderr"
        }
      ]
    },
    {
      "cell_type": "markdown",
      "metadata": {
        "id": "TITnOtC73zsh"
      },
      "source": [
        "## Is the better solution to use a linear regressor?\n",
        "\n",
        "When evaluating different settings (“hyperparameters”) for estimators or differents estimators, there are the risk of overfitting on the test set because the selection of the model can be tweaked until the estimator performs optimally. This way, knowledge about the test set can “leak” into the model and evaluation metrics no longer report on generalization performance. To solve this problem, yet another part of the dataset can be held out as a so-called “validation set”: training proceeds on the training set, after which evaluation is done on the validation set, and when the experiment seems to be successful, final evaluation can be done on the test set.\n",
        "\n",
        "However, by partitioning the available data into three sets, we drastically reduce the number of samples which can be used for learning the model, and the results can depend on a particular random choice for the pair of (train, validation) sets.\n",
        "\n",
        "A solution to this problem is a procedure called cross-validation (CV for short). A test set should still be held out for final evaluation, but the validation set is no longer needed when doing CV. In the basic approach, called k-fold CV, the training set is split into k smaller sets (other approaches are described below, but generally follow the same principles). \n",
        "\n",
        "\n",
        "**Exercise**\n",
        "\n",
        "Cambiar el metodo de scoring y usar diferents tipos de regresores.\n"
      ]
    },
    {
      "cell_type": "code",
      "metadata": {
        "id": "OrsJoPFS5nb3",
        "colab": {
          "base_uri": "https://localhost:8080/",
          "height": 295
        },
        "outputId": "0e01c7c0-882a-4bba-9272-c6f92d56ac07"
      },
      "source": [
        "from sklearn.neural_network import MLPRegressor\n",
        "from sklearn.model_selection import cross_val_score\n",
        "\n",
        "\n",
        "regressors = [linear_model.LinearRegression(),linear_model.Ridge(alpha=.7),\n",
        "              MLPRegressor(hidden_layer_sizes=(22,100,),activation='relu',max_iter=100000),\n",
        "              linear_model.RANSACRegressor(random_state=0)]\n",
        "names = ['lineal','ridge 0.7','MLP','RANSAC']\n",
        "#from https://scikit-learn.org/stable/modules/model_evaluation.html#scoring-parameter\n",
        "scoring =['explained_variance',\n",
        "          'neg_mean_absolute_error',\n",
        "          'neg_mean_squared_error',\n",
        "          'neg_mean_squared_log_error',\n",
        "          'neg_median_absolute_error',\n",
        "          'r2']\n",
        "\n",
        "\n",
        "\n",
        "for reg,name in zip(regressors,names):\n",
        "    scores = cross_val_score(reg, X_train, y_train.ravel(), scoring=scoring[5],\n",
        "                            cv=5)\n",
        "    print('--------------------------------------')\n",
        "    print('model {0:20} | score {1:20}'.format(name,scoring[5]))\n",
        "    print('mean {0:22.2f}| std   {1:<22.2f}'.format(scores.mean(),scores.std()))\n",
        "    print(\"Accuracy(95.7%): {0:23.2f} (+/- {1:.2f})\" .format(scores.mean(), scores.std() * 2))\n",
        "    \n"
      ],
      "execution_count": null,
      "outputs": [
        {
          "output_type": "stream",
          "text": [
            "--------------------------------------\n",
            "model lineal               | score r2                  \n",
            "mean                   0.42| std   0.06                  \n",
            "Accuracy(95.7%):                    0.42 (+/- 0.12)\n",
            "--------------------------------------\n",
            "model ridge 0.7            | score r2                  \n",
            "mean                   0.42| std   0.06                  \n",
            "Accuracy(95.7%):                    0.42 (+/- 0.12)\n",
            "--------------------------------------\n",
            "model MLP                  | score r2                  \n",
            "mean                   0.42| std   0.06                  \n",
            "Accuracy(95.7%):                    0.42 (+/- 0.12)\n",
            "--------------------------------------\n",
            "model RANSAC               | score r2                  \n",
            "mean                   0.39| std   0.07                  \n",
            "Accuracy(95.7%):                    0.39 (+/- 0.14)\n"
          ],
          "name": "stdout"
        }
      ]
    },
    {
      "cell_type": "code",
      "metadata": {
        "id": "cJArZzma6Ys_"
      },
      "source": [
        "    \n",
        "#after this point repeat test and implementation process whith the best model.\n",
        "model=regressors[2].fit(X_train,y_train.ravel())\n",
        "test_model(X_test,y_test,model)"
      ],
      "execution_count": null,
      "outputs": []
    },
    {
      "cell_type": "markdown",
      "metadata": {
        "id": "EQsLLexCHb_d"
      },
      "source": [
        "## Now use other dataset\n",
        "\n",
        "Present conclusions and try to use differents techinques of visualization!!\n",
        "- [UC Irvine Machine Learning Repository](https://archive.ics.uci.edu/ml/index.php)\n",
        "- [Kaggle](https://www.kaggle.com/datasets)\n",
        "- other of your preferrence\n"
      ]
    },
    {
      "cell_type": "code",
      "metadata": {
        "id": "b53rncTcHfLt"
      },
      "source": [
        "# Load CSV using Pandas from URL\n",
        "import pandas as pd\n",
        "from IPython.display import display, HTML\n",
        "\n",
        "data = "
      ],
      "execution_count": null,
      "outputs": []
    }
  ]
}
